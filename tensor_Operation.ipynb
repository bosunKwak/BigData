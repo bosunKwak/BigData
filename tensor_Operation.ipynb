{
  "nbformat": 4,
  "nbformat_minor": 0,
  "metadata": {
    "colab": {
      "name": "tensor_Operation.ipynb",
      "provenance": [],
      "collapsed_sections": [],
      "authorship_tag": "ABX9TyMwGmccbf167vvZzOZSDi/p",
      "include_colab_link": true
    },
    "kernelspec": {
      "name": "python3",
      "display_name": "Python 3"
    },
    "language_info": {
      "name": "python"
    }
  },
  "cells": [
    {
      "cell_type": "markdown",
      "metadata": {
        "id": "view-in-github",
        "colab_type": "text"
      },
      "source": [
        "<a href=\"https://colab.research.google.com/github/bosunKwak/BigData/blob/main/tensor_Operation.ipynb\" target=\"_parent\"><img src=\"https://colab.research.google.com/assets/colab-badge.svg\" alt=\"Open In Colab\"/></a>"
      ]
    },
    {
      "cell_type": "markdown",
      "source": [
        "# Tensor Operation for Mathematics"
      ],
      "metadata": {
        "id": "NmWWsyOMqzuR"
      }
    },
    {
      "cell_type": "markdown",
      "source": [
        "## 1. Basic Math"
      ],
      "metadata": {
        "id": "UC-Ulqbuq5_z"
      }
    },
    {
      "cell_type": "code",
      "execution_count": 7,
      "metadata": {
        "colab": {
          "base_uri": "https://localhost:8080/"
        },
        "id": "1Bdn5wNppxel",
        "outputId": "6c28bc5c-4014-4b90-e562-c2bc73f41fe8"
      },
      "outputs": [
        {
          "output_type": "stream",
          "name": "stdout",
          "text": [
            "tensor([[3, 9],\n",
            "        [3, 6]])\n",
            "tensor([[7, 8],\n",
            "        [3, 8]])\n"
          ]
        }
      ],
      "source": [
        "import torch\n",
        "\n",
        "a = torch.randint(0,10,(2,2))\n",
        "b = torch.randint(0,10,(2,2))\n",
        "\n",
        "print(a)\n",
        "print(b)"
      ]
    },
    {
      "cell_type": "code",
      "source": [
        "torch.add(a,b)"
      ],
      "metadata": {
        "colab": {
          "base_uri": "https://localhost:8080/"
        },
        "id": "Zk4bnEQ9p-g7",
        "outputId": "89976659-c914-41c2-c6e5-6f4de46d0106"
      },
      "execution_count": 8,
      "outputs": [
        {
          "output_type": "execute_result",
          "data": {
            "text/plain": [
              "tensor([[10, 17],\n",
              "        [ 6, 14]])"
            ]
          },
          "metadata": {},
          "execution_count": 8
        }
      ]
    },
    {
      "cell_type": "code",
      "source": [
        "torch.div(a,b)\n",
        "# inf 나오면 무한대"
      ],
      "metadata": {
        "colab": {
          "base_uri": "https://localhost:8080/"
        },
        "id": "lF-rznhVqEho",
        "outputId": "0e81b283-aa7d-4059-fe3f-5e0299dc3414"
      },
      "execution_count": 11,
      "outputs": [
        {
          "output_type": "execute_result",
          "data": {
            "text/plain": [
              "tensor([[0.4286, 1.1250],\n",
              "        [1.0000, 0.7500]])"
            ]
          },
          "metadata": {},
          "execution_count": 11
        }
      ]
    },
    {
      "cell_type": "code",
      "source": [
        "torch.mul(a,b)"
      ],
      "metadata": {
        "colab": {
          "base_uri": "https://localhost:8080/"
        },
        "id": "5cwAI162qTUI",
        "outputId": "0a82db60-2fe6-4a7a-a99e-4fdd1be8a10d"
      },
      "execution_count": 12,
      "outputs": [
        {
          "output_type": "execute_result",
          "data": {
            "text/plain": [
              "tensor([[21, 72],\n",
              "        [ 9, 48]])"
            ]
          },
          "metadata": {},
          "execution_count": 12
        }
      ]
    },
    {
      "cell_type": "code",
      "source": [
        "# (-1)곱\n",
        "torch.neg(a)"
      ],
      "metadata": {
        "colab": {
          "base_uri": "https://localhost:8080/"
        },
        "id": "YQ2FlK2cqVOc",
        "outputId": "6e57ce41-fb4e-4d6e-be01-6c8ed9edd3ad"
      },
      "execution_count": 13,
      "outputs": [
        {
          "output_type": "execute_result",
          "data": {
            "text/plain": [
              "tensor([[-3, -9],\n",
              "        [-3, -6]])"
            ]
          },
          "metadata": {},
          "execution_count": 13
        }
      ]
    },
    {
      "cell_type": "code",
      "source": [
        "# 역수\n",
        "torch.reciprocal(a)"
      ],
      "metadata": {
        "colab": {
          "base_uri": "https://localhost:8080/"
        },
        "id": "pHdqV9DVqYy2",
        "outputId": "5c13e765-baf3-4b46-da5b-6293b4887ae5"
      },
      "execution_count": 15,
      "outputs": [
        {
          "output_type": "execute_result",
          "data": {
            "text/plain": [
              "tensor([[0.3333, 0.1111],\n",
              "        [0.3333, 0.1667]])"
            ]
          },
          "metadata": {},
          "execution_count": 15
        }
      ]
    },
    {
      "cell_type": "markdown",
      "source": [
        "## 2. Truncation"
      ],
      "metadata": {
        "id": "efSz0WE6q8uJ"
      }
    },
    {
      "cell_type": "code",
      "source": [
        "a = torch.randn(1)\n",
        "b = torch.randn(1)\n",
        "print(a)\n",
        "print(b)"
      ],
      "metadata": {
        "colab": {
          "base_uri": "https://localhost:8080/"
        },
        "id": "mxhXZMsErFIl",
        "outputId": "454841c2-6941-4232-e9e0-8d3956081e8a"
      },
      "execution_count": 30,
      "outputs": [
        {
          "output_type": "stream",
          "name": "stdout",
          "text": [
            "tensor([1.2150])\n",
            "tensor([1.7218])\n"
          ]
        }
      ]
    },
    {
      "cell_type": "code",
      "source": [
        "# 올림\n",
        "torch.ceil(a)"
      ],
      "metadata": {
        "colab": {
          "base_uri": "https://localhost:8080/"
        },
        "id": "fo7RJHMvq_ZU",
        "outputId": "8bdc77b2-e9cc-41b9-b843-20c634a945cc"
      },
      "execution_count": 33,
      "outputs": [
        {
          "output_type": "execute_result",
          "data": {
            "text/plain": [
              "tensor([2.])"
            ]
          },
          "metadata": {},
          "execution_count": 33
        }
      ]
    },
    {
      "cell_type": "code",
      "source": [
        "# 가장 큰 정수\n",
        "torch.floor(b)"
      ],
      "metadata": {
        "colab": {
          "base_uri": "https://localhost:8080/"
        },
        "id": "lL-FU0dnrSSW",
        "outputId": "5758d38a-044f-4ea1-ba4a-deccc2dcada7"
      },
      "execution_count": 34,
      "outputs": [
        {
          "output_type": "execute_result",
          "data": {
            "text/plain": [
              "tensor([1.])"
            ]
          },
          "metadata": {},
          "execution_count": 34
        }
      ]
    },
    {
      "cell_type": "code",
      "source": [
        "# 나머지\n",
        "torch.remainder(a,1)"
      ],
      "metadata": {
        "colab": {
          "base_uri": "https://localhost:8080/"
        },
        "id": "fezE2df8r1dD",
        "outputId": "36265f12-dcda-4f69-d5fc-ae99ef1847df"
      },
      "execution_count": 36,
      "outputs": [
        {
          "output_type": "execute_result",
          "data": {
            "text/plain": [
              "tensor([0.2150])"
            ]
          },
          "metadata": {},
          "execution_count": 36
        }
      ]
    },
    {
      "cell_type": "code",
      "source": [
        "# 반올림\n",
        "torch.round(a)"
      ],
      "metadata": {
        "colab": {
          "base_uri": "https://localhost:8080/"
        },
        "id": "fb7aANbmr9h2",
        "outputId": "7f78b341-5901-43af-807b-e34f9ea2d6fa"
      },
      "execution_count": 37,
      "outputs": [
        {
          "output_type": "execute_result",
          "data": {
            "text/plain": [
              "tensor([1.])"
            ]
          },
          "metadata": {},
          "execution_count": 37
        }
      ]
    },
    {
      "cell_type": "code",
      "source": [
        "# 소수점 버리기\n",
        "torch.trunc(a)"
      ],
      "metadata": {
        "colab": {
          "base_uri": "https://localhost:8080/"
        },
        "id": "kY1m_Yq9sByD",
        "outputId": "23818557-74b2-442c-badb-7da7dc1d5cb5"
      },
      "execution_count": 39,
      "outputs": [
        {
          "output_type": "execute_result",
          "data": {
            "text/plain": [
              "tensor([1.])"
            ]
          },
          "metadata": {},
          "execution_count": 39
        }
      ]
    },
    {
      "cell_type": "markdown",
      "source": [
        "## 3. Trigonometry"
      ],
      "metadata": {
        "id": "TuU92bp8sAiC"
      }
    },
    {
      "cell_type": "code",
      "source": [
        "# sin() cos()"
      ],
      "metadata": {
        "id": "To_Fs-s2sI5n"
      },
      "execution_count": null,
      "outputs": []
    },
    {
      "cell_type": "markdown",
      "source": [
        "## 4. Exponents and logarithms"
      ],
      "metadata": {
        "id": "cC2qcW_asMKA"
      }
    },
    {
      "cell_type": "code",
      "source": [
        "# exp(), log(), log10(), square() : 제곱"
      ],
      "metadata": {
        "id": "WoAnmD_hsQLn"
      },
      "execution_count": null,
      "outputs": []
    },
    {
      "cell_type": "code",
      "source": [
        "a = torch.tensor(2)\n",
        "b = torch.tensor(3)\n",
        "print(a)\n",
        "print(b)"
      ],
      "metadata": {
        "colab": {
          "base_uri": "https://localhost:8080/"
        },
        "id": "7KIzzfA-sbf-",
        "outputId": "48217da8-f480-4825-c6e0-5f745cc959c0"
      },
      "execution_count": 40,
      "outputs": [
        {
          "output_type": "stream",
          "name": "stdout",
          "text": [
            "tensor(2)\n",
            "tensor(3)\n"
          ]
        }
      ]
    },
    {
      "cell_type": "code",
      "source": [
        "pow(2,3) # 2^3"
      ],
      "metadata": {
        "colab": {
          "base_uri": "https://localhost:8080/"
        },
        "id": "fuOEHx7Ishov",
        "outputId": "55dd2b4f-f055-43c6-cdf3-5afc3a8007ca"
      },
      "execution_count": 41,
      "outputs": [
        {
          "output_type": "execute_result",
          "data": {
            "text/plain": [
              "8"
            ]
          },
          "metadata": {},
          "execution_count": 41
        }
      ]
    },
    {
      "cell_type": "code",
      "source": [
        "torch.sqrt(a) # root"
      ],
      "metadata": {
        "colab": {
          "base_uri": "https://localhost:8080/"
        },
        "id": "D8pMwuJ3suz9",
        "outputId": "a650785b-9ef8-4c46-8f1a-657f7c296af1"
      },
      "execution_count": 42,
      "outputs": [
        {
          "output_type": "execute_result",
          "data": {
            "text/plain": [
              "tensor(1.4142)"
            ]
          },
          "metadata": {},
          "execution_count": 42
        }
      ]
    },
    {
      "cell_type": "markdown",
      "source": [
        "## 5. Other"
      ],
      "metadata": {
        "id": "E4fXMQkqsVg-"
      }
    },
    {
      "cell_type": "code",
      "source": [
        "# 절대값\n",
        "torch.abs(a)"
      ],
      "metadata": {
        "colab": {
          "base_uri": "https://localhost:8080/"
        },
        "id": "LV_pShces99U",
        "outputId": "7665af06-9fd3-40f4-ac68-c0c4a3d592ab"
      },
      "execution_count": 43,
      "outputs": [
        {
          "output_type": "execute_result",
          "data": {
            "text/plain": [
              "tensor(2)"
            ]
          },
          "metadata": {},
          "execution_count": 43
        }
      ]
    }
  ]
}