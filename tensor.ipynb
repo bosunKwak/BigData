{
  "nbformat": 4,
  "nbformat_minor": 0,
  "metadata": {
    "colab": {
      "name": "tensor.ipynb",
      "provenance": [],
      "collapsed_sections": [],
      "authorship_tag": "ABX9TyOVWpdeu4RBc8kd7wtXDNEm",
      "include_colab_link": true
    },
    "kernelspec": {
      "name": "python3",
      "display_name": "Python 3"
    },
    "language_info": {
      "name": "python"
    },
    "accelerator": "GPU"
  },
  "cells": [
    {
      "cell_type": "markdown",
      "metadata": {
        "id": "view-in-github",
        "colab_type": "text"
      },
      "source": [
        "<a href=\"https://colab.research.google.com/github/bosunKwak/BigData/blob/main/tensor.ipynb\" target=\"_parent\"><img src=\"https://colab.research.google.com/assets/colab-badge.svg\" alt=\"Open In Colab\"/></a>"
      ]
    },
    {
      "cell_type": "markdown",
      "source": [
        "# Simple CPU/GPU Example"
      ],
      "metadata": {
        "id": "t2GR-SZMgOhL"
      }
    },
    {
      "cell_type": "code",
      "execution_count": 4,
      "metadata": {
        "colab": {
          "base_uri": "https://localhost:8080/"
        },
        "id": "ZmVT4MXje6Uo",
        "outputId": "9b116e7b-87bb-48e4-a8ca-a0321b955e44"
      },
      "outputs": [
        {
          "output_type": "stream",
          "name": "stdout",
          "text": [
            "tensor([[ 8, 10, 12],\n",
            "        [14, 16, 18]])\n",
            "torch.Size([2, 3])\n"
          ]
        }
      ],
      "source": [
        "import torch\n",
        "\n",
        "x = torch.tensor([[1,2,3],[4,5,6]])\n",
        "y = torch.tensor([[7,8,9],[10,11,12]])\n",
        "z = x+y\n",
        "# 더할때는 차원이 같아야함\n",
        "\n",
        "print(z)\n",
        "# tensor([[ 8, 10, 12],\n",
        "#         [14, 16, 18]])\n",
        "print(z.size())\n",
        "# torch.Size([2, 3])"
      ]
    },
    {
      "cell_type": "code",
      "source": [
        "import torch\n",
        "\n",
        "device = \"cuda\" if torch.cuda.is_available() else \"cpu\"\n",
        "x = torch.tensor([[1,2,3],[4,5,6]], device = device)\n",
        "y = torch.tensor([[7,8,9],[10,11,12]], device = device)\n",
        "z = x+y\n",
        "\n",
        "print(z)\n",
        "# tensor([[ 8, 10, 12],\n",
        "#         [14, 16, 18]])\n",
        "print(z.size())\n",
        "# torch.Size([2, 3])\n",
        "print(z.device)\n",
        "# CPU 환경 : cpu 출력\n",
        "# GPU 환경 : "
      ],
      "metadata": {
        "colab": {
          "base_uri": "https://localhost:8080/"
        },
        "id": "St7Cq_7gfKr3",
        "outputId": "283ad3e5-77f4-4876-f3bc-f1b304a08f16"
      },
      "execution_count": 1,
      "outputs": [
        {
          "output_type": "stream",
          "name": "stdout",
          "text": [
            "tensor([[ 8, 10, 12],\n",
            "        [14, 16, 18]], device='cuda:0')\n",
            "torch.Size([2, 3])\n",
            "cuda:0\n"
          ]
        }
      ]
    },
    {
      "cell_type": "markdown",
      "source": [
        "# Moving Tensors Between CPUs and GPUs"
      ],
      "metadata": {
        "id": "SLvNGpMGghhQ"
      }
    },
    {
      "cell_type": "code",
      "source": [
        "device = \"cuda\" if torch.cuda.is_available() else \"cpu\"\n",
        "x = x.to(device)\n",
        "y = y.to(device)\n",
        "z = x+y\n",
        "z = z.to(\"cpu\")\n",
        "\n",
        "print(z)\n",
        "print(z.size())\n",
        "print(z.device)"
      ],
      "metadata": {
        "colab": {
          "base_uri": "https://localhost:8080/"
        },
        "id": "yYReQQjcgEab",
        "outputId": "59e34011-82c7-4999-9209-033c18bd4485"
      },
      "execution_count": 2,
      "outputs": [
        {
          "output_type": "stream",
          "name": "stdout",
          "text": [
            "tensor([[ 8, 10, 12],\n",
            "        [14, 16, 18]])\n",
            "torch.Size([2, 3])\n",
            "cpu\n"
          ]
        }
      ]
    },
    {
      "cell_type": "markdown",
      "source": [
        "# Creating Tensors"
      ],
      "metadata": {
        "id": "EZl3_2ysg2w5"
      }
    },
    {
      "cell_type": "code",
      "source": [
        "import numpy\n",
        "\n",
        "# Created from pre-existing arryas\n",
        "w = torch.tensor([1,2,3]) # From a list\n",
        "print(w)\n",
        "w = torch.tensor((1,2,3)) # From a tuple\n",
        "print(w)\n",
        "w = torch.tensor(numpy.array([1,2,3])) # From a NumPy array\n",
        "print(w)\n",
        "\n",
        "# Initialized by size\n",
        "w = torch.empty(100,200) # Uninitialized\n",
        "print(w)\n",
        "w = torch.zeros(100,200) # All elements initialized with 0.0\n",
        "print(w)\n",
        "w = torch.ones(100,200) # All elements initialized with 1.0\n",
        "print(w)"
      ],
      "metadata": {
        "colab": {
          "base_uri": "https://localhost:8080/"
        },
        "id": "WRAw4oPKg4cA",
        "outputId": "a2fe1c3a-b473-41f5-8dc5-39dc366a8026"
      },
      "execution_count": 4,
      "outputs": [
        {
          "output_type": "stream",
          "name": "stdout",
          "text": [
            "tensor([1, 2, 3])\n",
            "tensor([1, 2, 3])\n",
            "tensor([1, 2, 3])\n",
            "tensor([[-1.9380e-17,  3.0715e-41,  5.7397e-42,  ...,         nan,\n",
            "          7.2293e-37,         nan],\n",
            "        [ 6.1090e-34,  2.3040e-36,  3.5412e-37,  ...,  9.0278e-35,\n",
            "                 nan,  6.2081e-38],\n",
            "        [ 1.4326e-38,  1.7633e-38,  7.1927e-34,  ...,  7.5242e-36,\n",
            "          1.7454e-34,  1.7756e-34],\n",
            "        ...,\n",
            "        [ 7.4473e-40,  1.7488e-42,  5.3586e-42,  ...,  1.1020e-39,\n",
            "          1.6473e-39,  1.1103e-39],\n",
            "        [ 0.0000e+00,  7.3469e-40,  1.6473e-39,  ...,  2.1412e-42,\n",
            "          2.3430e-42,  2.5672e-42],\n",
            "        [ 2.9147e-42,  3.1165e-42,  3.3071e-42,  ...,  1.5919e-42,\n",
            "          1.6031e-42,  1.6255e-42]])\n",
            "tensor([[0., 0., 0.,  ..., 0., 0., 0.],\n",
            "        [0., 0., 0.,  ..., 0., 0., 0.],\n",
            "        [0., 0., 0.,  ..., 0., 0., 0.],\n",
            "        ...,\n",
            "        [0., 0., 0.,  ..., 0., 0., 0.],\n",
            "        [0., 0., 0.,  ..., 0., 0., 0.],\n",
            "        [0., 0., 0.,  ..., 0., 0., 0.]])\n",
            "tensor([[1., 1., 1.,  ..., 1., 1., 1.],\n",
            "        [1., 1., 1.,  ..., 1., 1., 1.],\n",
            "        [1., 1., 1.,  ..., 1., 1., 1.],\n",
            "        ...,\n",
            "        [1., 1., 1.,  ..., 1., 1., 1.],\n",
            "        [1., 1., 1.,  ..., 1., 1., 1.],\n",
            "        [1., 1., 1.,  ..., 1., 1., 1.]])\n"
          ]
        }
      ]
    },
    {
      "cell_type": "markdown",
      "source": [
        "## Random 하게 만드는 방법"
      ],
      "metadata": {
        "id": "1JOPlU3rimTP"
      }
    },
    {
      "cell_type": "markdown",
      "source": [
        "### 1. Initialized by size with random values"
      ],
      "metadata": {
        "id": "ubFMgcOSiryS"
      }
    },
    {
      "cell_type": "code",
      "source": [
        "w = torch.rand(100,200) # From a uniform distribution on the interval[0,1]\n",
        "print(w)\n",
        "w = torch.randn(100,200) # From a normal distribution(mean = 0, variance=1)\n",
        "print(w)\n",
        "w = torch.randint(5,10,(100,200)) #Random integer between 5 and 10\n",
        "print(w)"
      ],
      "metadata": {
        "colab": {
          "base_uri": "https://localhost:8080/"
        },
        "id": "z4eGq4MOiOo7",
        "outputId": "4141fb15-731c-47d2-a5ac-04ec68211c67"
      },
      "execution_count": 5,
      "outputs": [
        {
          "output_type": "stream",
          "name": "stdout",
          "text": [
            "tensor([[0.9343, 0.1731, 0.7107,  ..., 0.0439, 0.1085, 0.2669],\n",
            "        [0.2547, 0.3280, 0.5041,  ..., 0.9993, 0.7357, 0.8573],\n",
            "        [0.2046, 0.1942, 0.4954,  ..., 0.1933, 0.3430, 0.6789],\n",
            "        ...,\n",
            "        [0.2160, 0.1510, 0.6325,  ..., 0.5057, 0.2622, 0.6129],\n",
            "        [0.9525, 0.9305, 0.1362,  ..., 0.7900, 0.6940, 0.2256],\n",
            "        [0.1485, 0.4753, 0.3492,  ..., 0.7329, 0.4615, 0.1926]])\n",
            "tensor([[-0.5567,  0.1274, -1.4172,  ...,  0.0668,  1.0390, -0.5681],\n",
            "        [ 1.0545,  1.2075, -1.0458,  ..., -0.1685, -0.8832,  0.0947],\n",
            "        [ 0.7096, -0.2058, -0.4848,  ...,  0.4136,  0.6625,  0.8333],\n",
            "        ...,\n",
            "        [-1.6109,  0.4153, -1.8152,  ...,  1.1100,  1.8253,  0.8960],\n",
            "        [-0.5086, -0.9900,  1.3358,  ...,  0.4703, -0.5274,  1.0229],\n",
            "        [-0.6383,  1.1349, -0.5477,  ..., -1.3295,  0.2669,  0.0956]])\n",
            "tensor([[6, 9, 7,  ..., 7, 8, 5],\n",
            "        [8, 5, 9,  ..., 7, 9, 8],\n",
            "        [7, 5, 8,  ..., 8, 8, 5],\n",
            "        ...,\n",
            "        [8, 6, 7,  ..., 7, 8, 6],\n",
            "        [6, 9, 9,  ..., 8, 6, 6],\n",
            "        [8, 9, 7,  ..., 5, 7, 7]])\n"
          ]
        }
      ]
    },
    {
      "cell_type": "markdown",
      "source": [
        "### 2. Initialized with specified data type or device"
      ],
      "metadata": {
        "id": "-bxvydhYi-jO"
      }
    },
    {
      "cell_type": "code",
      "source": [
        "w = torch.empty((100,200),dtype = torch.float64,device=\"cuda\")\n",
        "print(w)"
      ],
      "metadata": {
        "colab": {
          "base_uri": "https://localhost:8080/"
        },
        "id": "MQNEuFaxjLln",
        "outputId": "4f36af3d-70ce-441b-e00b-8a88f6a71be2"
      },
      "execution_count": 6,
      "outputs": [
        {
          "output_type": "stream",
          "name": "stdout",
          "text": [
            "tensor([[3.9525e-323, 4.9407e-323, 5.9288e-323,  ...,  0.0000e+00,\n",
            "          0.0000e+00,  0.0000e+00],\n",
            "        [ 0.0000e+00,  0.0000e+00,  0.0000e+00,  ...,  0.0000e+00,\n",
            "          0.0000e+00,  0.0000e+00],\n",
            "        [ 0.0000e+00,  0.0000e+00,  0.0000e+00,  ...,  0.0000e+00,\n",
            "          0.0000e+00,  0.0000e+00],\n",
            "        ...,\n",
            "        [ 0.0000e+00,  0.0000e+00,  0.0000e+00,  ...,  0.0000e+00,\n",
            "          0.0000e+00,  0.0000e+00],\n",
            "        [ 0.0000e+00,  0.0000e+00,  0.0000e+00,  ...,  0.0000e+00,\n",
            "          0.0000e+00,  0.0000e+00],\n",
            "        [ 0.0000e+00,  0.0000e+00,  0.0000e+00,  ...,  0.0000e+00,\n",
            "          0.0000e+00,  0.0000e+00]], device='cuda:0', dtype=torch.float64)\n"
          ]
        }
      ]
    },
    {
      "cell_type": "markdown",
      "source": [
        "### 3. Initialized to have same size, data type, and device as another tensor"
      ],
      "metadata": {
        "id": "e-jvpSuLjQ8I"
      }
    },
    {
      "cell_type": "code",
      "source": [
        "x = torch.empty_like(w)\n",
        "print(w)\n",
        "print(x)"
      ],
      "metadata": {
        "colab": {
          "base_uri": "https://localhost:8080/"
        },
        "id": "IPGTY5yOjXW-",
        "outputId": "2f9000cd-c9ba-4cef-f835-e4e5fefa1b4d"
      },
      "execution_count": 9,
      "outputs": [
        {
          "output_type": "stream",
          "name": "stdout",
          "text": [
            "tensor([[3.9525e-323, 4.9407e-323, 5.9288e-323,  ...,  0.0000e+00,\n",
            "          0.0000e+00,  0.0000e+00],\n",
            "        [ 0.0000e+00,  0.0000e+00,  0.0000e+00,  ...,  0.0000e+00,\n",
            "          0.0000e+00,  0.0000e+00],\n",
            "        [ 0.0000e+00,  0.0000e+00,  0.0000e+00,  ...,  0.0000e+00,\n",
            "          0.0000e+00,  0.0000e+00],\n",
            "        ...,\n",
            "        [ 0.0000e+00,  0.0000e+00,  0.0000e+00,  ...,  0.0000e+00,\n",
            "          0.0000e+00,  0.0000e+00],\n",
            "        [ 0.0000e+00,  0.0000e+00,  0.0000e+00,  ...,  0.0000e+00,\n",
            "          0.0000e+00,  0.0000e+00],\n",
            "        [ 0.0000e+00,  0.0000e+00,  0.0000e+00,  ...,  0.0000e+00,\n",
            "          0.0000e+00,  0.0000e+00]], device='cuda:0', dtype=torch.float64)\n",
            "tensor([[3.9525e-323, 4.9407e-323, 5.9288e-323,  ...,  0.0000e+00,\n",
            "          0.0000e+00,  0.0000e+00],\n",
            "        [ 0.0000e+00,  0.0000e+00,  0.0000e+00,  ...,  0.0000e+00,\n",
            "          0.0000e+00,  0.0000e+00],\n",
            "        [ 0.0000e+00,  0.0000e+00,  0.0000e+00,  ...,  0.0000e+00,\n",
            "          0.0000e+00,  0.0000e+00],\n",
            "        ...,\n",
            "        [ 0.0000e+00,  0.0000e+00,  0.0000e+00,  ...,  0.0000e+00,\n",
            "          0.0000e+00,  0.0000e+00],\n",
            "        [ 0.0000e+00,  0.0000e+00,  0.0000e+00,  ...,  0.0000e+00,\n",
            "          0.0000e+00,  0.0000e+00],\n",
            "        [ 0.0000e+00,  0.0000e+00,  0.0000e+00,  ...,  0.0000e+00,\n",
            "          0.0000e+00,  0.0000e+00]], device='cuda:0', dtype=torch.float64)\n"
          ]
        }
      ]
    },
    {
      "cell_type": "markdown",
      "source": [
        "# Data type"
      ],
      "metadata": {
        "id": "lUAnB5Omjxpy"
      }
    },
    {
      "cell_type": "code",
      "source": [
        "# Specify data type at creation using dtype\n",
        "w = torch.tensor([1,2,3], dtype=torch.float32)\n",
        "\n",
        "# Using casting method to cast to a new data type\n",
        "w.int() # w remains a float32 after cast\n",
        "w = w.int() # w changes to int32 after cast\n",
        "# add vs add_ : _는 in-place operation으로 바로 반영해주는 것\n",
        "\n",
        "# Use to() method to cast to a new type\n",
        "w = w.to(torch.float64) \n",
        "w = w.to(dtype = torch.float64)\n",
        "\n",
        "# Python automatically converts data types during operations\n",
        "x = torch.tensor([1,2,3], dtype = torch.int32)\n",
        "y = torch.tensor([1,2,3], dtype = torch.float32)\n",
        "z = x + y\n",
        "print(z.dtype)"
      ],
      "metadata": {
        "colab": {
          "base_uri": "https://localhost:8080/"
        },
        "id": "-RZpKn1sj33T",
        "outputId": "fd9e2ae4-fe50-46bd-cbed-3108b7ecfe7c"
      },
      "execution_count": 12,
      "outputs": [
        {
          "output_type": "stream",
          "name": "stdout",
          "text": [
            "torch.float32\n"
          ]
        }
      ]
    },
    {
      "cell_type": "markdown",
      "source": [
        "# Tensor Operation"
      ],
      "metadata": {
        "id": "JAkgeXZjlHq5"
      }
    },
    {
      "cell_type": "code",
      "source": [
        "x = torch.tensor([[1,2],[3,4],[5,6],[7,8]])\n",
        "print(x)"
      ],
      "metadata": {
        "colab": {
          "base_uri": "https://localhost:8080/"
        },
        "id": "8wQ1lRaflJft",
        "outputId": "ace441fc-2d61-4a51-84a2-a4e80f093b5f"
      },
      "execution_count": 17,
      "outputs": [
        {
          "output_type": "stream",
          "name": "stdout",
          "text": [
            "tensor([[1, 2],\n",
            "        [3, 4],\n",
            "        [5, 6],\n",
            "        [7, 8]])\n"
          ]
        }
      ]
    },
    {
      "cell_type": "markdown",
      "source": [
        "## 1. Indexing"
      ],
      "metadata": {
        "id": "l3iH8H7zlll8"
      }
    },
    {
      "cell_type": "code",
      "source": [
        "# Indexing, returns a tensor\n",
        "print(x[1,1])\n",
        "\n",
        "# Indexing, returns value as Python number\n",
        "print(x[1,1].item())"
      ],
      "metadata": {
        "colab": {
          "base_uri": "https://localhost:8080/"
        },
        "id": "C7VFkhlGlq10",
        "outputId": "593e70b8-13bd-4f15-9664-d8413d7d0009"
      },
      "execution_count": 18,
      "outputs": [
        {
          "output_type": "stream",
          "name": "stdout",
          "text": [
            "tensor(4)\n",
            "4\n"
          ]
        }
      ]
    },
    {
      "cell_type": "markdown",
      "source": [
        "## 2. Slicing"
      ],
      "metadata": {
        "id": "h_qWGWZUlrt4"
      }
    },
    {
      "cell_type": "code",
      "source": [
        "#[start:end:step]\n",
        "print(x[:2,1])\n",
        "\n",
        "# Boolean indexing\n",
        "print(x[x<5]) # 전체 값을 비교해야하는 단점"
      ],
      "metadata": {
        "colab": {
          "base_uri": "https://localhost:8080/"
        },
        "id": "qSVP2S37ltxx",
        "outputId": "d58cd114-c52b-48d0-a917-ff3098bb5288"
      },
      "execution_count": 19,
      "outputs": [
        {
          "output_type": "stream",
          "name": "stdout",
          "text": [
            "tensor([2, 4])\n",
            "tensor([1, 2, 3, 4])\n"
          ]
        }
      ]
    },
    {
      "cell_type": "markdown",
      "source": [
        "## 3. Transposing and reshaping"
      ],
      "metadata": {
        "id": "lTL6i-3MmB0H"
      }
    },
    {
      "cell_type": "code",
      "source": [
        "# Transpose array, x.t() or x.T can be used\n",
        "# 4x2차원 -> 2x4차원\n",
        "print(x.t())\n",
        "\n",
        "#Changing shape, Usually view() is preferred over reshape()\n",
        "print(x.view(4,2))"
      ],
      "metadata": {
        "colab": {
          "base_uri": "https://localhost:8080/"
        },
        "id": "A4NsCAsXmFG0",
        "outputId": "f2d16af6-81bf-405e-b95a-274a98496943"
      },
      "execution_count": 21,
      "outputs": [
        {
          "output_type": "stream",
          "name": "stdout",
          "text": [
            "tensor([[1, 3, 5, 7],\n",
            "        [2, 4, 6, 8]])\n",
            "tensor([[1, 2],\n",
            "        [3, 4],\n",
            "        [5, 6],\n",
            "        [7, 8]])\n"
          ]
        }
      ]
    },
    {
      "cell_type": "markdown",
      "source": [
        "## 4. Combining"
      ],
      "metadata": {
        "id": "JICLYoIEmY_T"
      }
    },
    {
      "cell_type": "code",
      "source": [
        "## stack\n",
        "y = torch.stack((x, x))\n",
        "print(y)"
      ],
      "metadata": {
        "colab": {
          "base_uri": "https://localhost:8080/"
        },
        "id": "Zke93XvhmbKq",
        "outputId": "735084a5-aa1c-4e18-dd13-d4b3664bc709"
      },
      "execution_count": 22,
      "outputs": [
        {
          "output_type": "stream",
          "name": "stdout",
          "text": [
            "tensor([[[1, 2],\n",
            "         [3, 4],\n",
            "         [5, 6],\n",
            "         [7, 8]],\n",
            "\n",
            "        [[1, 2],\n",
            "         [3, 4],\n",
            "         [5, 6],\n",
            "         [7, 8]]])\n"
          ]
        }
      ]
    },
    {
      "cell_type": "markdown",
      "source": [
        "## 5. Splitting"
      ],
      "metadata": {
        "id": "uN_boQR0muh8"
      }
    },
    {
      "cell_type": "code",
      "source": [
        "## unbind\n",
        "a,b = x.unbind(dim = 1)\n",
        "print(a,b)"
      ],
      "metadata": {
        "colab": {
          "base_uri": "https://localhost:8080/"
        },
        "id": "K53WHRX0mirG",
        "outputId": "93f63a68-724c-4b57-8750-53a4a6f471b2"
      },
      "execution_count": 23,
      "outputs": [
        {
          "output_type": "stream",
          "name": "stdout",
          "text": [
            "tensor([1, 3, 5, 7]) tensor([2, 4, 6, 8])\n"
          ]
        }
      ]
    }
  ]
}