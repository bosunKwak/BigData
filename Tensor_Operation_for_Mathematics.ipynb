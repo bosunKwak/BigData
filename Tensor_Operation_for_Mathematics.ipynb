{
  "nbformat": 4,
  "nbformat_minor": 0,
  "metadata": {
    "colab": {
      "name": "Tensor Operation for Mathematics.ipynb",
      "provenance": [],
      "collapsed_sections": [],
      "toc_visible": true,
      "authorship_tag": "ABX9TyMyYPRjjUTu4cTrl0Uf9XoL",
      "include_colab_link": true
    },
    "kernelspec": {
      "name": "python3",
      "display_name": "Python 3"
    },
    "language_info": {
      "name": "python"
    }
  },
  "cells": [
    {
      "cell_type": "markdown",
      "metadata": {
        "id": "view-in-github",
        "colab_type": "text"
      },
      "source": [
        "<a href=\"https://colab.research.google.com/github/bosunKwak/BigData/blob/main/Tensor_Operation_for_Mathematics.ipynb\" target=\"_parent\"><img src=\"https://colab.research.google.com/assets/colab-badge.svg\" alt=\"Open In Colab\"/></a>"
      ]
    },
    {
      "cell_type": "markdown",
      "source": [
        "# Tensor Operation for Mathematics\n",
        "- pointwise operations\n",
        "- reduction functions\n",
        "- comparison calculations\n",
        "- linear algebra operations"
      ],
      "metadata": {
        "id": "9JBUqvBZuVNK"
      }
    },
    {
      "cell_type": "markdown",
      "source": [
        "## 1.Pointwise operation\n",
        "- 대응되는 위치에 있는 숫자끼리 연산"
      ],
      "metadata": {
        "id": "4LoLqheVvf7c"
      }
    },
    {
      "cell_type": "markdown",
      "source": [
        "### (1) Basic Math\n",
        "- add()\n",
        "- div()\n",
        "- mul()\n",
        "- neg()\n",
        "- reciprocal()"
      ],
      "metadata": {
        "id": "UC-Ulqbuq5_z"
      }
    },
    {
      "cell_type": "code",
      "execution_count": 28,
      "metadata": {
        "colab": {
          "base_uri": "https://localhost:8080/"
        },
        "id": "1Bdn5wNppxel",
        "outputId": "14195bfa-f8fc-4025-ce04-798347035bf4"
      },
      "outputs": [
        {
          "output_type": "stream",
          "name": "stdout",
          "text": [
            "tensor([[4, 8],\n",
            "        [2, 8]])\n",
            "tensor([[1, 6],\n",
            "        [2, 6]])\n"
          ]
        }
      ],
      "source": [
        "import torch\n",
        "\n",
        "a = torch.randint(0,10,(2,2))\n",
        "b = torch.randint(0,10,(2,2))\n",
        "\n",
        "print(a)\n",
        "print(b)"
      ]
    },
    {
      "cell_type": "code",
      "source": [
        "torch.add(a,b)"
      ],
      "metadata": {
        "colab": {
          "base_uri": "https://localhost:8080/"
        },
        "id": "Zk4bnEQ9p-g7",
        "outputId": "cbcfd6a3-b54f-4f5a-d3d6-8fed9a3a7484"
      },
      "execution_count": 29,
      "outputs": [
        {
          "output_type": "execute_result",
          "data": {
            "text/plain": [
              "tensor([[ 5, 14],\n",
              "        [ 4, 14]])"
            ]
          },
          "metadata": {},
          "execution_count": 29
        }
      ]
    },
    {
      "cell_type": "code",
      "source": [
        "torch.div(a,b)\n",
        "# inf 나오면 무한대"
      ],
      "metadata": {
        "colab": {
          "base_uri": "https://localhost:8080/"
        },
        "id": "lF-rznhVqEho",
        "outputId": "e4609f82-b0a8-45b9-d5db-2d79383551ca"
      },
      "execution_count": 30,
      "outputs": [
        {
          "output_type": "execute_result",
          "data": {
            "text/plain": [
              "tensor([[4.0000, 1.3333],\n",
              "        [1.0000, 1.3333]])"
            ]
          },
          "metadata": {},
          "execution_count": 30
        }
      ]
    },
    {
      "cell_type": "code",
      "source": [
        "torch.mul(a,b)"
      ],
      "metadata": {
        "colab": {
          "base_uri": "https://localhost:8080/"
        },
        "id": "5cwAI162qTUI",
        "outputId": "90d5b513-e5f4-4336-d613-52c93481267b"
      },
      "execution_count": 31,
      "outputs": [
        {
          "output_type": "execute_result",
          "data": {
            "text/plain": [
              "tensor([[ 4, 48],\n",
              "        [ 4, 48]])"
            ]
          },
          "metadata": {},
          "execution_count": 31
        }
      ]
    },
    {
      "cell_type": "code",
      "source": [
        "# (-1)곱\n",
        "torch.neg(a)"
      ],
      "metadata": {
        "colab": {
          "base_uri": "https://localhost:8080/"
        },
        "id": "YQ2FlK2cqVOc",
        "outputId": "5847f516-3160-4c31-a56f-e1002f4a0910"
      },
      "execution_count": 32,
      "outputs": [
        {
          "output_type": "execute_result",
          "data": {
            "text/plain": [
              "tensor([[-4, -8],\n",
              "        [-2, -8]])"
            ]
          },
          "metadata": {},
          "execution_count": 32
        }
      ]
    },
    {
      "cell_type": "code",
      "source": [
        "# 역수\n",
        "torch.reciprocal(a)"
      ],
      "metadata": {
        "colab": {
          "base_uri": "https://localhost:8080/"
        },
        "id": "pHdqV9DVqYy2",
        "outputId": "4abcf519-7bd2-41eb-dae1-726ecef5af45"
      },
      "execution_count": 33,
      "outputs": [
        {
          "output_type": "execute_result",
          "data": {
            "text/plain": [
              "tensor([[0.2500, 0.1250],\n",
              "        [0.5000, 0.1250]])"
            ]
          },
          "metadata": {},
          "execution_count": 33
        }
      ]
    },
    {
      "cell_type": "markdown",
      "source": [
        "### (2) Truncation\n",
        "- ceil()\n",
        "- floor()\n",
        "- remainder()\n",
        "- round()\n",
        "- trunc()"
      ],
      "metadata": {
        "id": "efSz0WE6q8uJ"
      }
    },
    {
      "cell_type": "code",
      "source": [
        "a = torch.randn(1)\n",
        "b = torch.randn(1)\n",
        "print(a)\n",
        "print(b)"
      ],
      "metadata": {
        "colab": {
          "base_uri": "https://localhost:8080/"
        },
        "id": "mxhXZMsErFIl",
        "outputId": "bd077d77-54df-44c2-8f4d-bc27ce83c515"
      },
      "execution_count": 34,
      "outputs": [
        {
          "output_type": "stream",
          "name": "stdout",
          "text": [
            "tensor([-0.5361])\n",
            "tensor([-0.9107])\n"
          ]
        }
      ]
    },
    {
      "cell_type": "code",
      "source": [
        "# 올림\n",
        "torch.ceil(a)"
      ],
      "metadata": {
        "colab": {
          "base_uri": "https://localhost:8080/"
        },
        "id": "fo7RJHMvq_ZU",
        "outputId": "54283a1c-e359-4582-d24e-3ccfac4c3321"
      },
      "execution_count": 35,
      "outputs": [
        {
          "output_type": "execute_result",
          "data": {
            "text/plain": [
              "tensor([-0.])"
            ]
          },
          "metadata": {},
          "execution_count": 35
        }
      ]
    },
    {
      "cell_type": "code",
      "source": [
        "# 가장 큰 정수\n",
        "torch.floor(b)"
      ],
      "metadata": {
        "colab": {
          "base_uri": "https://localhost:8080/"
        },
        "id": "lL-FU0dnrSSW",
        "outputId": "ce6612f8-9b2d-4eb7-d443-b33a5ff419d0"
      },
      "execution_count": 36,
      "outputs": [
        {
          "output_type": "execute_result",
          "data": {
            "text/plain": [
              "tensor([-1.])"
            ]
          },
          "metadata": {},
          "execution_count": 36
        }
      ]
    },
    {
      "cell_type": "code",
      "source": [
        "# 나머지\n",
        "torch.remainder(a,1)"
      ],
      "metadata": {
        "colab": {
          "base_uri": "https://localhost:8080/"
        },
        "id": "fezE2df8r1dD",
        "outputId": "a6405c55-bec3-4c70-a1f0-bd5f97e6088a"
      },
      "execution_count": 37,
      "outputs": [
        {
          "output_type": "execute_result",
          "data": {
            "text/plain": [
              "tensor([0.4639])"
            ]
          },
          "metadata": {},
          "execution_count": 37
        }
      ]
    },
    {
      "cell_type": "code",
      "source": [
        "# 반올림\n",
        "torch.round(a)"
      ],
      "metadata": {
        "colab": {
          "base_uri": "https://localhost:8080/"
        },
        "id": "fb7aANbmr9h2",
        "outputId": "66bc3256-f1b6-4875-eb66-3eb0b758fb36"
      },
      "execution_count": 38,
      "outputs": [
        {
          "output_type": "execute_result",
          "data": {
            "text/plain": [
              "tensor([-1.])"
            ]
          },
          "metadata": {},
          "execution_count": 38
        }
      ]
    },
    {
      "cell_type": "code",
      "source": [
        "# 소수점 버리기\n",
        "torch.trunc(a)"
      ],
      "metadata": {
        "colab": {
          "base_uri": "https://localhost:8080/"
        },
        "id": "kY1m_Yq9sByD",
        "outputId": "4f19780a-f241-4ae6-f08c-3f56f7f6dd7f"
      },
      "execution_count": 39,
      "outputs": [
        {
          "output_type": "execute_result",
          "data": {
            "text/plain": [
              "tensor([-0.])"
            ]
          },
          "metadata": {},
          "execution_count": 39
        }
      ]
    },
    {
      "cell_type": "markdown",
      "source": [
        "### (3) Trigonometry\n",
        "- sin()\n",
        "- cos()"
      ],
      "metadata": {
        "id": "TuU92bp8sAiC"
      }
    },
    {
      "cell_type": "code",
      "source": [
        "# sin() cos()"
      ],
      "metadata": {
        "id": "To_Fs-s2sI5n"
      },
      "execution_count": 40,
      "outputs": []
    },
    {
      "cell_type": "markdown",
      "source": [
        "### (4) Exponents and logarithms\n",
        "- exp()\n",
        "- log()\n",
        "- log10()\n",
        "- pow()\n",
        "- sqrt()\n",
        "- square()\n",
        "\n",
        "\n"
      ],
      "metadata": {
        "id": "cC2qcW_asMKA"
      }
    },
    {
      "cell_type": "code",
      "source": [
        "# exp(), log(), log10(), square() : 제곱"
      ],
      "metadata": {
        "id": "WoAnmD_hsQLn"
      },
      "execution_count": 41,
      "outputs": []
    },
    {
      "cell_type": "code",
      "source": [
        "a = torch.tensor(2)\n",
        "b = torch.tensor(3)\n",
        "print(a)\n",
        "print(b)"
      ],
      "metadata": {
        "colab": {
          "base_uri": "https://localhost:8080/"
        },
        "id": "7KIzzfA-sbf-",
        "outputId": "8e2c6eda-40a3-4976-e7a4-0ba0a26a6ca5"
      },
      "execution_count": 42,
      "outputs": [
        {
          "output_type": "stream",
          "name": "stdout",
          "text": [
            "tensor(2)\n",
            "tensor(3)\n"
          ]
        }
      ]
    },
    {
      "cell_type": "code",
      "source": [
        "pow(2,3) # 2^3"
      ],
      "metadata": {
        "colab": {
          "base_uri": "https://localhost:8080/"
        },
        "id": "fuOEHx7Ishov",
        "outputId": "b5864918-e11a-4fd2-86ea-6369317b0344"
      },
      "execution_count": 43,
      "outputs": [
        {
          "output_type": "execute_result",
          "data": {
            "text/plain": [
              "8"
            ]
          },
          "metadata": {},
          "execution_count": 43
        }
      ]
    },
    {
      "cell_type": "code",
      "source": [
        "torch.sqrt(a) # root"
      ],
      "metadata": {
        "colab": {
          "base_uri": "https://localhost:8080/"
        },
        "id": "D8pMwuJ3suz9",
        "outputId": "1a90c59c-1ea7-4899-e639-5e4ecc71eefe"
      },
      "execution_count": 44,
      "outputs": [
        {
          "output_type": "execute_result",
          "data": {
            "text/plain": [
              "tensor(1.4142)"
            ]
          },
          "metadata": {},
          "execution_count": 44
        }
      ]
    },
    {
      "cell_type": "markdown",
      "source": [
        "### (5) Other\n",
        "- abs()"
      ],
      "metadata": {
        "id": "E4fXMQkqsVg-"
      }
    },
    {
      "cell_type": "code",
      "source": [
        "# 절대값\n",
        "torch.abs(a)"
      ],
      "metadata": {
        "colab": {
          "base_uri": "https://localhost:8080/"
        },
        "id": "LV_pShces99U",
        "outputId": "0c8e9a25-476f-41d1-80d4-e03dff8738c5"
      },
      "execution_count": 45,
      "outputs": [
        {
          "output_type": "execute_result",
          "data": {
            "text/plain": [
              "tensor(2)"
            ]
          },
          "metadata": {},
          "execution_count": 45
        }
      ]
    },
    {
      "cell_type": "markdown",
      "source": [
        "## 2.Reduction functions\n",
        "- argmax(): 가장 큰 위치 선택\n",
        "- argmin() : 가장 작은 위치 선택\n",
        "- sum()\n",
        "- mean() : 평균(차원 지정 및 유지 가능)\n",
        "- mode() : 가장 빈도가 많은 값\n",
        "- median() : 중간값 (1,1,1,3,4,4,5 중 \"3\")\n",
        "- std() : 표준편차\n",
        "- var() : 분산"
      ],
      "metadata": {
        "id": "L_Nobm9VtNaQ"
      }
    },
    {
      "cell_type": "code",
      "source": [
        "a = torch.randint(0,10,(1,3))\n",
        "print(a)"
      ],
      "metadata": {
        "colab": {
          "base_uri": "https://localhost:8080/"
        },
        "id": "9Ci_qJhitfEM",
        "outputId": "f55ca2a9-6ad4-489f-8132-2b7a7090666a"
      },
      "execution_count": 46,
      "outputs": [
        {
          "output_type": "stream",
          "name": "stdout",
          "text": [
            "tensor([[2, 5, 7]])\n"
          ]
        }
      ]
    },
    {
      "cell_type": "code",
      "source": [
        "torch.argmax(a)"
      ],
      "metadata": {
        "colab": {
          "base_uri": "https://localhost:8080/"
        },
        "id": "46-bJLAEt8wz",
        "outputId": "5b184222-2870-4aa0-a0ae-d139f3f409fb"
      },
      "execution_count": 47,
      "outputs": [
        {
          "output_type": "execute_result",
          "data": {
            "text/plain": [
              "tensor(2)"
            ]
          },
          "metadata": {},
          "execution_count": 47
        }
      ]
    },
    {
      "cell_type": "code",
      "source": [
        "torch.argmin(a)"
      ],
      "metadata": {
        "colab": {
          "base_uri": "https://localhost:8080/"
        },
        "id": "Y_X_IuqLt7Xt",
        "outputId": "3fe7ddcb-ad3d-4345-a7b4-fcddc0d2dec9"
      },
      "execution_count": 48,
      "outputs": [
        {
          "output_type": "execute_result",
          "data": {
            "text/plain": [
              "tensor(0)"
            ]
          },
          "metadata": {},
          "execution_count": 48
        }
      ]
    },
    {
      "cell_type": "code",
      "source": [
        "# mean() : 평균\n",
        "a = torch.rand(3,2)\n",
        "print(a)"
      ],
      "metadata": {
        "colab": {
          "base_uri": "https://localhost:8080/"
        },
        "id": "zW5Tl5pEt7zn",
        "outputId": "b1c65ca0-3115-41d3-b499-4acd75825eb4"
      },
      "execution_count": 49,
      "outputs": [
        {
          "output_type": "stream",
          "name": "stdout",
          "text": [
            "tensor([[0.2454, 0.0690],\n",
            "        [0.0619, 0.8534],\n",
            "        [0.7789, 0.8214]])\n"
          ]
        }
      ]
    },
    {
      "cell_type": "code",
      "source": [
        "torch.mean(a)"
      ],
      "metadata": {
        "colab": {
          "base_uri": "https://localhost:8080/"
        },
        "id": "EVSlOdX5uhur",
        "outputId": "bdcfea98-31af-47ae-d99d-be61149690c0"
      },
      "execution_count": 50,
      "outputs": [
        {
          "output_type": "execute_result",
          "data": {
            "text/plain": [
              "tensor(0.4717)"
            ]
          },
          "metadata": {},
          "execution_count": 50
        }
      ]
    },
    {
      "cell_type": "code",
      "source": [
        "# 차원 지정\n",
        "torch.mean(a,dim=0)"
      ],
      "metadata": {
        "colab": {
          "base_uri": "https://localhost:8080/"
        },
        "id": "m_O2ebXluqWS",
        "outputId": "ad836523-5ecd-4c72-dac8-965b48d1c204"
      },
      "execution_count": 51,
      "outputs": [
        {
          "output_type": "execute_result",
          "data": {
            "text/plain": [
              "tensor([0.3621, 0.5813])"
            ]
          },
          "metadata": {},
          "execution_count": 51
        }
      ]
    },
    {
      "cell_type": "code",
      "source": [
        "# 차원 유지\n",
        "b = torch.mean(a, dim=1, keepdim = True)\n",
        "\n",
        "b.shape"
      ],
      "metadata": {
        "colab": {
          "base_uri": "https://localhost:8080/"
        },
        "id": "TtP8a_EHu6kA",
        "outputId": "68a7e6d6-5046-45e1-831a-667fc67975ee"
      },
      "execution_count": 52,
      "outputs": [
        {
          "output_type": "execute_result",
          "data": {
            "text/plain": [
              "torch.Size([3, 1])"
            ]
          },
          "metadata": {},
          "execution_count": 52
        }
      ]
    },
    {
      "cell_type": "markdown",
      "source": [
        "## 3.Comparison calculations\n",
        "- can return a tensor full of Booleans based on each element's value "
      ],
      "metadata": {
        "id": "8mzf67aGvnK7"
      }
    },
    {
      "cell_type": "markdown",
      "source": [
        "### (1) Compare a tensor to other tensors\n",
        "- eq() , == \n",
        "- ge() , >=\n",
        "- gt() , >\n",
        "- le() , <=\n",
        "- lt() , <\n",
        "- ne() , !="
      ],
      "metadata": {
        "id": "GcD_fEZsyTTy"
      }
    },
    {
      "cell_type": "code",
      "source": [
        "a = torch.randint(0,9,(2,2))\n",
        "b = torch.randint(0,9,(2,2))\n",
        "print(a)\n",
        "print(b)"
      ],
      "metadata": {
        "colab": {
          "base_uri": "https://localhost:8080/"
        },
        "id": "xld9u_JdzKDv",
        "outputId": "6d3a95b4-80c0-4ff2-9a8f-b4dd55729f83"
      },
      "execution_count": 64,
      "outputs": [
        {
          "output_type": "stream",
          "name": "stdout",
          "text": [
            "tensor([[8, 8],\n",
            "        [6, 4]])\n",
            "tensor([[7, 2],\n",
            "        [8, 4]])\n"
          ]
        }
      ]
    },
    {
      "cell_type": "code",
      "source": [
        "a == b"
      ],
      "metadata": {
        "colab": {
          "base_uri": "https://localhost:8080/"
        },
        "id": "2SBsQPZ2zbQL",
        "outputId": "2a13af48-be7a-4236-d513-589ac43ee7f8"
      },
      "execution_count": 65,
      "outputs": [
        {
          "output_type": "execute_result",
          "data": {
            "text/plain": [
              "tensor([[False, False],\n",
              "        [False,  True]])"
            ]
          },
          "metadata": {},
          "execution_count": 65
        }
      ]
    },
    {
      "cell_type": "code",
      "source": [
        "torch.eq(a,b)"
      ],
      "metadata": {
        "colab": {
          "base_uri": "https://localhost:8080/"
        },
        "id": "waptjfqSzlJ5",
        "outputId": "4b12e520-af62-469a-d547-f8afb43ed68a"
      },
      "execution_count": 66,
      "outputs": [
        {
          "output_type": "execute_result",
          "data": {
            "text/plain": [
              "tensor([[False, False],\n",
              "        [False,  True]])"
            ]
          },
          "metadata": {},
          "execution_count": 66
        }
      ]
    },
    {
      "cell_type": "markdown",
      "source": [
        "### (2) Test tensor status or conditions\n",
        "- isinf() : infinite 여부 \n",
        "- isnan() : nan 여부 \n",
        "- isfinite() : finite 여부 \n",
        "- isclose() : 특정 값에 가까운지 여부"
      ],
      "metadata": {
        "id": "Y9yLPVO4yfof"
      }
    },
    {
      "cell_type": "code",
      "source": [
        "c = torch.tensor([[1,float('inf')],[float('nan'),8]])\n",
        "print(c)"
      ],
      "metadata": {
        "colab": {
          "base_uri": "https://localhost:8080/"
        },
        "id": "0WnChMOyz_rK",
        "outputId": "bc33c6ab-36f3-4e3b-ce73-027569ec48ef"
      },
      "execution_count": 71,
      "outputs": [
        {
          "output_type": "stream",
          "name": "stdout",
          "text": [
            "tensor([[1., inf],\n",
            "        [nan, 8.]])\n"
          ]
        }
      ]
    },
    {
      "cell_type": "code",
      "source": [
        "torch.isinf(c)\n",
        "# inf 있는 위치에 true"
      ],
      "metadata": {
        "colab": {
          "base_uri": "https://localhost:8080/"
        },
        "id": "EubtQIxt0Po2",
        "outputId": "b02969c5-84e8-4e2a-f655-615bb0e0b827"
      },
      "execution_count": 72,
      "outputs": [
        {
          "output_type": "execute_result",
          "data": {
            "text/plain": [
              "tensor([[False,  True],\n",
              "        [False, False]])"
            ]
          },
          "metadata": {},
          "execution_count": 72
        }
      ]
    },
    {
      "cell_type": "code",
      "source": [
        "torch.isnan(c)"
      ],
      "metadata": {
        "colab": {
          "base_uri": "https://localhost:8080/"
        },
        "id": "5WRv5cu70ZSX",
        "outputId": "bf6c0a09-4d78-40db-d247-5d774b76e871"
      },
      "execution_count": 73,
      "outputs": [
        {
          "output_type": "execute_result",
          "data": {
            "text/plain": [
              "tensor([[False, False],\n",
              "        [ True, False]])"
            ]
          },
          "metadata": {},
          "execution_count": 73
        }
      ]
    },
    {
      "cell_type": "markdown",
      "source": [
        "### (3) Return a single Boolean for the entire tensor\n",
        "  - equal()\n",
        "  - allclose() : 모든 값이 특정 범위에 있는지 "
      ],
      "metadata": {
        "id": "Ww1mf6VqykIE"
      }
    },
    {
      "cell_type": "markdown",
      "source": [
        "### (4) Find value(s) over the entire tensor or along a given dimension \n",
        "- max()\n",
        "- min()\n",
        "- topk() : 큰값 k개 \n",
        "- sort()"
      ],
      "metadata": {
        "id": "MfugSdrsyohk"
      }
    },
    {
      "cell_type": "code",
      "source": [
        "d = torch.tensor(range(10))\n",
        "print(d)"
      ],
      "metadata": {
        "colab": {
          "base_uri": "https://localhost:8080/"
        },
        "id": "H9ImS6Pl0v9_",
        "outputId": "201646de-13a7-4a3f-fdc0-3a30701a0377"
      },
      "execution_count": 76,
      "outputs": [
        {
          "output_type": "stream",
          "name": "stdout",
          "text": [
            "tensor([0, 1, 2, 3, 4, 5, 6, 7, 8, 9])\n"
          ]
        }
      ]
    },
    {
      "cell_type": "code",
      "source": [
        "torch.topk(d,3)"
      ],
      "metadata": {
        "colab": {
          "base_uri": "https://localhost:8080/"
        },
        "id": "ewZoW8sG1cKi",
        "outputId": "de92367a-77ad-4fe8-e014-22761b3eff93"
      },
      "execution_count": 79,
      "outputs": [
        {
          "output_type": "execute_result",
          "data": {
            "text/plain": [
              "torch.return_types.topk(values=tensor([9, 8, 7]), indices=tensor([9, 8, 7]))"
            ]
          },
          "metadata": {},
          "execution_count": 79
        }
      ]
    },
    {
      "cell_type": "code",
      "source": [
        "# 내림차순 정렬\n",
        "torch.sort(d, descending = True)"
      ],
      "metadata": {
        "colab": {
          "base_uri": "https://localhost:8080/"
        },
        "id": "yZFoBqkt1q_h",
        "outputId": "1cd709d1-4de9-49da-d6d1-fc3a7bc747dc"
      },
      "execution_count": 80,
      "outputs": [
        {
          "output_type": "execute_result",
          "data": {
            "text/plain": [
              "torch.return_types.sort(values=tensor([9, 8, 7, 6, 5, 4, 3, 2, 1, 0]), indices=tensor([9, 8, 7, 6, 5, 4, 3, 2, 1, 0]))"
            ]
          },
          "metadata": {},
          "execution_count": 80
        }
      ]
    },
    {
      "cell_type": "markdown",
      "source": [
        "## 4.Linear algebra\n",
        "- Matrix operations\n",
        "- matmul() : matrix 간의 곱\n",
        "- det() \n",
        "- tril() : 대각행렬을 중심으로 위->0\n",
        "- triu()"
      ],
      "metadata": {
        "id": "eD2JBtYJ12Ke"
      }
    },
    {
      "cell_type": "code",
      "source": [
        "a = torch.randint(0,9,(2,2))\n",
        "b = torch.randint(0,9,(2,2))\n",
        "print(a)\n",
        "print(b)"
      ],
      "metadata": {
        "colab": {
          "base_uri": "https://localhost:8080/"
        },
        "id": "tgvIu6hH2Jf_",
        "outputId": "c266cea4-0faf-48d3-efe9-516157bd80b9"
      },
      "execution_count": 86,
      "outputs": [
        {
          "output_type": "stream",
          "name": "stdout",
          "text": [
            "tensor([[7, 1],\n",
            "        [6, 5]])\n",
            "tensor([[6, 1],\n",
            "        [3, 1]])\n"
          ]
        }
      ]
    },
    {
      "cell_type": "code",
      "source": [
        "torch.matmul(a,b)"
      ],
      "metadata": {
        "colab": {
          "base_uri": "https://localhost:8080/"
        },
        "id": "sCMCEVya2QyK",
        "outputId": "a74272be-ad45-4ad7-c765-c0869d591d15"
      },
      "execution_count": 87,
      "outputs": [
        {
          "output_type": "execute_result",
          "data": {
            "text/plain": [
              "tensor([[45,  8],\n",
              "        [51, 11]])"
            ]
          },
          "metadata": {},
          "execution_count": 87
        }
      ]
    },
    {
      "cell_type": "code",
      "source": [
        "a = torch.randint(0,9,(4,4))\n",
        "print(a)"
      ],
      "metadata": {
        "colab": {
          "base_uri": "https://localhost:8080/"
        },
        "id": "iJOz6YOD2X6F",
        "outputId": "61181cdd-e29b-4dfa-ddd9-ef6ba86ec9ea"
      },
      "execution_count": 88,
      "outputs": [
        {
          "output_type": "stream",
          "name": "stdout",
          "text": [
            "tensor([[6, 1, 2, 0],\n",
            "        [8, 4, 7, 8],\n",
            "        [0, 5, 0, 1],\n",
            "        [5, 5, 0, 1]])\n"
          ]
        }
      ]
    },
    {
      "cell_type": "code",
      "source": [
        "torch.tril(a)"
      ],
      "metadata": {
        "colab": {
          "base_uri": "https://localhost:8080/"
        },
        "id": "aH3BPQH12iYC",
        "outputId": "1709b32f-0304-4763-deef-22bb65e9d24b"
      },
      "execution_count": 89,
      "outputs": [
        {
          "output_type": "execute_result",
          "data": {
            "text/plain": [
              "tensor([[6, 0, 0, 0],\n",
              "        [8, 4, 0, 0],\n",
              "        [0, 5, 0, 0],\n",
              "        [5, 5, 0, 1]])"
            ]
          },
          "metadata": {},
          "execution_count": 89
        }
      ]
    },
    {
      "cell_type": "markdown",
      "source": [
        "# Automatic Differntiation(Autograd)\n",
        "- 미분"
      ],
      "metadata": {
        "id": "FLhEiJTO2qrH"
      }
    },
    {
      "cell_type": "markdown",
      "source": [
        "## Why use this?\n",
        "- 오차를 줄여줄 때 weight 따라서 전달하는데, 이때 미분 필요\n",
        "- 각각의 기울기: gradient -> 미분을 사용하여 학습"
      ],
      "metadata": {
        "id": "IcuP2bUg7BMw"
      }
    },
    {
      "cell_type": "markdown",
      "source": [
        "## Examples"
      ],
      "metadata": {
        "id": "21RCTbRi7FRb"
      }
    },
    {
      "cell_type": "markdown",
      "source": [
        "### (1) f = sum(x^2) "
      ],
      "metadata": {
        "id": "sfvF_7s-7R2V"
      }
    },
    {
      "cell_type": "code",
      "source": [
        "# f = sum(x^2)\n",
        "\n",
        "x = torch.tensor([[1,2,3],[4,5,6]],\n",
        "                 dtype = torch.float, requires_grad=True)\n",
        "print(x)\n",
        "# [[1., 2., 3.],\n",
        "#  [4., 5., 6.]]\n",
        "\n",
        "f = x.pow(2).sum() # sum(x^2)\n",
        "print(f)\n",
        "\n",
        "f.backward()\n",
        "print(x.grad) # df/dx = 2x\n",
        "#[ 2.,  4.,  6.],\n",
        "#[ 8., 10., 12.]"
      ],
      "metadata": {
        "colab": {
          "base_uri": "https://localhost:8080/"
        },
        "id": "0XI4SUBg4GkK",
        "outputId": "0f75dbd8-899c-48f7-c791-9e121c47cf08"
      },
      "execution_count": 90,
      "outputs": [
        {
          "output_type": "stream",
          "name": "stdout",
          "text": [
            "tensor([[1., 2., 3.],\n",
            "        [4., 5., 6.]], requires_grad=True)\n",
            "tensor(91., grad_fn=<SumBackward0>)\n",
            "tensor([[ 2.,  4.,  6.],\n",
            "        [ 8., 10., 12.]])\n"
          ]
        }
      ]
    },
    {
      "cell_type": "markdown",
      "source": [
        "###  (2) Q = 3a^3 - b^2"
      ],
      "metadata": {
        "id": "0SDqnhGA7TIy"
      }
    },
    {
      "cell_type": "code",
      "source": [
        "# Q = 3a^3 - b^2\n",
        "import torch\n",
        "\n",
        "a = torch.tensor([2.,3.], requires_grad = True)\n",
        "b = torch.tensor([6.,4.], requires_grad = True)\n",
        "\n",
        "Q = 3*torch.pow(a,3) - torch.pow(b,2)\n",
        "\n",
        "external_grad = torch.tensor([1.,1.])\n",
        "# backward? 암묵적으로 스칼라로 바꿔줌 \n",
        "Q.backward(gradient=external_grad) # 앞 코드와 다르게, 스칼라가 아닌 벡터이기 때문에 명시적으로 지정 \n",
        "\n",
        "print(a.grad) # dQ/da = 9a^2\n",
        "print(b.grad) # dQ/db = -2b"
      ],
      "metadata": {
        "colab": {
          "base_uri": "https://localhost:8080/"
        },
        "id": "wuuLsaE144x7",
        "outputId": "1bcb96b6-6112-4048-c587-2558f3f19081"
      },
      "execution_count": 91,
      "outputs": [
        {
          "output_type": "stream",
          "name": "stdout",
          "text": [
            "tensor([36., 81.])\n",
            "tensor([-12.,  -8.])\n"
          ]
        }
      ]
    }
  ]
}