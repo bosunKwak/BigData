{
  "nbformat": 4,
  "nbformat_minor": 0,
  "metadata": {
    "colab": {
      "name": "model_development.ipynb",
      "provenance": [],
      "collapsed_sections": [],
      "authorship_tag": "ABX9TyMtzeM1gfdBQBPWqa5y1pOK",
      "include_colab_link": true
    },
    "kernelspec": {
      "name": "python3",
      "display_name": "Python 3"
    },
    "language_info": {
      "name": "python"
    }
  },
  "cells": [
    {
      "cell_type": "markdown",
      "metadata": {
        "id": "view-in-github",
        "colab_type": "text"
      },
      "source": [
        "<a href=\"https://colab.research.google.com/github/bosunKwak/BigData/blob/main/model_development.ipynb\" target=\"_parent\"><img src=\"https://colab.research.google.com/assets/colab-badge.svg\" alt=\"Open In Colab\"/></a>"
      ]
    },
    {
      "cell_type": "markdown",
      "source": [
        "# The Overall Process\n",
        "1. Data prepartion stage\n",
        "  - Load data\n",
        "  - Transform (convert it to numeric values)\n",
        "  - Batching (batch 단위로 묶음)\n",
        "\n",
        "2. Development stage\n",
        "  - Design \n",
        "  - Training \n",
        "    - (weight 값을 찾는 것 == 학습을 시킴)\n",
        "    - 예측한 결과와 실제 나온 결과의 오차가 가장 minimum 하도록\n",
        "  - Testing\n",
        "  - Pytorch의 경우 \"torch.nn\" module 사용\n",
        "  - Separate dataset into 3 parts : training, validation, testing\n",
        "  - Define a loss function and optimizer\n",
        "  - Backpropagating and Update\n",
        "\n",
        "3. Model Deployment\n",
        "  - File에 저장하거나 배포"
      ],
      "metadata": {
        "id": "WF2YW1APisBE"
      }
    },
    {
      "cell_type": "markdown",
      "source": [
        "## 1.Data Preparation Stage\n"
      ],
      "metadata": {
        "id": "zqXpuWAomjJC"
      }
    },
    {
      "cell_type": "markdown",
      "source": [
        "### (1) Data Loading\n",
        "Example(CIFAR-10)"
      ],
      "metadata": {
        "id": "JEYSstJdnCIk"
      }
    },
    {
      "cell_type": "code",
      "source": [
        "# torchvision : 이미지 관련된 model이나 model 관련 dataset들이 들어있는 모듈\n",
        "from torchvision.datasets import CIFAR10\n",
        "\n",
        "# 파일 다운\n",
        "train_data = CIFAR10(root=\"./train/\",\n",
        "                    train=True, \n",
        "                    download=True)"
      ],
      "metadata": {
        "colab": {
          "base_uri": "https://localhost:8080/"
        },
        "id": "k4KZrakF6LcP",
        "outputId": "b40db634-1c1c-4020-ec88-7b09024a08c9"
      },
      "execution_count": 14,
      "outputs": [
        {
          "output_type": "stream",
          "name": "stdout",
          "text": [
            "Files already downloaded and verified\n"
          ]
        }
      ]
    },
    {
      "cell_type": "code",
      "source": [
        "# data 확인\n",
        "print(train_data)\n",
        "\n",
        "# data 길이(개수)\n",
        "print(len(train_data)) # out: 50000\n",
        "\n",
        "# 차원\n",
        "print(train_data.data.shape) \n",
        "#(50000, 32, 32, 3)  - 50000개의 set, 32 x 32 인 color image가 3개의 channel로 있음\n",
        "\n",
        "# target : label (분류하고자하는 정답)\n",
        "#print(train_data.targets) # list. 너무 많아서 생략. \n",
        "\n",
        "# 각 class 이름\n",
        "print(train_data.classes)\n",
        "\n",
        "# class가 target에 어떻게 매핑되는지 확인\n",
        "print(train_data.class_to_idx)"
      ],
      "metadata": {
        "colab": {
          "base_uri": "https://localhost:8080/"
        },
        "id": "-chzdrfB8RuL",
        "outputId": "096bc5ee-f2aa-4975-fa55-31170cf705a0"
      },
      "execution_count": 27,
      "outputs": [
        {
          "output_type": "stream",
          "name": "stdout",
          "text": [
            "Dataset CIFAR10\n",
            "    Number of datapoints: 50000\n",
            "    Root location: ./train/\n",
            "    Split: Train\n",
            "    StandardTransform\n",
            "Transform: Compose(\n",
            "               RandomCrop(size=(32, 32), padding=4)\n",
            "               RandomHorizontalFlip(p=0.5)\n",
            "               ToTensor()\n",
            "               Normalize(mean=(0.4914, 0.4822, 0.4465), std=(0.2023, 0.1994, 0.201))\n",
            "           )\n",
            "50000\n",
            "(50000, 32, 32, 3)\n",
            "['airplane', 'automobile', 'bird', 'cat', 'deer', 'dog', 'frog', 'horse', 'ship', 'truck']\n",
            "{'airplane': 0, 'automobile': 1, 'bird': 2, 'cat': 3, 'deer': 4, 'dog': 5, 'frog': 6, 'horse': 7, 'ship': 8, 'truck': 9}\n"
          ]
        }
      ]
    },
    {
      "cell_type": "code",
      "source": [
        "# 첫번째 train data의 type\n",
        "print(type(train_data[0]))\n",
        "# <class 'tuple'>\n",
        "# tuple : array와 비슷 + 속성을 변경할 수 없는 특징\n",
        "\n",
        "# 첫 번째 train data의 길이(개수) : 몇 개의 data로 되어있는지 확인\n",
        "print(len(train_data[0]))\n",
        "\n",
        "data, label = train_data[0]\n",
        "\n",
        "# 이미지 타입\n",
        "print(type(data))\n",
        "#<class 'PIL.Image.Image'>\n",
        "\n",
        "# 이미지 정보 \n",
        "print(data)"
      ],
      "metadata": {
        "colab": {
          "base_uri": "https://localhost:8080/"
        },
        "id": "u5YxrN_xBjhX",
        "outputId": "9dd64418-f478-472b-d1b4-dc3f2fab2af7"
      },
      "execution_count": 16,
      "outputs": [
        {
          "output_type": "stream",
          "name": "stdout",
          "text": [
            "<class 'tuple'>\n",
            "2\n",
            "<class 'PIL.Image.Image'>\n",
            "<PIL.Image.Image image mode=RGB size=32x32 at 0x7F7A2E947750>\n"
          ]
        }
      ]
    },
    {
      "cell_type": "code",
      "source": [
        "import matplotlib.pyplot as plt\n",
        "\n",
        "plt.imshow(data)"
      ],
      "metadata": {
        "colab": {
          "base_uri": "https://localhost:8080/",
          "height": 284
        },
        "id": "W8ll3lX6CHmE",
        "outputId": "428f6241-d025-4100-a03a-34276fc7a4f0"
      },
      "execution_count": 17,
      "outputs": [
        {
          "output_type": "execute_result",
          "data": {
            "text/plain": [
              "<matplotlib.image.AxesImage at 0x7f7a2e937750>"
            ]
          },
          "metadata": {},
          "execution_count": 17
        },
        {
          "output_type": "display_data",
          "data": {
            "text/plain": [
              "<Figure size 432x288 with 1 Axes>"
            ],
            "image/png": "[encoded data removed]"
          },
          "metadata": {
            "needs_background": "light"
          }
        }
      ]
    },
    {
      "cell_type": "code",
      "source": [
        "print(type(label))\n",
        "# out: <class 'int'>\n",
        "\n",
        "print(label)\n",
        "# out: 6 \n",
        "# 이렇게 숫자로 보면 직관적이지 않으므로, 아래 코드를 통해 train data class의 이름을 가져옴\n",
        "print(train_data.classes[label])\n",
        "# out: frog"
      ],
      "metadata": {
        "colab": {
          "base_uri": "https://localhost:8080/"
        },
        "id": "H3a5gxnbCY6R",
        "outputId": "01ae62d6-9bfc-4880-8364-34b6cbe5f466"
      },
      "execution_count": 18,
      "outputs": [
        {
          "output_type": "stream",
          "name": "stdout",
          "text": [
            "<class 'int'>\n",
            "6\n",
            "frog\n"
          ]
        }
      ]
    },
    {
      "cell_type": "code",
      "source": [
        "test_data = CIFAR10(root=\"./test/\", \n",
        "                    train=False, # 이 부분만 다름\n",
        "                    download=True)\n",
        "\n",
        "print(test_data)\n",
        "print(len(test_data))\n",
        "\n",
        "print(test_data.data.shape) # test 개수만 다른 것을 확인할 수 있음 \n",
        "# out: (10000, 32, 32, 3)"
      ],
      "metadata": {
        "colab": {
          "base_uri": "https://localhost:8080/"
        },
        "id": "b5a9hC1jCuOs",
        "outputId": "dff082ae-40bb-4699-a124-d73a5597d393"
      },
      "execution_count": 19,
      "outputs": [
        {
          "output_type": "stream",
          "name": "stdout",
          "text": [
            "Files already downloaded and verified\n",
            "Dataset CIFAR10\n",
            "    Number of datapoints: 10000\n",
            "    Root location: ./test/\n",
            "    Split: Test\n",
            "10000\n",
            "(10000, 32, 32, 3)\n"
          ]
        }
      ]
    },
    {
      "cell_type": "markdown",
      "source": [
        "### (2) Data Transforms\n",
        "\n",
        "변환을 해주는 이유?\n",
        "- 학습을 잘 하기 위해서\n",
        "- model이 사용할 수 있는 형태로 변환해 주기 위해서\n"
      ],
      "metadata": {
        "id": "29VuDV2pC6DQ"
      }
    },
    {
      "cell_type": "code",
      "source": [
        "from torchvision import transforms\n",
        "\n",
        "train_transforms = transforms.Compose([\n",
        "  transforms.RandomCrop(32, padding=4),\n",
        "  transforms.RandomHorizontalFlip(),\n",
        "  transforms.ToTensor(),\n",
        "  transforms.Normalize(\n",
        "      (0.4914, 0.4822, 0.4465),\n",
        "      (0.2023, 0.1994, 0.2010))])\n",
        "\n",
        "train_data = CIFAR10(root=\"./train/\",\n",
        "                    train=True, \n",
        "                    download=True,\n",
        "                    transform=train_transforms)\n",
        "\n",
        "print(train_data)\n",
        "print(train_data.transforms)"
      ],
      "metadata": {
        "colab": {
          "base_uri": "https://localhost:8080/"
        },
        "id": "neN5trb8C-1y",
        "outputId": "9c0f748f-30a8-495b-9fea-cb24f9886884"
      },
      "execution_count": 20,
      "outputs": [
        {
          "output_type": "stream",
          "name": "stdout",
          "text": [
            "Files already downloaded and verified\n",
            "Dataset CIFAR10\n",
            "    Number of datapoints: 50000\n",
            "    Root location: ./train/\n",
            "    Split: Train\n",
            "    StandardTransform\n",
            "Transform: Compose(\n",
            "               RandomCrop(size=(32, 32), padding=4)\n",
            "               RandomHorizontalFlip(p=0.5)\n",
            "               ToTensor()\n",
            "               Normalize(mean=(0.4914, 0.4822, 0.4465), std=(0.2023, 0.1994, 0.201))\n",
            "           )\n",
            "StandardTransform\n",
            "Transform: Compose(\n",
            "               RandomCrop(size=(32, 32), padding=4)\n",
            "               RandomHorizontalFlip(p=0.5)\n",
            "               ToTensor()\n",
            "               Normalize(mean=(0.4914, 0.4822, 0.4465), std=(0.2023, 0.1994, 0.201))\n",
            "           )\n"
          ]
        }
      ]
    },
    {
      "cell_type": "code",
      "source": [
        "# 첫번째 image만 가져와서 확인\n",
        "data, label = train_data[0]\n",
        "\n",
        "print(type(data))\n",
        "# <class 'torch.Tensor'> : Tensor로 바뀐것을 확인 할 수 있음\n",
        "\n",
        "print(data.size())\n",
        "# torch.Size([3, 32, 32]) : 채널 정보가 앞으로 감 \n",
        "print(data)"
      ],
      "metadata": {
        "colab": {
          "base_uri": "https://localhost:8080/"
        },
        "id": "BnIVqve7Dtah",
        "outputId": "f4ba040c-06fe-43ec-8b07-6792d96984b9"
      },
      "execution_count": 21,
      "outputs": [
        {
          "output_type": "stream",
          "name": "stdout",
          "text": [
            "<class 'torch.Tensor'>\n",
            "torch.Size([3, 32, 32])\n",
            "tensor([[[-2.4291, -2.4291, -2.4291,  ..., -2.4291, -2.4291, -2.4291],\n",
            "         [-2.4291, -2.4291, -2.4291,  ...,  0.8276,  0.6531,  0.6338],\n",
            "         [-2.4291, -2.4291, -2.4291,  ...,  0.1297,  0.1491,  0.1491],\n",
            "         ...,\n",
            "         [-2.4291, -2.4291, -2.4291,  ...,  0.0328, -0.2192,  1.1765],\n",
            "         [-2.4291, -2.4291, -2.4291,  ..., -0.6844, -1.4598,  0.2267],\n",
            "         [-2.4291, -2.4291, -2.4291,  ..., -1.3047, -1.7700,  0.1104]],\n",
            "\n",
            "        [[-2.4183, -2.4183, -2.4183,  ..., -2.4183, -2.4183, -2.4183],\n",
            "         [-2.4183, -2.4183, -2.4183,  ...,  0.2564,  0.1188,  0.1384],\n",
            "         [-2.4183, -2.4183, -2.4183,  ..., -0.6286, -0.5696, -0.5302],\n",
            "         ...,\n",
            "         [-2.4183, -2.4183, -2.4183,  ..., -0.4319, -0.7072,  0.6301],\n",
            "         [-2.4183, -2.4183, -2.4183,  ..., -1.0612, -1.9463, -0.3532],\n",
            "         [-2.4183, -2.4183, -2.4183,  ..., -1.8086, -2.3199, -0.5696]],\n",
            "\n",
            "        [[-2.2214, -2.2214, -2.2214,  ..., -2.2214, -2.2214, -2.2214],\n",
            "         [-2.2214, -2.2214, -2.2214,  ..., -0.1143, -0.2313, -0.1923],\n",
            "         [-2.2214, -2.2214, -2.2214,  ..., -1.1873, -1.0898, -1.0508],\n",
            "         ...,\n",
            "         [-2.2214, -2.2214, -2.2214,  ..., -1.0703, -1.3239, -0.3094],\n",
            "         [-2.2214, -2.2214, -2.2214,  ..., -1.4410, -2.0068, -1.0508],\n",
            "         [-2.2214, -2.2214, -2.2214,  ..., -2.0068, -2.2214, -1.1093]]])\n"
          ]
        }
      ]
    },
    {
      "cell_type": "code",
      "source": [
        "# permute : 차원의 순서를 변경해줌 (\"3,32,32\"를 \"32, 32, 3\"으로 변환)\n",
        "plt.imshow(data.permute(1, 2, 0))"
      ],
      "metadata": {
        "colab": {
          "base_uri": "https://localhost:8080/",
          "height": 301
        },
        "id": "YysMcUM3EC_C",
        "outputId": "5917e2bd-a640-4e4d-f728-2663d69b82d4"
      },
      "execution_count": 22,
      "outputs": [
        {
          "output_type": "stream",
          "name": "stderr",
          "text": [
            "Clipping input data to the valid range for imshow with RGB data ([0..1] for floats or [0..255] for integers).\n"
          ]
        },
        {
          "output_type": "execute_result",
          "data": {
            "text/plain": [
              "<matplotlib.image.AxesImage at 0x7f7a323e2a90>"
            ]
          },
          "metadata": {},
          "execution_count": 22
        },
        {
          "output_type": "display_data",
          "data": {
            "text/plain": [
              "<Figure size 432x288 with 1 Axes>"
            ],
            "image/png": "[encoded data removed]"
          },
          "metadata": {
            "needs_background": "light"
          }
        }
      ]
    },
    {
      "cell_type": "code",
      "source": [
        "# test set을 불러올때도 변환을 해 줌\n",
        "# 성능 향상을 위한 이미지 전처리가 필요 없음\n",
        "test_transforms = transforms.Compose([\n",
        "  transforms.ToTensor(),\n",
        "  transforms.Normalize(\n",
        "      (0.4914, 0.4822, 0.4465),\n",
        "      (0.2023, 0.1994, 0.2010))])\n",
        "\n",
        "test_data = CIFAR10(\n",
        "      root=\"./test/\", \n",
        "      train=False, \n",
        "      transform=test_transforms)\n",
        "\n",
        "print(test_data)"
      ],
      "metadata": {
        "colab": {
          "base_uri": "https://localhost:8080/"
        },
        "id": "bzyyuPxRE7T1",
        "outputId": "92365ec2-9a2d-4051-b706-11226e9ac97f"
      },
      "execution_count": 26,
      "outputs": [
        {
          "output_type": "stream",
          "name": "stdout",
          "text": [
            "Dataset CIFAR10\n",
            "    Number of datapoints: 10000\n",
            "    Root location: ./test/\n",
            "    Split: Test\n",
            "    StandardTransform\n",
            "Transform: Compose(\n",
            "               ToTensor()\n",
            "               Normalize(mean=(0.4914, 0.4822, 0.4465), std=(0.2023, 0.1994, 0.201))\n",
            "           )\n"
          ]
        }
      ]
    },
    {
      "cell_type": "markdown",
      "source": [
        "#### 데이터를 직접 불러오는 방식\n",
        "> - Dataset : 소스에서 data를 불러오는 것\n",
        "> - DataLoader : Sampler를 통해 불러온 data의 일부만 가져옴\n",
        "> - Sampler classes : 불러온 dataset에서 sampling해서 쓰거나, 특정 크기로 batch(잘라서 사용)"
      ],
      "metadata": {
        "id": "cv9Sa2GHFx5x"
      }
    }
  ]
}