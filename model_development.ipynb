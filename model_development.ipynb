{
  "nbformat": 4,
  "nbformat_minor": 0,
  "metadata": {
    "colab": {
      "name": "model_development.ipynb",
      "provenance": [],
      "collapsed_sections": [
        "zqXpuWAomjJC"
      ],
      "authorship_tag": "ABX9TyO6I5YEm/ipTY18CHwoFMgX",
      "include_colab_link": true
    },
    "kernelspec": {
      "name": "python3",
      "display_name": "Python 3"
    },
    "language_info": {
      "name": "python"
    },
    "widgets": {
      "application/vnd.jupyter.widget-state+json": {
        "aeb8b0e374484f1697a743c18633f8b1": {
          "model_module": "@jupyter-widgets/controls",
          "model_name": "HBoxModel",
          "model_module_version": "1.5.0",
          "state": {
            "_dom_classes": [],
            "_model_module": "@jupyter-widgets/controls",
            "_model_module_version": "1.5.0",
            "_model_name": "HBoxModel",
            "_view_count": null,
            "_view_module": "@jupyter-widgets/controls",
            "_view_module_version": "1.5.0",
            "_view_name": "HBoxView",
            "box_style": "",
            "children": [
              "IPY_MODEL_87439f69ae0e4980910d0f8d415eec9a",
              "IPY_MODEL_56f529b840fa439c826716e0859d6b90",
              "IPY_MODEL_8e79d370bca345db8427a5781125feb0"
            ],
            "layout": "IPY_MODEL_d7df1b9ce03e4ceeb365dd9849909e9c"
          }
        },
        "87439f69ae0e4980910d0f8d415eec9a": {
          "model_module": "@jupyter-widgets/controls",
          "model_name": "HTMLModel",
          "model_module_version": "1.5.0",
          "state": {
            "_dom_classes": [],
            "_model_module": "@jupyter-widgets/controls",
            "_model_module_version": "1.5.0",
            "_model_name": "HTMLModel",
            "_view_count": null,
            "_view_module": "@jupyter-widgets/controls",
            "_view_module_version": "1.5.0",
            "_view_name": "HTMLView",
            "description": "",
            "description_tooltip": null,
            "layout": "IPY_MODEL_52fecdb2a04b48719a3df36855e3ae18",
            "placeholder": "​",
            "style": "IPY_MODEL_0d992a8f2df84db0b4c9912f95046522",
            "value": "100%"
          }
        },
        "56f529b840fa439c826716e0859d6b90": {
          "model_module": "@jupyter-widgets/controls",
          "model_name": "FloatProgressModel",
          "model_module_version": "1.5.0",
          "state": {
            "_dom_classes": [],
            "_model_module": "@jupyter-widgets/controls",
            "_model_module_version": "1.5.0",
            "_model_name": "FloatProgressModel",
            "_view_count": null,
            "_view_module": "@jupyter-widgets/controls",
            "_view_module_version": "1.5.0",
            "_view_name": "ProgressView",
            "bar_style": "success",
            "description": "",
            "description_tooltip": null,
            "layout": "IPY_MODEL_a1438f6f4cce4705a071fc4939e19893",
            "max": 553433881,
            "min": 0,
            "orientation": "horizontal",
            "style": "IPY_MODEL_0d67061f041c4eb0ad37658393d54041",
            "value": 553433881
          }
        },
        "8e79d370bca345db8427a5781125feb0": {
          "model_module": "@jupyter-widgets/controls",
          "model_name": "HTMLModel",
          "model_module_version": "1.5.0",
          "state": {
            "_dom_classes": [],
            "_model_module": "@jupyter-widgets/controls",
            "_model_module_version": "1.5.0",
            "_model_name": "HTMLModel",
            "_view_count": null,
            "_view_module": "@jupyter-widgets/controls",
            "_view_module_version": "1.5.0",
            "_view_name": "HTMLView",
            "description": "",
            "description_tooltip": null,
            "layout": "IPY_MODEL_902121db756b4c218b45f30fe4ff8ac8",
            "placeholder": "​",
            "style": "IPY_MODEL_e0440fde27b049c18f0d49a7a38c088d",
            "value": " 528M/528M [00:04&lt;00:00, 113MB/s]"
          }
        },
        "d7df1b9ce03e4ceeb365dd9849909e9c": {
          "model_module": "@jupyter-widgets/base",
          "model_name": "LayoutModel",
          "model_module_version": "1.2.0",
          "state": {
            "_model_module": "@jupyter-widgets/base",
            "_model_module_version": "1.2.0",
            "_model_name": "LayoutModel",
            "_view_count": null,
            "_view_module": "@jupyter-widgets/base",
            "_view_module_version": "1.2.0",
            "_view_name": "LayoutView",
            "align_content": null,
            "align_items": null,
            "align_self": null,
            "border": null,
            "bottom": null,
            "display": null,
            "flex": null,
            "flex_flow": null,
            "grid_area": null,
            "grid_auto_columns": null,
            "grid_auto_flow": null,
            "grid_auto_rows": null,
            "grid_column": null,
            "grid_gap": null,
            "grid_row": null,
            "grid_template_areas": null,
            "grid_template_columns": null,
            "grid_template_rows": null,
            "height": null,
            "justify_content": null,
            "justify_items": null,
            "left": null,
            "margin": null,
            "max_height": null,
            "max_width": null,
            "min_height": null,
            "min_width": null,
            "object_fit": null,
            "object_position": null,
            "order": null,
            "overflow": null,
            "overflow_x": null,
            "overflow_y": null,
            "padding": null,
            "right": null,
            "top": null,
            "visibility": null,
            "width": null
          }
        },
        "52fecdb2a04b48719a3df36855e3ae18": {
          "model_module": "@jupyter-widgets/base",
          "model_name": "LayoutModel",
          "model_module_version": "1.2.0",
          "state": {
            "_model_module": "@jupyter-widgets/base",
            "_model_module_version": "1.2.0",
            "_model_name": "LayoutModel",
            "_view_count": null,
            "_view_module": "@jupyter-widgets/base",
            "_view_module_version": "1.2.0",
            "_view_name": "LayoutView",
            "align_content": null,
            "align_items": null,
            "align_self": null,
            "border": null,
            "bottom": null,
            "display": null,
            "flex": null,
            "flex_flow": null,
            "grid_area": null,
            "grid_auto_columns": null,
            "grid_auto_flow": null,
            "grid_auto_rows": null,
            "grid_column": null,
            "grid_gap": null,
            "grid_row": null,
            "grid_template_areas": null,
            "grid_template_columns": null,
            "grid_template_rows": null,
            "height": null,
            "justify_content": null,
            "justify_items": null,
            "left": null,
            "margin": null,
            "max_height": null,
            "max_width": null,
            "min_height": null,
            "min_width": null,
            "object_fit": null,
            "object_position": null,
            "order": null,
            "overflow": null,
            "overflow_x": null,
            "overflow_y": null,
            "padding": null,
            "right": null,
            "top": null,
            "visibility": null,
            "width": null
          }
        },
        "0d992a8f2df84db0b4c9912f95046522": {
          "model_module": "@jupyter-widgets/controls",
          "model_name": "DescriptionStyleModel",
          "model_module_version": "1.5.0",
          "state": {
            "_model_module": "@jupyter-widgets/controls",
            "_model_module_version": "1.5.0",
            "_model_name": "DescriptionStyleModel",
            "_view_count": null,
            "_view_module": "@jupyter-widgets/base",
            "_view_module_version": "1.2.0",
            "_view_name": "StyleView",
            "description_width": ""
          }
        },
        "a1438f6f4cce4705a071fc4939e19893": {
          "model_module": "@jupyter-widgets/base",
          "model_name": "LayoutModel",
          "model_module_version": "1.2.0",
          "state": {
            "_model_module": "@jupyter-widgets/base",
            "_model_module_version": "1.2.0",
            "_model_name": "LayoutModel",
            "_view_count": null,
            "_view_module": "@jupyter-widgets/base",
            "_view_module_version": "1.2.0",
            "_view_name": "LayoutView",
            "align_content": null,
            "align_items": null,
            "align_self": null,
            "border": null,
            "bottom": null,
            "display": null,
            "flex": null,
            "flex_flow": null,
            "grid_area": null,
            "grid_auto_columns": null,
            "grid_auto_flow": null,
            "grid_auto_rows": null,
            "grid_column": null,
            "grid_gap": null,
            "grid_row": null,
            "grid_template_areas": null,
            "grid_template_columns": null,
            "grid_template_rows": null,
            "height": null,
            "justify_content": null,
            "justify_items": null,
            "left": null,
            "margin": null,
            "max_height": null,
            "max_width": null,
            "min_height": null,
            "min_width": null,
            "object_fit": null,
            "object_position": null,
            "order": null,
            "overflow": null,
            "overflow_x": null,
            "overflow_y": null,
            "padding": null,
            "right": null,
            "top": null,
            "visibility": null,
            "width": null
          }
        },
        "0d67061f041c4eb0ad37658393d54041": {
          "model_module": "@jupyter-widgets/controls",
          "model_name": "ProgressStyleModel",
          "model_module_version": "1.5.0",
          "state": {
            "_model_module": "@jupyter-widgets/controls",
            "_model_module_version": "1.5.0",
            "_model_name": "ProgressStyleModel",
            "_view_count": null,
            "_view_module": "@jupyter-widgets/base",
            "_view_module_version": "1.2.0",
            "_view_name": "StyleView",
            "bar_color": null,
            "description_width": ""
          }
        },
        "902121db756b4c218b45f30fe4ff8ac8": {
          "model_module": "@jupyter-widgets/base",
          "model_name": "LayoutModel",
          "model_module_version": "1.2.0",
          "state": {
            "_model_module": "@jupyter-widgets/base",
            "_model_module_version": "1.2.0",
            "_model_name": "LayoutModel",
            "_view_count": null,
            "_view_module": "@jupyter-widgets/base",
            "_view_module_version": "1.2.0",
            "_view_name": "LayoutView",
            "align_content": null,
            "align_items": null,
            "align_self": null,
            "border": null,
            "bottom": null,
            "display": null,
            "flex": null,
            "flex_flow": null,
            "grid_area": null,
            "grid_auto_columns": null,
            "grid_auto_flow": null,
            "grid_auto_rows": null,
            "grid_column": null,
            "grid_gap": null,
            "grid_row": null,
            "grid_template_areas": null,
            "grid_template_columns": null,
            "grid_template_rows": null,
            "height": null,
            "justify_content": null,
            "justify_items": null,
            "left": null,
            "margin": null,
            "max_height": null,
            "max_width": null,
            "min_height": null,
            "min_width": null,
            "object_fit": null,
            "object_position": null,
            "order": null,
            "overflow": null,
            "overflow_x": null,
            "overflow_y": null,
            "padding": null,
            "right": null,
            "top": null,
            "visibility": null,
            "width": null
          }
        },
        "e0440fde27b049c18f0d49a7a38c088d": {
          "model_module": "@jupyter-widgets/controls",
          "model_name": "DescriptionStyleModel",
          "model_module_version": "1.5.0",
          "state": {
            "_model_module": "@jupyter-widgets/controls",
            "_model_module_version": "1.5.0",
            "_model_name": "DescriptionStyleModel",
            "_view_count": null,
            "_view_module": "@jupyter-widgets/base",
            "_view_module_version": "1.2.0",
            "_view_name": "StyleView",
            "description_width": ""
          }
        }
      }
    }
  },
  "cells": [
    {
      "cell_type": "markdown",
      "metadata": {
        "id": "view-in-github",
        "colab_type": "text"
      },
      "source": [
        "<a href=\"https://colab.research.google.com/github/bosunKwak/BigData/blob/main/model_development.ipynb\" target=\"_parent\"><img src=\"https://colab.research.google.com/assets/colab-badge.svg\" alt=\"Open In Colab\"/></a>"
      ]
    },
    {
      "cell_type": "markdown",
      "source": [
        "# 기본적인 흐름"
      ],
      "metadata": {
        "id": "gYVPigAYod-x"
      }
    },
    {
      "cell_type": "markdown",
      "source": [
        "<center><img width=\"500\" alt=\"스크린샷 2022-04-18 오후 4 37 29\" src=\"https://user-images.githubusercontent.com/87002218/163774262-7df26e60-6892-45f4-8c25-e2bf7bd68136.png\"></center>\n",
        "\n"
      ],
      "metadata": {
        "id": "S4p1b5GnmjaN"
      }
    },
    {
      "cell_type": "markdown",
      "source": [
        "1. 데이터를 학습할 때, 크게 세 부분으로 나눔\n",
        "- trainset(+ validation), testset\n",
        "   - trainset, validation set : 모델을 학습하는 과정에서 사용\n",
        "   - testset : 모델 성능 평가할 때 사용 <br>\n",
        "\n",
        "<br>\n",
        "\n",
        "2. Model을 함수로 볼 수 있음 <br>\n",
        " y hat = f( X, w)\n",
        "- parameter를 찾는 것 == 학습을 한다\n",
        "- X : data\n",
        "- y hat : 예측값\n",
        "\n",
        "<br>\n",
        "\n",
        "3. 예측값이 잘 예측이 됐는지 평가\n",
        "L(y,y hat)\n",
        "- L (Loss function) : 실제 값과 예측값이 얼마나 차이나는지 정의해주는 함수\n",
        "- 오차/ 에러를 측정하는 방법을 정의해주어야 함 \n",
        "\n",
        "<br>\n",
        "\n",
        "4. 예측값이 실제값과의 차이가 적도록 계속해서 학습을 시켜줌\n",
        "- Loss가 가장 작아질때의 Parameter를 찾아줌  == train이 됨\n",
        "\n",
        "<br>\n",
        "\n",
        "5. train이 다 됐다(== parameter를 찾았다)라고 판단이 되면,<br>\n",
        "train이 된 모델(y hat = f(X,w))을 최종적으로 testset을 대입하여 <br>\n",
        "예측값과 실제 testset 값 차이 비교"
      ],
      "metadata": {
        "id": "-Q000G6Smyfb"
      }
    },
    {
      "cell_type": "markdown",
      "source": [
        "# The Overall Process\n",
        "1. Data prepartion stage\n",
        "  - 1) Load data\n",
        "    - built-in classes : Dataset, Sampler, DataLoader\n",
        "  - 2) Transform (convert it to numeric values)\n",
        "  - 3) Batching (batch 단위로 묶음)\n",
        "\n",
        "2. Model Development stage\n",
        "  - 1) Design \n",
        "  - 2) Training \n",
        "    - (weight 값을 찾는 것 == 학습을 시킴)\n",
        "    - 예측한 결과와 실제 나온 결과의 오차가 가장 minimum 하도록\n",
        "  - 3) Testing\n",
        "  - Pytorch의 경우 \"torch.nn\" module 사용\n",
        "  - Separate dataset into 3 parts : training, validation, testing\n",
        "  - Define a loss function and optimizer\n",
        "  - Backpropagating and Update\n",
        "\n",
        "3. Model Deployment stage\n",
        "  - File에 저장하거나 배포"
      ],
      "metadata": {
        "id": "WF2YW1APisBE"
      }
    },
    {
      "cell_type": "markdown",
      "source": [
        "## 1.Data Preparation Stage\n"
      ],
      "metadata": {
        "id": "zqXpuWAomjJC"
      }
    },
    {
      "cell_type": "markdown",
      "source": [
        "### 1) Data Loading\n",
        "Example(CIFAR-10)"
      ],
      "metadata": {
        "id": "JEYSstJdnCIk"
      }
    },
    {
      "cell_type": "code",
      "source": [
        "# torchvision : 이미지 관련된 model이나 model 관련 dataset들이 들어있는 모듈\n",
        "from torchvision.datasets import CIFAR10\n",
        "\n",
        "# 파일 다운\n",
        "train_data = CIFAR10(root=\"./train/\",\n",
        "                    train=True, \n",
        "                    download=True)"
      ],
      "metadata": {
        "colab": {
          "base_uri": "https://localhost:8080/",
          "height": 0
        },
        "id": "k4KZrakF6LcP",
        "outputId": "06d418ac-5e73-4e41-d676-b4b1c02d13e0"
      },
      "execution_count": 23,
      "outputs": [
        {
          "output_type": "stream",
          "name": "stdout",
          "text": [
            "Files already downloaded and verified\n"
          ]
        }
      ]
    },
    {
      "cell_type": "code",
      "source": [
        "# data 확인\n",
        "print(train_data)\n",
        "\n",
        "# data 길이(개수)\n",
        "print(len(train_data)) # out: 50000\n",
        "\n",
        "# 차원\n",
        "print(train_data.data.shape) \n",
        "#(50000, 32, 32, 3)  - 50000개의 set, 32 x 32 인 color image가 3개의 channel로 있음\n",
        "\n",
        "# target : label (분류하고자하는 정답)\n",
        "#print(train_data.targets) # list. 너무 많아서 생략. \n",
        "\n",
        "# 각 class 이름\n",
        "print(train_data.classes)\n",
        "\n",
        "# class가 target에 어떻게 매핑되는지 확인\n",
        "print(train_data.class_to_idx)"
      ],
      "metadata": {
        "colab": {
          "base_uri": "https://localhost:8080/",
          "height": 0
        },
        "id": "-chzdrfB8RuL",
        "outputId": "df7b2d25-baa6-4114-d02c-4f77871a7fc6"
      },
      "execution_count": 24,
      "outputs": [
        {
          "output_type": "stream",
          "name": "stdout",
          "text": [
            "Dataset CIFAR10\n",
            "    Number of datapoints: 50000\n",
            "    Root location: ./train/\n",
            "    Split: Train\n",
            "50000\n",
            "(50000, 32, 32, 3)\n",
            "['airplane', 'automobile', 'bird', 'cat', 'deer', 'dog', 'frog', 'horse', 'ship', 'truck']\n",
            "{'airplane': 0, 'automobile': 1, 'bird': 2, 'cat': 3, 'deer': 4, 'dog': 5, 'frog': 6, 'horse': 7, 'ship': 8, 'truck': 9}\n"
          ]
        }
      ]
    },
    {
      "cell_type": "code",
      "source": [
        "# 첫번째 train data의 type\n",
        "print(type(train_data[0]))\n",
        "# <class 'tuple'>\n",
        "# tuple : array와 비슷 + 속성을 변경할 수 없는 특징\n",
        "\n",
        "# 첫 번째 train data의 길이(개수) : 몇 개의 data로 되어있는지 확인\n",
        "print(len(train_data[0]))\n",
        "\n",
        "data, label = train_data[0]\n",
        "\n",
        "# 이미지 타입\n",
        "print(type(data))\n",
        "#<class 'PIL.Image.Image'>\n",
        "\n",
        "# 이미지 정보 \n",
        "print(data)"
      ],
      "metadata": {
        "colab": {
          "base_uri": "https://localhost:8080/",
          "height": 0
        },
        "id": "u5YxrN_xBjhX",
        "outputId": "3c52176b-ecdd-4520-e696-c6db8952659d"
      },
      "execution_count": 25,
      "outputs": [
        {
          "output_type": "stream",
          "name": "stdout",
          "text": [
            "<class 'tuple'>\n",
            "2\n",
            "<class 'PIL.Image.Image'>\n",
            "<PIL.Image.Image image mode=RGB size=32x32 at 0x7FD83EE53A50>\n"
          ]
        }
      ]
    },
    {
      "cell_type": "code",
      "source": [
        "import matplotlib.pyplot as plt\n",
        "\n",
        "plt.imshow(data)"
      ],
      "metadata": {
        "colab": {
          "base_uri": "https://localhost:8080/",
          "height": 284
        },
        "id": "W8ll3lX6CHmE",
        "outputId": "14e9738e-e10d-45e8-90fc-07303eec47e5"
      },
      "execution_count": 26,
      "outputs": [
        {
          "output_type": "execute_result",
          "data": {
            "text/plain": [
              "<matplotlib.image.AxesImage at 0x7fd83eca9fd0>"
            ]
          },
          "metadata": {},
          "execution_count": 26
        },
        {
          "output_type": "display_data",
          "data": {
            "text/plain": [
              "<Figure size 432x288 with 1 Axes>"
            ],
            "image/png": "[encoded data removed]"
          },
          "metadata": {
            "needs_background": "light"
          }
        }
      ]
    },
    {
      "cell_type": "code",
      "source": [
        "print(type(label))\n",
        "# out: <class 'int'>\n",
        "\n",
        "print(label)\n",
        "# out: 6 \n",
        "# 이렇게 숫자로 보면 직관적이지 않으므로, 아래 코드를 통해 train data class의 이름을 가져옴\n",
        "print(train_data.classes[label])\n",
        "# out: frog"
      ],
      "metadata": {
        "colab": {
          "base_uri": "https://localhost:8080/",
          "height": 0
        },
        "id": "H3a5gxnbCY6R",
        "outputId": "e498d427-3241-48e4-b0af-9d9e1ed6bc15"
      },
      "execution_count": 27,
      "outputs": [
        {
          "output_type": "stream",
          "name": "stdout",
          "text": [
            "<class 'int'>\n",
            "6\n",
            "frog\n"
          ]
        }
      ]
    },
    {
      "cell_type": "code",
      "source": [
        "test_data = CIFAR10(root=\"./test/\", \n",
        "                    train=False, # 이 부분만 다름\n",
        "                    download=True)\n",
        "\n",
        "print(test_data)\n",
        "print(len(test_data))\n",
        "\n",
        "print(test_data.data.shape) # test 개수만 다른 것을 확인할 수 있음 \n",
        "# out: (10000, 32, 32, 3)"
      ],
      "metadata": {
        "colab": {
          "base_uri": "https://localhost:8080/",
          "height": 0
        },
        "id": "b5a9hC1jCuOs",
        "outputId": "cedc45c6-ff0f-4f2d-cd6e-52d7c62977a1"
      },
      "execution_count": 28,
      "outputs": [
        {
          "output_type": "stream",
          "name": "stdout",
          "text": [
            "Files already downloaded and verified\n",
            "Dataset CIFAR10\n",
            "    Number of datapoints: 10000\n",
            "    Root location: ./test/\n",
            "    Split: Test\n",
            "10000\n",
            "(10000, 32, 32, 3)\n"
          ]
        }
      ]
    },
    {
      "cell_type": "markdown",
      "source": [
        "### 2) Data Transforms\n",
        "\n",
        "변환을 해주는 이유?\n",
        "- 학습을 잘 하기 위해서\n",
        "- model이 사용할 수 있는 형태로 변환해 주기 위해서\n"
      ],
      "metadata": {
        "id": "29VuDV2pC6DQ"
      }
    },
    {
      "cell_type": "code",
      "source": [
        "from torchvision import transforms\n",
        "\n",
        "train_transforms = transforms.Compose([\n",
        "  transforms.RandomCrop(32, padding=4),\n",
        "  transforms.RandomHorizontalFlip(),\n",
        "  transforms.ToTensor(),\n",
        "  transforms.Normalize(\n",
        "      (0.4914, 0.4822, 0.4465),\n",
        "      (0.2023, 0.1994, 0.2010))])\n",
        "\n",
        "train_data = CIFAR10(root=\"./train/\",\n",
        "                    train=True, \n",
        "                    download=True,\n",
        "                    transform=train_transforms)\n",
        "\n",
        "print(train_data)\n",
        "print(train_data.transforms)"
      ],
      "metadata": {
        "colab": {
          "base_uri": "https://localhost:8080/",
          "height": 0
        },
        "id": "neN5trb8C-1y",
        "outputId": "8a46667e-c0d1-4711-8993-98c1587dab0c"
      },
      "execution_count": 29,
      "outputs": [
        {
          "output_type": "stream",
          "name": "stdout",
          "text": [
            "Files already downloaded and verified\n",
            "Dataset CIFAR10\n",
            "    Number of datapoints: 50000\n",
            "    Root location: ./train/\n",
            "    Split: Train\n",
            "    StandardTransform\n",
            "Transform: Compose(\n",
            "               RandomCrop(size=(32, 32), padding=4)\n",
            "               RandomHorizontalFlip(p=0.5)\n",
            "               ToTensor()\n",
            "               Normalize(mean=(0.4914, 0.4822, 0.4465), std=(0.2023, 0.1994, 0.201))\n",
            "           )\n",
            "StandardTransform\n",
            "Transform: Compose(\n",
            "               RandomCrop(size=(32, 32), padding=4)\n",
            "               RandomHorizontalFlip(p=0.5)\n",
            "               ToTensor()\n",
            "               Normalize(mean=(0.4914, 0.4822, 0.4465), std=(0.2023, 0.1994, 0.201))\n",
            "           )\n"
          ]
        }
      ]
    },
    {
      "cell_type": "code",
      "source": [
        "# 첫번째 image만 가져와서 확인\n",
        "data, label = train_data[0]\n",
        "\n",
        "print(type(data))\n",
        "# <class 'torch.Tensor'> : Tensor로 바뀐것을 확인 할 수 있음\n",
        "\n",
        "print(data.size())\n",
        "# torch.Size([3, 32, 32]) : 채널 정보가 앞으로 감 \n",
        "\n",
        "# print(data) "
      ],
      "metadata": {
        "colab": {
          "base_uri": "https://localhost:8080/",
          "height": 0
        },
        "id": "BnIVqve7Dtah",
        "outputId": "0c60f605-0ec3-4f60-df32-b007bd5ce603"
      },
      "execution_count": 30,
      "outputs": [
        {
          "output_type": "stream",
          "name": "stdout",
          "text": [
            "<class 'torch.Tensor'>\n",
            "torch.Size([3, 32, 32])\n"
          ]
        }
      ]
    },
    {
      "cell_type": "code",
      "source": [
        "# permute : 차원의 순서를 변경해줌 (\"3,32,32\"를 \"32, 32, 3\"으로 변환)\n",
        "plt.imshow(data.permute(1, 2, 0))"
      ],
      "metadata": {
        "colab": {
          "base_uri": "https://localhost:8080/",
          "height": 301
        },
        "id": "YysMcUM3EC_C",
        "outputId": "f91a68d9-5e73-45db-bef9-8f6bf82297ef"
      },
      "execution_count": 31,
      "outputs": [
        {
          "output_type": "stream",
          "name": "stderr",
          "text": [
            "Clipping input data to the valid range for imshow with RGB data ([0..1] for floats or [0..255] for integers).\n"
          ]
        },
        {
          "output_type": "execute_result",
          "data": {
            "text/plain": [
              "<matplotlib.image.AxesImage at 0x7fd83ece81d0>"
            ]
          },
          "metadata": {},
          "execution_count": 31
        },
        {
          "output_type": "display_data",
          "data": {
            "text/plain": [
              "<Figure size 432x288 with 1 Axes>"
            ],
            "image/png": "[encoded data removed]"
          },
          "metadata": {
            "needs_background": "light"
          }
        }
      ]
    },
    {
      "cell_type": "code",
      "source": [
        "# test set을 불러올때도 변환을 해 줌\n",
        "# 성능 향상을 위한 이미지 전처리가 필요 없음\n",
        "test_transforms = transforms.Compose([\n",
        "  transforms.ToTensor(),\n",
        "  transforms.Normalize(\n",
        "      (0.4914, 0.4822, 0.4465),\n",
        "      (0.2023, 0.1994, 0.2010))])\n",
        "\n",
        "test_data = CIFAR10(\n",
        "      root=\"./test/\", \n",
        "      train=False, \n",
        "      transform=test_transforms)\n",
        "\n",
        "print(test_data)"
      ],
      "metadata": {
        "colab": {
          "base_uri": "https://localhost:8080/",
          "height": 0
        },
        "id": "bzyyuPxRE7T1",
        "outputId": "9efae947-efaf-443f-fb81-fb804405125e"
      },
      "execution_count": 32,
      "outputs": [
        {
          "output_type": "stream",
          "name": "stdout",
          "text": [
            "Dataset CIFAR10\n",
            "    Number of datapoints: 10000\n",
            "    Root location: ./test/\n",
            "    Split: Test\n",
            "    StandardTransform\n",
            "Transform: Compose(\n",
            "               ToTensor()\n",
            "               Normalize(mean=(0.4914, 0.4822, 0.4465), std=(0.2023, 0.1994, 0.201))\n",
            "           )\n"
          ]
        }
      ]
    },
    {
      "cell_type": "markdown",
      "source": [
        "#### 데이터를 직접 불러오는 방식\n",
        "> - Dataset : 소스에서 data를 불러오는 것\n",
        "> - DataLoader : Sampler를 통해 불러온 data의 일부만 가져옴\n",
        "> - Sampler : 불러온 dataset에서 sampling해서 쓰거나, 특정 크기로 batch(잘라서 사용)\n",
        "\n",
        "> 위 클래스들은 torch.utils.data 안에 있음 <br>\n",
        "> ⭐️ 아래 코드처럼 custom한 dataset을 쓸 수 있는데, \"init, len, getitem\"를 정의해주어야한다⭐️"
      ],
      "metadata": {
        "id": "cv9Sa2GHFx5x"
      }
    },
    {
      "cell_type": "markdown",
      "source": [
        "##### - Dataset class"
      ],
      "metadata": {
        "id": "D73hjColfyhs"
      }
    },
    {
      "cell_type": "code",
      "source": [
        "# (주어진 Dataset이 없어서 코드 안돌아감)\n",
        "\n",
        "import torch.utils.data\n",
        "\n",
        "# Dataset를 상속받아 사용 - init, len, getitem \n",
        "class CustomImageDataset(Dataset):\n",
        "  # 1. init : 초기화 할 내용 \n",
        "  def __init__(self, annotations_file, img_dir, transform=None, target_transform=None): # file 경로, image경로, 변환정보, 타깃변환정보\n",
        "    self.img_labels = pd.read_csv(annotations_file) \n",
        "    self.img_dir = img_dir\n",
        "    self.transform = transform\n",
        "    self.target_transform = target_transform\n",
        "\n",
        "  # 2. len : 데이터의 개수 반환\n",
        "  def __len__(self):\n",
        "    return len(self.img_labels)\n",
        "\n",
        "  # 3. getitem : 데이터의 값 전달 \n",
        "  def __getitem__(self, idx):\n",
        "    img_path = os.path.join(self.img_dir, self.img_labels.iloc[idx, 0])\n",
        "    image = read_image(img_path)\n",
        "    label = self.img_labels.iloc[idx, 1]\n",
        "    if self.transform:\n",
        "      image = self.transform(image)\n",
        "    if self.target_transform:\n",
        "      label = self.target_transform(label)\n",
        "    return image, label\n"
      ],
      "metadata": {
        "id": "7p4MD_RxKvXp"
      },
      "execution_count": 35,
      "outputs": []
    },
    {
      "cell_type": "markdown",
      "source": [
        "##### - Data Loader class"
      ],
      "metadata": {
        "id": "YVZU1gcxfv_3"
      }
    },
    {
      "cell_type": "code",
      "source": [
        "# (주어진 Dataset이 없어서 코드 안돌아감)\n",
        "\n",
        "# 주로 dataset(inputdata), batch size, shuffle, sampler  4개 사용\n",
        "torch.utils.data.DataLoader(\n",
        "    dataset,\n",
        "    batch_size = 4,\n",
        "    shuffle=False,\n",
        "    sampler = None\n",
        ")"
      ],
      "metadata": {
        "id": "3Abr071yfg1R"
      },
      "execution_count": 36,
      "outputs": []
    },
    {
      "cell_type": "markdown",
      "source": [
        "### 3) Data Batching\n",
        "\n",
        "> DataLoader class 사용"
      ],
      "metadata": {
        "id": "WHuHg-7U8KCO"
      }
    },
    {
      "cell_type": "code",
      "source": [
        "trainloader = torch.utils.data.DataLoader(\n",
        "                    train_data, \n",
        "                    batch_size=16, \n",
        "                    shuffle=True)\n",
        "\n",
        "# iteration 객체로 만듦\n",
        "data_batch, labels_batch = next(iter(trainloader))\n",
        "\n",
        "print(data_batch.size())\n",
        "# out : torch.Size([16, 3, 32, 32]) # 32 x 32 이미지가 3채널 있고, 16개씩 데이터가 묶여서 나옴\n",
        "\n",
        "print(labels_batch.size())\n",
        "\n",
        "# test도 동일한 방식으로\n",
        "testloader = torch.utils.data.DataLoader(\n",
        "                    test_data, \n",
        "                    batch_size=16, \n",
        "                    shuffle=False)"
      ],
      "metadata": {
        "colab": {
          "base_uri": "https://localhost:8080/",
          "height": 0
        },
        "id": "-qROuMHxg-9B",
        "outputId": "fffbbbbd-e544-4ab6-e6c1-97ad6e4e70e0"
      },
      "execution_count": 37,
      "outputs": [
        {
          "output_type": "stream",
          "name": "stdout",
          "text": [
            "torch.Size([16, 3, 32, 32])\n",
            "torch.Size([16])\n"
          ]
        }
      ]
    },
    {
      "cell_type": "markdown",
      "source": [
        "## 2. Model Development stage\n"
      ],
      "metadata": {
        "id": "DqOf3I9Gib-o"
      }
    },
    {
      "cell_type": "markdown",
      "source": [
        "### 1) Model Design\n",
        "- ex) input 2, output 1개일 때, 두 개의 값을 연산하고 임계치를 넘으면 output으로 내보낼지 여부를 결정하는 활성함수를 거치는 이런 구조를 짜주는 것\n",
        "- parameter : 선 (중요도 증가 : 값이 커짐 == 선이 굵어짐 == 해당 input 비중이 커짐) -> 시각적으로 표현하면, matrix로 표현됨\n",
        "- 기존에 존재하는 모델의 일부만 수정하는 형태로 많이 사용( == 전이학습 )"
      ],
      "metadata": {
        "id": "QK0h_FCKidsY"
      }
    },
    {
      "cell_type": "code",
      "source": [
        "from torchvision import models\n",
        "vgg16 = models.vgg16(pretrained = True) #pretrained = True : 이미 학습이 된 모델 가져옴"
      ],
      "metadata": {
        "colab": {
          "base_uri": "https://localhost:8080/",
          "height": 67,
          "referenced_widgets": [
            "aeb8b0e374484f1697a743c18633f8b1",
            "87439f69ae0e4980910d0f8d415eec9a",
            "56f529b840fa439c826716e0859d6b90",
            "8e79d370bca345db8427a5781125feb0",
            "d7df1b9ce03e4ceeb365dd9849909e9c",
            "52fecdb2a04b48719a3df36855e3ae18",
            "0d992a8f2df84db0b4c9912f95046522",
            "a1438f6f4cce4705a071fc4939e19893",
            "0d67061f041c4eb0ad37658393d54041",
            "902121db756b4c218b45f30fe4ff8ac8",
            "e0440fde27b049c18f0d49a7a38c088d"
          ]
        },
        "id": "hX01BuHVHNPI",
        "outputId": "bee15e32-13c0-4a3e-e6a8-da11d7b7399e"
      },
      "execution_count": 38,
      "outputs": [
        {
          "output_type": "stream",
          "name": "stderr",
          "text": [
            "Downloading: \"https://download.pytorch.org/models/vgg16-397923af.pth\" to /root/.cache/torch/hub/checkpoints/vgg16-397923af.pth\n"
          ]
        },
        {
          "output_type": "display_data",
          "data": {
            "text/plain": [
              "  0%|          | 0.00/528M [00:00<?, ?B/s]"
            ],
            "application/vnd.jupyter.widget-view+json": {
              "version_major": 2,
              "version_minor": 0,
              "model_id": "aeb8b0e374484f1697a743c18633f8b1"
            }
          },
          "metadata": {}
        }
      ]
    },
    {
      "cell_type": "code",
      "source": [
        "# 모델 구조\n",
        "print(vgg16.classifier)"
      ],
      "metadata": {
        "colab": {
          "base_uri": "https://localhost:8080/"
        },
        "id": "AFGSby50Hiw2",
        "outputId": "ecbd1400-1886-42b3-acc3-51dbe3be4cd9"
      },
      "execution_count": 39,
      "outputs": [
        {
          "output_type": "stream",
          "name": "stdout",
          "text": [
            "Sequential(\n",
            "  (0): Linear(in_features=25088, out_features=4096, bias=True)\n",
            "  (1): ReLU(inplace=True)\n",
            "  (2): Dropout(p=0.5, inplace=False)\n",
            "  (3): Linear(in_features=4096, out_features=4096, bias=True)\n",
            "  (4): ReLU(inplace=True)\n",
            "  (5): Dropout(p=0.5, inplace=False)\n",
            "  (6): Linear(in_features=4096, out_features=1000, bias=True)\n",
            ")\n"
          ]
        }
      ]
    },
    {
      "cell_type": "markdown",
      "source": [
        "### 2) Training\n",
        "- matrix 안의 값들을 찾아주는 단계\n",
        "- output(y hat)과 실제값(y)의 차이를 구해(Loss function) 가장 최소가 되도록 학습\n",
        "- validation : L(y hat, y) 에서 사용"
      ],
      "metadata": {
        "id": "9wGrljthG0IV"
      }
    },
    {
      "cell_type": "markdown",
      "source": [
        "### 3) Testing\n",
        "- 실제 testset으로 test\n",
        "- validation이나 test set은 train 할때, 사용하지 않았던 처음 본 data를 사용해야 함 "
      ],
      "metadata": {
        "id": "u54U2UR4G5gH"
      }
    }
  ]
}