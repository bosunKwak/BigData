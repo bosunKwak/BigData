{
  "nbformat": 4,
  "nbformat_minor": 0,
  "metadata": {
    "colab": {
      "name": "text classification.ipynb",
      "provenance": [],
      "collapsed_sections": [],
      "authorship_tag": "ABX9TyM2fwG99a1VOdQ4aLluzJyx",
      "include_colab_link": true
    },
    "kernelspec": {
      "name": "python3",
      "display_name": "Python 3"
    },
    "language_info": {
      "name": "python"
    }
  },
  "cells": [
    {
      "cell_type": "markdown",
      "metadata": {
        "id": "view-in-github",
        "colab_type": "text"
      },
      "source": [
        "<a href=\"https://colab.research.google.com/github/bosunKwak/BigData/blob/main/text_classification.ipynb\" target=\"_parent\"><img src=\"https://colab.research.google.com/assets/colab-badge.svg\" alt=\"Open In Colab\"/></a>"
      ]
    },
    {
      "cell_type": "markdown",
      "source": [
        "# The Overall Process\n",
        "<img width=\"380\" alt=\"스크린샷 2022-04-19 오후 11 29 44\" src=\"https://user-images.githubusercontent.com/87002218/164027812-736c6c74-e20b-4fcc-a057-dc2c1524d2c2.png\">\n"
      ],
      "metadata": {
        "id": "BeR26zdmNvsF"
      }
    },
    {
      "cell_type": "markdown",
      "source": [
        "\"here is the example\"\n",
        "1) Tokenize : here, is , the ,example\n",
        "- 문장을 토큰 시퀀스로 분석하는 과정\n",
        "- 토큰의 분리기준은 다를 수 있지만 문장을 구성하는 기본단위 -ex) 단어\n",
        "\n",
        "2) Vocabulary : 475, 21, 2, 30, 5297\n",
        "- 모은 단어의 토큰들을 합쳐 하나의 list를 만듦(어휘 집합 == 토크나이즈 수행 후 중복을 제거한 토큰들의 집합)\n",
        "- 각 단어를 문자 단위 ID 시퀀스로 변환하기 위해 사용\n",
        "\n",
        "3) Embedding : [[0.81,0.27,0.59], [ , , ], [ , , ], [ , , ]]\n",
        "- 컴퓨터는 인간이 사용하는 자연어를 있는 그대로 이해하는 것이 아니라 숫자를 계산\n",
        "- 사람이 쓰는 자연어를 기계가 이해할 수 잇는 숫자의 나열인 벡터로 바꾼 결과/ 일련의 과정 전체\n",
        "- 단어나 문장을 각각 벡터로 변환해 벡터 공간(vector space)로 끼워넣는다(embed) "
      ],
      "metadata": {
        "id": "_etOdQ8YO7YM"
      }
    },
    {
      "cell_type": "markdown",
      "source": [
        "# Text classification\n",
        "- [pytorch를 이용해서 모델을 개발하는 전반적인 과정](https://github.com/bosunKwak/BigData/blob/main/overall_process.ipynb)을 text data를 가지고 실습\n",
        "- [tutorial 참고](https://pytorch.org/tutorials/beginner/text_sentiment_ngrams_tutorial.html)\n",
        "- data preparation & model development \n",
        "- [dataset](https://pytorch.org/text/stable/datasets.html#ag-news)"
      ],
      "metadata": {
        "id": "yqAVLBBBKTbL"
      }
    },
    {
      "cell_type": "markdown",
      "source": [
        "## 1. Data Preparation"
      ],
      "metadata": {
        "id": "98x-FmrvX7xq"
      }
    },
    {
      "cell_type": "markdown",
      "source": [
        "### - Access to the raw dataset iterators"
      ],
      "metadata": {
        "id": "_f-jFfHWwY-h"
      }
    },
    {
      "cell_type": "code",
      "execution_count": 1,
      "metadata": {
        "id": "Zae3hlNOKLbg",
        "colab": {
          "base_uri": "https://localhost:8080/"
        },
        "outputId": "82fb931f-e52a-448a-9776-cea4dbf51393"
      },
      "outputs": [
        {
          "output_type": "stream",
          "name": "stderr",
          "text": [
            "29.5MB [00:00, 49.9MB/s]\n"
          ]
        }
      ],
      "source": [
        "import torch\n",
        "from torchtext.datasets import AG_NEWS\n",
        "train_iter = iter(AG_NEWS(split='train'))\n",
        "# iter : 순환 가능한 객체로 만드는 것"
      ]
    },
    {
      "cell_type": "code",
      "source": [
        "next(train_iter)\n",
        "# 하나씩 꺼내옴"
      ],
      "metadata": {
        "colab": {
          "base_uri": "https://localhost:8080/"
        },
        "id": "UJGR9b31SLd9",
        "outputId": "8f0b80f5-76ff-416b-a0c0-abd0dbab30e3"
      },
      "execution_count": 2,
      "outputs": [
        {
          "output_type": "execute_result",
          "data": {
            "text/plain": [
              "(3,\n",
              " \"Wall St. Bears Claw Back Into the Black (Reuters) Reuters - Short-sellers, Wall Street's dwindling\\\\band of ultra-cynics, are seeing green again.\")"
            ]
          },
          "metadata": {},
          "execution_count": 2
        }
      ]
    },
    {
      "cell_type": "code",
      "source": [
        "from torchtext.data.utils import get_tokenizer\n",
        "from torchtext.vocab import build_vocab_from_iterator\n",
        "\n",
        "# tokenizer 선정 \n",
        "tokenizer = get_tokenizer('basic_english')\n",
        "train_iter = AG_NEWS(split='train')\n",
        "\n",
        "# tokenizer 수행하는 함수\n",
        "def yield_tokens(data_iter):\n",
        "  # (category , text) : 뒤에 있는 text만 가져옴 \n",
        "    for _, text in data_iter:\n",
        "        yield tokenizer(text) # text를 tokenizer로 token화\n",
        "\n",
        "vocab = build_vocab_from_iterator(yield_tokens(train_iter), specials=[\"<unk>\"]) # tokenize된 token들이 vocab에 들어오고, 새로운 단어의 경우 <unknown>처리\n",
        "vocab.set_default_index(vocab[\"<unk>\"]) # set_default_index : unknown 이라는 token을 index로 지정하겠다는 의미"
      ],
      "metadata": {
        "id": "NDUKcEwySb0k"
      },
      "execution_count": 3,
      "outputs": []
    },
    {
      "cell_type": "code",
      "source": [
        "vocab.lookup_token(4)"
      ],
      "metadata": {
        "colab": {
          "base_uri": "https://localhost:8080/",
          "height": 36
        },
        "id": "SwNowDPPVKTM",
        "outputId": "c5c4c8c7-7ffd-440b-a648-26520a5cc2c4"
      },
      "execution_count": 4,
      "outputs": [
        {
          "output_type": "execute_result",
          "data": {
            "text/plain": [
              "'to'"
            ],
            "application/vnd.google.colaboratory.intrinsic+json": {
              "type": "string"
            }
          },
          "metadata": {},
          "execution_count": 4
        }
      ]
    },
    {
      "cell_type": "code",
      "source": [
        "vocab(['here','is','an','example','to'])"
      ],
      "metadata": {
        "colab": {
          "base_uri": "https://localhost:8080/"
        },
        "id": "vdC-kHgHVvia",
        "outputId": "4c1f98b4-6b0b-4418-9e2a-046826f9bb05"
      },
      "execution_count": 5,
      "outputs": [
        {
          "output_type": "execute_result",
          "data": {
            "text/plain": [
              "[475, 21, 30, 5297, 4]"
            ]
          },
          "metadata": {},
          "execution_count": 5
        }
      ]
    },
    {
      "cell_type": "markdown",
      "source": [
        "### - Prepare data processing pipelines\n",
        "text가 들어왔을 때, 이것을 어떻게 가공할 것인지에 대한 절차 정의"
      ],
      "metadata": {
        "id": "ni1u_PASXzJ4"
      }
    },
    {
      "cell_type": "code",
      "source": [
        "# text를 받았을 때 처리하는 pipeline\n",
        "text_pipeline = lambda x: vocab(tokenizer(x)) # x를 받아 tokenizer를 통해 토큰으로 바꾸고 다시 vocab으로\n",
        "\n",
        "# label 정보를 받았을 때 처리하는 pipeline\n",
        "label_pipeline = lambda x: int(x) - 1 # 1~4 -> 0~3"
      ],
      "metadata": {
        "id": "kf0d88hlYXq-"
      },
      "execution_count": 6,
      "outputs": []
    },
    {
      "cell_type": "code",
      "source": [
        "text_pipeline('here is an example')"
      ],
      "metadata": {
        "colab": {
          "base_uri": "https://localhost:8080/"
        },
        "id": "WRO4RvGcY9up",
        "outputId": "c9e4f4c9-d251-493b-be10-a85a7e9d8e5e"
      },
      "execution_count": 7,
      "outputs": [
        {
          "output_type": "execute_result",
          "data": {
            "text/plain": [
              "[475, 21, 30, 5297]"
            ]
          },
          "metadata": {},
          "execution_count": 7
        }
      ]
    },
    {
      "cell_type": "markdown",
      "source": [
        "### - Generate data batch and iterator\n"
      ],
      "metadata": {
        "id": "MsarJGz9ZK9K"
      }
    },
    {
      "cell_type": "markdown",
      "source": [
        "collate_fn \n",
        "- batch를 통해 collate_fn로 전달되면 데이터를 처리\n",
        "- collate : 종이를 순서에 맞춰서 정렬을 하는 것 \n"
      ],
      "metadata": {
        "id": "KkjNyASlZY1V"
      }
    },
    {
      "cell_type": "code",
      "source": [
        "from torch.utils.data import DataLoader\n",
        "device = torch.device(\"cuda\" if torch.cuda.is_available() else \"cpu\")\n",
        "\n",
        "# batch : Dataloader에서 받아온 batch \n",
        "def collate_batch(batch):\n",
        "    label_list, text_list, offsets = [], [], [0] #offsets : 문장이 시작되는 지점 (첫번째 문장의 offset : 0 )\n",
        "    for (_label, _text) in batch:\n",
        "         label_list.append(label_pipeline(_label))  \n",
        "         processed_text = torch.tensor(text_pipeline(_text), dtype=torch.int64) \n",
        "         text_list.append(processed_text)\n",
        "         offsets.append(processed_text.size(0))\n",
        "    label_list = torch.tensor(label_list, dtype=torch.int64)\n",
        "    offsets = torch.tensor(offsets[:-1]).cumsum(dim=0) # cumsum : 누적해서 더함(0,3,5,2)->(0,3,8,10) offse[:-1] : 마지막 빼고 계산\n",
        "    text_list = torch.cat(text_list)\n",
        "    return label_list.to(device), text_list.to(device), offsets.to(device)\n",
        "\n",
        "train_iter = AG_NEWS(split='train')\n",
        "dataloader = DataLoader(train_iter, batch_size=8, shuffle=False, collate_fn=collate_batch) # collate_fn에 지정 "
      ],
      "metadata": {
        "id": "_tIBntFbZQzF"
      },
      "execution_count": 8,
      "outputs": []
    },
    {
      "cell_type": "code",
      "source": [
        "next(iter(dataloader))\n",
        "# vocab.lookup_token(1)"
      ],
      "metadata": {
        "colab": {
          "base_uri": "https://localhost:8080/"
        },
        "id": "s1XRMUEUb9H3",
        "outputId": "3863c486-54f8-4204-87ac-51b64f72dd9a"
      },
      "execution_count": 9,
      "outputs": [
        {
          "output_type": "execute_result",
          "data": {
            "text/plain": [
              "(tensor([2, 2, 2, 2, 2, 2, 2, 2]),\n",
              " tensor([  431,   425,     1,  1605, 14838,   113,    66,     2,   848,    13,\n",
              "            27,    14,    27,    15, 50725,     3,   431,   374,    16,     9,\n",
              "         67507,     6, 52258,     3,    42,  4009,   783,   325,     1, 15874,\n",
              "          1072,   854,  1310,  4250,    13,    27,    14,    27,    15,   929,\n",
              "           797,   320, 15874,    98,     3, 27657,    28,     5,  4459,    11,\n",
              "           564, 52790,     8, 80617,  2125,     7,     2,   525,   241,     3,\n",
              "            28,  3890, 82814,  6574,    10,   206,   359,     6,     2,   126,\n",
              "             1,    58,     8,   347,  4582,   151,    16,   738,    13,    27,\n",
              "            14,    27,    15,  2384,   452,    92,  2059, 27360,     2,   347,\n",
              "             8,     2,   738,    11,   271,    42,   240, 51953,    38,     2,\n",
              "           294,   126,   112,    85,   220,     2,  7856,     6, 40066, 15380,\n",
              "             1,    70,  7376,    58,  1810,    29,   905,   537,  2846,    13,\n",
              "            27,    14,    27,    15,   838,    39,  4978,    58, 68871,    29,\n",
              "             2,   905,  2846,     7,   537,    70, 58874,   703,     5,   912,\n",
              "          2520,    93, 89171,     3,    30,    58,   293,    26,    10,   114,\n",
              "             1,    58,    92,  4379,     4,  3581,   145,     3,  7577,    23,\n",
              "         12282,     4,    36,   347,    13,   105,    14,   105,    15, 90056,\n",
              "            50,    58,    92,     3, 11312,  1732,     8, 13750,  9735,     3,\n",
              "          3593,     5,    23,   365, 12282,  3470,    94,   299,   167,     2,\n",
              "            36,   399,   545,     1,   151,   152,    43,     3,    45,   355,\n",
              "            71,  2280,    13,    27,    14,    27,    15,   151,   789,  1357,\n",
              "           280,    10, 70411,  4433,   355,  2280,    11,     2,    71,    19,\n",
              "            58,    92,  2301,   353,   468, 55934,   715,     3, 12933,     5,\n",
              "          1617,   738,    29,   179, 77320,    64,     1,    13,   846,     1,\n",
              "           371,    14,   756,  1207,   439,     7,   307,    85,    13,    31,\n",
              "            14,    31,    15,  1766,     6,     2,   407,    16,     9,   832,\n",
              "           756,   126,  2145,  1207,   439,    24,   468,   108,     1,   782,\n",
              "           139,     7,     2,   307,    85,     4,   468, 56748,     1,  8874,\n",
              "          6852,     3,     2,   797,    54,  3007,    26,    60,     1,  1355,\n",
              "          1236,   517, 13945,    38,  1416,    13,  2199,     1,   172,    14,\n",
              "          2199,     1,   172,    15,   832,   124,  5951,   113,     5,  2539,\n",
              "             7,  1232,     3,     8,    23,   571,    11,  2444,  1687,   439,\n",
              "            69,    85,     3,     2,   100,    26,    60,     3,  7126,     2,\n",
              "           347,    21,  2566,    29,     5, 26470,  3676,     1]),\n",
              " tensor([  0,  29,  71, 111, 151, 194, 242, 289]))"
            ]
          },
          "metadata": {},
          "execution_count": 9
        }
      ]
    },
    {
      "cell_type": "markdown",
      "source": [
        "### Model Development"
      ],
      "metadata": {
        "id": "VL_lOrMRz5Z7"
      }
    },
    {
      "cell_type": "markdown",
      "source": [
        "#### Define the model\n",
        "Embedding(EmbeddingBag) layer & Linear Layer\n",
        "- EmbeddingBag : Embedding 값들의 평균을 내어주는 것"
      ],
      "metadata": {
        "id": "sFEPRYk-zwgR"
      }
    },
    {
      "cell_type": "code",
      "source": [
        "from torch import nn\n",
        "\n",
        "class TextClassificationModel(nn.Module):\n",
        "\n",
        "    def __init__(self, vocab_size, embed_dim, num_class):\n",
        "        super(TextClassificationModel, self).__init__()\n",
        "        self.embedding = nn.EmbeddingBag(vocab_size, embed_dim, sparse=True)\n",
        "        self.fc = nn.Linear(embed_dim, num_class)\n",
        "        self.init_weights()\n",
        "\n",
        "    def init_weights(self):\n",
        "        initrange = 0.5\n",
        "        self.embedding.weight.data.uniform_(-initrange, initrange)\n",
        "        self.fc.weight.data.uniform_(-initrange, initrange)\n",
        "        self.fc.bias.data.zero_()\n",
        "\n",
        "    def forward(self, text, offsets):\n",
        "        embedded = self.embedding(text, offsets)\n",
        "        return self.fc(embedded)"
      ],
      "metadata": {
        "id": "0e3G9gk-zvUI"
      },
      "execution_count": 10,
      "outputs": []
    },
    {
      "cell_type": "markdown",
      "source": [
        "#### Initiate an instance"
      ],
      "metadata": {
        "id": "SDfPHJmt1s_p"
      }
    },
    {
      "cell_type": "code",
      "source": [
        "train_iter = AG_NEWS(split='train')\n",
        "num_class = len(set([label for (label, text) in train_iter]))\n",
        "vocab_size = len(vocab)\n",
        "emsize = 64\n",
        "model = TextClassificationModel(vocab_size, emsize, num_class).to(device)"
      ],
      "metadata": {
        "id": "8AoWSW681nn3"
      },
      "execution_count": 11,
      "outputs": []
    },
    {
      "cell_type": "code",
      "source": [
        "print(vocab_size)"
      ],
      "metadata": {
        "colab": {
          "base_uri": "https://localhost:8080/"
        },
        "id": "sk7HTaj72EV_",
        "outputId": "5f40fb47-cac7-4ac8-8595-0f42a75d9642"
      },
      "execution_count": 12,
      "outputs": [
        {
          "output_type": "stream",
          "name": "stdout",
          "text": [
            "95811\n"
          ]
        }
      ]
    },
    {
      "cell_type": "markdown",
      "source": [
        "#### Define functions to train the model and evaluate results\n"
      ],
      "metadata": {
        "id": "yFS4yJ2S2HFp"
      }
    },
    {
      "cell_type": "code",
      "source": [
        "import time\n",
        "\n",
        "def train(dataloader):\n",
        "    model.train()\n",
        "    total_acc, total_count = 0, 0\n",
        "    log_interval = 500\n",
        "    start_time = time.time()\n",
        "\n",
        "    for idx, (label, text, offsets) in enumerate(dataloader):\n",
        "        optimizer.zero_grad()\n",
        "        predicted_label = model(text, offsets)\n",
        "        loss = criterion(predicted_label, label)\n",
        "        loss.backward()\n",
        "        # torch.nn.utils.clip_grad_norm_(model.parameters(), 0.1)\n",
        "        optimizer.step()\n",
        "        total_acc += (predicted_label.argmax(1) == label).sum().item()\n",
        "        total_count += label.size(0)\n",
        "        if idx % log_interval == 0 and idx > 0:\n",
        "            elapsed = time.time() - start_time\n",
        "            print('| epoch {:3d} | {:5d}/{:5d} batches '\n",
        "                  '| accuracy {:8.3f}'.format(epoch, idx, len(dataloader),\n",
        "                                              total_acc/total_count))\n",
        "            total_acc, total_count = 0, 0\n",
        "            start_time = time.time()\n",
        "\n",
        "def evaluate(dataloader):\n",
        "    model.eval()\n",
        "    total_acc, total_count = 0, 0\n",
        "\n",
        "    with torch.no_grad():\n",
        "        for idx, (label, text, offsets) in enumerate(dataloader):\n",
        "            predicted_label = model(text, offsets)\n",
        "            loss = criterion(predicted_label, label)\n",
        "            total_acc += (predicted_label.argmax(1) == label).sum().item()\n",
        "            total_count += label.size(0)\n",
        "    return total_acc/total_count"
      ],
      "metadata": {
        "id": "bp3Ud6Cl2KK9"
      },
      "execution_count": 13,
      "outputs": []
    },
    {
      "cell_type": "markdown",
      "source": [
        "#### Split the dataset and run the model\n",
        "\n",
        "dataset - train set(vali, train), test set 으로 split"
      ],
      "metadata": {
        "id": "QUT1WCf72a3-"
      }
    },
    {
      "cell_type": "code",
      "source": [
        "from torch.utils.data.dataset import random_split\n",
        "from torchtext.data.functional import to_map_style_dataset\n",
        "# Hyperparameters\n",
        "EPOCHS = 10 # epoch\n",
        "LR = 5  # learning rate\n",
        "BATCH_SIZE = 64 # batch size for training\n",
        "\n",
        "criterion = torch.nn.CrossEntropyLoss()\n",
        "optimizer = torch.optim.SGD(model.parameters(), lr=LR)\n",
        "scheduler = torch.optim.lr_scheduler.StepLR(optimizer, 1.0, gamma=0.1)\n",
        "total_accu = None\n",
        "train_iter, test_iter = AG_NEWS()\n",
        "train_dataset = to_map_style_dataset(train_iter)\n",
        "test_dataset = to_map_style_dataset(test_iter)\n",
        "num_train = int(len(train_dataset) * 0.95)\n",
        "split_train_, split_valid_ = \\\n",
        "    random_split(train_dataset, [num_train, len(train_dataset) - num_train])\n",
        "\n",
        "# split\n",
        "train_dataloader = DataLoader(split_train_, batch_size=BATCH_SIZE,\n",
        "                              shuffle=True, collate_fn=collate_batch)\n",
        "valid_dataloader = DataLoader(split_valid_, batch_size=BATCH_SIZE,\n",
        "                              shuffle=True, collate_fn=collate_batch)\n",
        "test_dataloader = DataLoader(test_dataset, batch_size=BATCH_SIZE,\n",
        "                             shuffle=True, collate_fn=collate_batch)\n",
        "\n",
        "for epoch in range(1, EPOCHS + 1):\n",
        "    epoch_start_time = time.time()\n",
        "    train(train_dataloader)\n",
        "    accu_val = evaluate(valid_dataloader)\n",
        "    if total_accu is not None and total_accu > accu_val:\n",
        "      scheduler.step()\n",
        "    else:\n",
        "       total_accu = accu_val\n",
        "    print('-' * 59)\n",
        "    print('| end of epoch {:3d} | time: {:5.2f}s | '\n",
        "          'valid accuracy {:8.3f} '.format(epoch,\n",
        "                                           time.time() - epoch_start_time,\n",
        "                                           accu_val))\n",
        "    print('-' * 59)"
      ],
      "metadata": {
        "colab": {
          "base_uri": "https://localhost:8080/"
        },
        "id": "Oi64gtkW2nzq",
        "outputId": "54d28925-2865-4559-8584-b8ef22272c30"
      },
      "execution_count": 14,
      "outputs": [
        {
          "output_type": "stream",
          "name": "stderr",
          "text": [
            "1.86MB [00:00, 53.8MB/s]                  \n"
          ]
        },
        {
          "output_type": "stream",
          "name": "stdout",
          "text": [
            "| epoch   1 |   500/ 1782 batches | accuracy    0.680\n",
            "| epoch   1 |  1000/ 1782 batches | accuracy    0.853\n",
            "| epoch   1 |  1500/ 1782 batches | accuracy    0.878\n",
            "-----------------------------------------------------------\n",
            "| end of epoch   1 | time: 17.32s | valid accuracy    0.878 \n",
            "-----------------------------------------------------------\n",
            "| epoch   2 |   500/ 1782 batches | accuracy    0.896\n",
            "| epoch   2 |  1000/ 1782 batches | accuracy    0.898\n",
            "| epoch   2 |  1500/ 1782 batches | accuracy    0.904\n",
            "-----------------------------------------------------------\n",
            "| end of epoch   2 | time: 15.62s | valid accuracy    0.894 \n",
            "-----------------------------------------------------------\n",
            "| epoch   3 |   500/ 1782 batches | accuracy    0.914\n",
            "| epoch   3 |  1000/ 1782 batches | accuracy    0.914\n",
            "| epoch   3 |  1500/ 1782 batches | accuracy    0.914\n",
            "-----------------------------------------------------------\n",
            "| end of epoch   3 | time: 16.85s | valid accuracy    0.903 \n",
            "-----------------------------------------------------------\n",
            "| epoch   4 |   500/ 1782 batches | accuracy    0.924\n",
            "| epoch   4 |  1000/ 1782 batches | accuracy    0.922\n",
            "| epoch   4 |  1500/ 1782 batches | accuracy    0.922\n",
            "-----------------------------------------------------------\n",
            "| end of epoch   4 | time: 15.75s | valid accuracy    0.906 \n",
            "-----------------------------------------------------------\n",
            "| epoch   5 |   500/ 1782 batches | accuracy    0.931\n",
            "| epoch   5 |  1000/ 1782 batches | accuracy    0.930\n",
            "| epoch   5 |  1500/ 1782 batches | accuracy    0.927\n",
            "-----------------------------------------------------------\n",
            "| end of epoch   5 | time: 16.06s | valid accuracy    0.903 \n",
            "-----------------------------------------------------------\n",
            "| epoch   6 |   500/ 1782 batches | accuracy    0.944\n",
            "| epoch   6 |  1000/ 1782 batches | accuracy    0.943\n",
            "| epoch   6 |  1500/ 1782 batches | accuracy    0.942\n",
            "-----------------------------------------------------------\n",
            "| end of epoch   6 | time: 17.53s | valid accuracy    0.913 \n",
            "-----------------------------------------------------------\n",
            "| epoch   7 |   500/ 1782 batches | accuracy    0.943\n",
            "| epoch   7 |  1000/ 1782 batches | accuracy    0.944\n",
            "| epoch   7 |  1500/ 1782 batches | accuracy    0.945\n",
            "-----------------------------------------------------------\n",
            "| end of epoch   7 | time: 16.07s | valid accuracy    0.914 \n",
            "-----------------------------------------------------------\n",
            "| epoch   8 |   500/ 1782 batches | accuracy    0.948\n",
            "| epoch   8 |  1000/ 1782 batches | accuracy    0.944\n",
            "| epoch   8 |  1500/ 1782 batches | accuracy    0.943\n",
            "-----------------------------------------------------------\n",
            "| end of epoch   8 | time: 15.01s | valid accuracy    0.915 \n",
            "-----------------------------------------------------------\n",
            "| epoch   9 |   500/ 1782 batches | accuracy    0.946\n",
            "| epoch   9 |  1000/ 1782 batches | accuracy    0.945\n",
            "| epoch   9 |  1500/ 1782 batches | accuracy    0.946\n",
            "-----------------------------------------------------------\n",
            "| end of epoch   9 | time: 15.80s | valid accuracy    0.914 \n",
            "-----------------------------------------------------------\n",
            "| epoch  10 |   500/ 1782 batches | accuracy    0.948\n",
            "| epoch  10 |  1000/ 1782 batches | accuracy    0.949\n",
            "| epoch  10 |  1500/ 1782 batches | accuracy    0.945\n",
            "-----------------------------------------------------------\n",
            "| end of epoch  10 | time: 16.08s | valid accuracy    0.915 \n",
            "-----------------------------------------------------------\n"
          ]
        }
      ]
    },
    {
      "cell_type": "markdown",
      "source": [
        "#### Evaluate the model with test dataset"
      ],
      "metadata": {
        "id": "MAMKaWcH26zf"
      }
    },
    {
      "cell_type": "code",
      "source": [
        "accu_test = evaluate(test_dataloader)\n",
        "print('test accuracy {:8.3f}'.format(accu_test))"
      ],
      "metadata": {
        "colab": {
          "base_uri": "https://localhost:8080/"
        },
        "id": "Ab5nTqBj2_MB",
        "outputId": "9fe7eb93-2c56-4007-bda9-49f02495bbcf"
      },
      "execution_count": 15,
      "outputs": [
        {
          "output_type": "stream",
          "name": "stdout",
          "text": [
            "test accuracy    0.908\n"
          ]
        }
      ]
    },
    {
      "cell_type": "markdown",
      "source": [
        "#### Test on a random news"
      ],
      "metadata": {
        "id": "cwR9FphD3Gb3"
      }
    },
    {
      "cell_type": "code",
      "source": [
        "ag_news_label = {1: \"World\",\n",
        "                 2: \"Sports\",\n",
        "                 3: \"Business\",\n",
        "                 4: \"Sci/Tec\"}\n",
        "\n",
        "def predict(text, text_pipeline):\n",
        "    with torch.no_grad():\n",
        "        text = torch.tensor(text_pipeline(text))\n",
        "        output = model(text, torch.tensor([0]))\n",
        "        return output.argmax(1).item() + 1\n",
        "\n",
        "ex_text_str = \"MEMPHIS, Tenn. – Four days ago, Jon Rahm was \\\n",
        "    enduring the season’s worst weather conditions on Sunday at The \\\n",
        "    Open on his way to a closing 75 at Royal Portrush, which \\\n",
        "    considering the wind and the rain was a respectable showing. \\\n",
        "    Thursday’s first round at the WGC-FedEx St. Jude Invitational \\\n",
        "    was another story. With temperatures in the mid-80s and hardly any \\\n",
        "    wind, the Spaniard was 13 strokes better in a flawless round. \\\n",
        "    Thanks to his best putting performance on the PGA Tour, Rahm \\\n",
        "    finished with an 8-under 62 for a three-stroke lead, which \\\n",
        "    was even more impressive considering he’d never played the \\\n",
        "    front nine at TPC Southwind.\"\n",
        "\n",
        "model = model.to(\"cpu\")\n",
        "\n",
        "print(\"This is a %s news\" %ag_news_label[predict(ex_text_str, text_pipeline)])"
      ],
      "metadata": {
        "colab": {
          "base_uri": "https://localhost:8080/"
        },
        "id": "sFVpGYIp3MFm",
        "outputId": "e2c31155-bb4a-4f6c-dc8c-06c1c737a608"
      },
      "execution_count": 16,
      "outputs": [
        {
          "output_type": "stream",
          "name": "stdout",
          "text": [
            "This is a Sports news\n"
          ]
        }
      ]
    }
  ]
}