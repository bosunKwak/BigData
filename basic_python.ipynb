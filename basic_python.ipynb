{
  "nbformat": 4,
  "nbformat_minor": 0,
  "metadata": {
    "colab": {
      "name": "basic_python.ipynb",
      "provenance": [],
      "authorship_tag": "ABX9TyP0y+gFwRmKsnpoC73X6Mx2",
      "include_colab_link": true
    },
    "kernelspec": {
      "name": "python3",
      "display_name": "Python 3"
    },
    "language_info": {
      "name": "python"
    },
    "accelerator": "GPU"
  },
  "cells": [
    {
      "cell_type": "markdown",
      "metadata": {
        "id": "view-in-github",
        "colab_type": "text"
      },
      "source": [
        "<a href=\"https://colab.research.google.com/github/bosunKwak/BigData/blob/main/basic_python.ipynb\" target=\"_parent\"><img src=\"https://colab.research.google.com/assets/colab-badge.svg\" alt=\"Open In Colab\"/></a>"
      ]
    },
    {
      "cell_type": "code",
      "execution_count": 1,
      "metadata": {
        "id": "_QSdP808J4fZ",
        "colab": {
          "base_uri": "https://localhost:8080/"
        },
        "outputId": "06f52eb9-af6e-46e9-f9f7-7cff289dd9b1"
      },
      "outputs": [
        {
          "output_type": "stream",
          "name": "stdout",
          "text": [
            "[1, 3, 5, 7, 9]\n",
            "[2, 6, 10, 14, 18]\n"
          ]
        }
      ],
      "source": [
        "# Enumerate\n",
        "num = list(range(1,11,2))\n",
        "print(num)\n",
        "for i, n in enumerate(num):\n",
        "  # i에 index, n에 해당 값\n",
        "  num[i] = n*2\n",
        "\n",
        "print(num)"
      ]
    },
    {
      "cell_type": "code",
      "source": [
        "# comprehension\n",
        "num = [1,2,3,4,5]\n",
        "c1 = [i*2 for i in num]\n",
        "print(c1)\n",
        "\n",
        "c2 = [i*2 for i in num if i<5]\n",
        "print(c2)"
      ],
      "metadata": {
        "colab": {
          "base_uri": "https://localhost:8080/"
        },
        "id": "8MfM7W__O0wa",
        "outputId": "d3f96c67-4670-457e-8023-40ba4fb9c59b"
      },
      "execution_count": 4,
      "outputs": [
        {
          "output_type": "stream",
          "name": "stdout",
          "text": [
            "[2, 4, 6, 8, 10]\n",
            "[2, 4, 6, 8]\n"
          ]
        }
      ]
    },
    {
      "cell_type": "code",
      "source": [
        "# function의 기능 및 사용법을 알 수 있음\n",
        "help(print)"
      ],
      "metadata": {
        "colab": {
          "base_uri": "https://localhost:8080/"
        },
        "id": "afXRpwByPIhd",
        "outputId": "4d456621-b1e2-4b30-c929-d6c593eae6a5"
      },
      "execution_count": 5,
      "outputs": [
        {
          "output_type": "stream",
          "name": "stdout",
          "text": [
            "Help on built-in function print in module builtins:\n",
            "\n",
            "print(...)\n",
            "    print(value, ..., sep=' ', end='\\n', file=sys.stdout, flush=False)\n",
            "    \n",
            "    Prints the values to a stream, or to sys.stdout by default.\n",
            "    Optional keyword arguments:\n",
            "    file:  a file-like object (stream); defaults to the current sys.stdout.\n",
            "    sep:   string inserted between values, default a space.\n",
            "    end:   string appended after the last value, default a newline.\n",
            "    flush: whether to forcibly flush the stream.\n",
            "\n"
          ]
        }
      ]
    },
    {
      "cell_type": "code",
      "source": [
        "# class & instance\n",
        "\n",
        "# class\n",
        "class MyCalc:\n",
        "  # class가 생성될 때 자동으로 실행 (init)\n",
        "  def __init__(self, x, y):\n",
        "    self.x = x # self : 객체 자신\n",
        "    self.y = y\n",
        "\n",
        "  def my_add1(self, a, b):\n",
        "    return a+b\n",
        "  def my_add2(self):\n",
        "    return self.x+self.y\n",
        "\n",
        "# instance\n",
        "ins1 = MyCalc(1,2)\n",
        "ins2 = MyCalc(5,10)\n",
        "\n",
        "res1 = ins1.my_add2()\n",
        "res2 = ins1.my_add1(2,5)\n",
        "res3 = ins2.my_add2()\n",
        "res4 = ins2.my_add1(2,5)\n",
        "print(res1)\n",
        "print(res2)\n",
        "print(res3)\n",
        "print(res4)"
      ],
      "metadata": {
        "colab": {
          "base_uri": "https://localhost:8080/"
        },
        "id": "A9r2Mz2BP-da",
        "outputId": "b2cee5da-3ffc-4bd9-ed82-bc895c59dcee"
      },
      "execution_count": 8,
      "outputs": [
        {
          "output_type": "stream",
          "name": "stdout",
          "text": [
            "3\n",
            "7\n",
            "15\n",
            "7\n"
          ]
        }
      ]
    }
  ]
}