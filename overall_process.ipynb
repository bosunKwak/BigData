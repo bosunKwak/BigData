{
  "nbformat": 4,
  "nbformat_minor": 0,
  "metadata": {
    "colab": {
      "name": "overall process.ipynb",
      "provenance": [],
      "collapsed_sections": [
        "zqXpuWAomjJC"
      ],
      "authorship_tag": "ABX9TyMRHTFusgVS/ME0KYzgSJ4Q",
      "include_colab_link": true
    },
    "kernelspec": {
      "name": "python3",
      "display_name": "Python 3"
    },
    "language_info": {
      "name": "python"
    },
    "widgets": {
      "application/vnd.jupyter.widget-state+json": {
        "60e0d9b3b2194badbd46771e66335d32": {
          "model_module": "@jupyter-widgets/controls",
          "model_name": "HBoxModel",
          "model_module_version": "1.5.0",
          "state": {
            "_dom_classes": [],
            "_model_module": "@jupyter-widgets/controls",
            "_model_module_version": "1.5.0",
            "_model_name": "HBoxModel",
            "_view_count": null,
            "_view_module": "@jupyter-widgets/controls",
            "_view_module_version": "1.5.0",
            "_view_name": "HBoxView",
            "box_style": "",
            "children": [
              "IPY_MODEL_9abbfd8284aa4057bfae2a5e8e0a2846",
              "IPY_MODEL_14f247c5e6af44688657f7068c008dfe",
              "IPY_MODEL_fcf61938e2a140e9993a878e399de42b"
            ],
            "layout": "IPY_MODEL_dfc2d032509e4492b120f201c8fd597b"
          }
        },
        "9abbfd8284aa4057bfae2a5e8e0a2846": {
          "model_module": "@jupyter-widgets/controls",
          "model_name": "HTMLModel",
          "model_module_version": "1.5.0",
          "state": {
            "_dom_classes": [],
            "_model_module": "@jupyter-widgets/controls",
            "_model_module_version": "1.5.0",
            "_model_name": "HTMLModel",
            "_view_count": null,
            "_view_module": "@jupyter-widgets/controls",
            "_view_module_version": "1.5.0",
            "_view_name": "HTMLView",
            "description": "",
            "description_tooltip": null,
            "layout": "IPY_MODEL_feb2bf5153dc4bd0bb7b1de0b4fec04d",
            "placeholder": "​",
            "style": "IPY_MODEL_76bf3165724d4cebafa64421e518d7e9",
            "value": ""
          }
        },
        "14f247c5e6af44688657f7068c008dfe": {
          "model_module": "@jupyter-widgets/controls",
          "model_name": "FloatProgressModel",
          "model_module_version": "1.5.0",
          "state": {
            "_dom_classes": [],
            "_model_module": "@jupyter-widgets/controls",
            "_model_module_version": "1.5.0",
            "_model_name": "FloatProgressModel",
            "_view_count": null,
            "_view_module": "@jupyter-widgets/controls",
            "_view_module_version": "1.5.0",
            "_view_name": "ProgressView",
            "bar_style": "success",
            "description": "",
            "description_tooltip": null,
            "layout": "IPY_MODEL_70d56ada65534b349f8e9be62fe14d33",
            "max": 170498071,
            "min": 0,
            "orientation": "horizontal",
            "style": "IPY_MODEL_ce3ef6b47de34ae9b96c3fc34c63aad5",
            "value": 170498071
          }
        },
        "fcf61938e2a140e9993a878e399de42b": {
          "model_module": "@jupyter-widgets/controls",
          "model_name": "HTMLModel",
          "model_module_version": "1.5.0",
          "state": {
            "_dom_classes": [],
            "_model_module": "@jupyter-widgets/controls",
            "_model_module_version": "1.5.0",
            "_model_name": "HTMLModel",
            "_view_count": null,
            "_view_module": "@jupyter-widgets/controls",
            "_view_module_version": "1.5.0",
            "_view_name": "HTMLView",
            "description": "",
            "description_tooltip": null,
            "layout": "IPY_MODEL_98573c98bb20404eaf1b0943a835b539",
            "placeholder": "​",
            "style": "IPY_MODEL_764f9ad013f74b6291032dee682333b3",
            "value": " 170499072/? [00:04&lt;00:00, 39353040.83it/s]"
          }
        },
        "dfc2d032509e4492b120f201c8fd597b": {
          "model_module": "@jupyter-widgets/base",
          "model_name": "LayoutModel",
          "model_module_version": "1.2.0",
          "state": {
            "_model_module": "@jupyter-widgets/base",
            "_model_module_version": "1.2.0",
            "_model_name": "LayoutModel",
            "_view_count": null,
            "_view_module": "@jupyter-widgets/base",
            "_view_module_version": "1.2.0",
            "_view_name": "LayoutView",
            "align_content": null,
            "align_items": null,
            "align_self": null,
            "border": null,
            "bottom": null,
            "display": null,
            "flex": null,
            "flex_flow": null,
            "grid_area": null,
            "grid_auto_columns": null,
            "grid_auto_flow": null,
            "grid_auto_rows": null,
            "grid_column": null,
            "grid_gap": null,
            "grid_row": null,
            "grid_template_areas": null,
            "grid_template_columns": null,
            "grid_template_rows": null,
            "height": null,
            "justify_content": null,
            "justify_items": null,
            "left": null,
            "margin": null,
            "max_height": null,
            "max_width": null,
            "min_height": null,
            "min_width": null,
            "object_fit": null,
            "object_position": null,
            "order": null,
            "overflow": null,
            "overflow_x": null,
            "overflow_y": null,
            "padding": null,
            "right": null,
            "top": null,
            "visibility": null,
            "width": null
          }
        },
        "feb2bf5153dc4bd0bb7b1de0b4fec04d": {
          "model_module": "@jupyter-widgets/base",
          "model_name": "LayoutModel",
          "model_module_version": "1.2.0",
          "state": {
            "_model_module": "@jupyter-widgets/base",
            "_model_module_version": "1.2.0",
            "_model_name": "LayoutModel",
            "_view_count": null,
            "_view_module": "@jupyter-widgets/base",
            "_view_module_version": "1.2.0",
            "_view_name": "LayoutView",
            "align_content": null,
            "align_items": null,
            "align_self": null,
            "border": null,
            "bottom": null,
            "display": null,
            "flex": null,
            "flex_flow": null,
            "grid_area": null,
            "grid_auto_columns": null,
            "grid_auto_flow": null,
            "grid_auto_rows": null,
            "grid_column": null,
            "grid_gap": null,
            "grid_row": null,
            "grid_template_areas": null,
            "grid_template_columns": null,
            "grid_template_rows": null,
            "height": null,
            "justify_content": null,
            "justify_items": null,
            "left": null,
            "margin": null,
            "max_height": null,
            "max_width": null,
            "min_height": null,
            "min_width": null,
            "object_fit": null,
            "object_position": null,
            "order": null,
            "overflow": null,
            "overflow_x": null,
            "overflow_y": null,
            "padding": null,
            "right": null,
            "top": null,
            "visibility": null,
            "width": null
          }
        },
        "76bf3165724d4cebafa64421e518d7e9": {
          "model_module": "@jupyter-widgets/controls",
          "model_name": "DescriptionStyleModel",
          "model_module_version": "1.5.0",
          "state": {
            "_model_module": "@jupyter-widgets/controls",
            "_model_module_version": "1.5.0",
            "_model_name": "DescriptionStyleModel",
            "_view_count": null,
            "_view_module": "@jupyter-widgets/base",
            "_view_module_version": "1.2.0",
            "_view_name": "StyleView",
            "description_width": ""
          }
        },
        "70d56ada65534b349f8e9be62fe14d33": {
          "model_module": "@jupyter-widgets/base",
          "model_name": "LayoutModel",
          "model_module_version": "1.2.0",
          "state": {
            "_model_module": "@jupyter-widgets/base",
            "_model_module_version": "1.2.0",
            "_model_name": "LayoutModel",
            "_view_count": null,
            "_view_module": "@jupyter-widgets/base",
            "_view_module_version": "1.2.0",
            "_view_name": "LayoutView",
            "align_content": null,
            "align_items": null,
            "align_self": null,
            "border": null,
            "bottom": null,
            "display": null,
            "flex": null,
            "flex_flow": null,
            "grid_area": null,
            "grid_auto_columns": null,
            "grid_auto_flow": null,
            "grid_auto_rows": null,
            "grid_column": null,
            "grid_gap": null,
            "grid_row": null,
            "grid_template_areas": null,
            "grid_template_columns": null,
            "grid_template_rows": null,
            "height": null,
            "justify_content": null,
            "justify_items": null,
            "left": null,
            "margin": null,
            "max_height": null,
            "max_width": null,
            "min_height": null,
            "min_width": null,
            "object_fit": null,
            "object_position": null,
            "order": null,
            "overflow": null,
            "overflow_x": null,
            "overflow_y": null,
            "padding": null,
            "right": null,
            "top": null,
            "visibility": null,
            "width": null
          }
        },
        "ce3ef6b47de34ae9b96c3fc34c63aad5": {
          "model_module": "@jupyter-widgets/controls",
          "model_name": "ProgressStyleModel",
          "model_module_version": "1.5.0",
          "state": {
            "_model_module": "@jupyter-widgets/controls",
            "_model_module_version": "1.5.0",
            "_model_name": "ProgressStyleModel",
            "_view_count": null,
            "_view_module": "@jupyter-widgets/base",
            "_view_module_version": "1.2.0",
            "_view_name": "StyleView",
            "bar_color": null,
            "description_width": ""
          }
        },
        "98573c98bb20404eaf1b0943a835b539": {
          "model_module": "@jupyter-widgets/base",
          "model_name": "LayoutModel",
          "model_module_version": "1.2.0",
          "state": {
            "_model_module": "@jupyter-widgets/base",
            "_model_module_version": "1.2.0",
            "_model_name": "LayoutModel",
            "_view_count": null,
            "_view_module": "@jupyter-widgets/base",
            "_view_module_version": "1.2.0",
            "_view_name": "LayoutView",
            "align_content": null,
            "align_items": null,
            "align_self": null,
            "border": null,
            "bottom": null,
            "display": null,
            "flex": null,
            "flex_flow": null,
            "grid_area": null,
            "grid_auto_columns": null,
            "grid_auto_flow": null,
            "grid_auto_rows": null,
            "grid_column": null,
            "grid_gap": null,
            "grid_row": null,
            "grid_template_areas": null,
            "grid_template_columns": null,
            "grid_template_rows": null,
            "height": null,
            "justify_content": null,
            "justify_items": null,
            "left": null,
            "margin": null,
            "max_height": null,
            "max_width": null,
            "min_height": null,
            "min_width": null,
            "object_fit": null,
            "object_position": null,
            "order": null,
            "overflow": null,
            "overflow_x": null,
            "overflow_y": null,
            "padding": null,
            "right": null,
            "top": null,
            "visibility": null,
            "width": null
          }
        },
        "764f9ad013f74b6291032dee682333b3": {
          "model_module": "@jupyter-widgets/controls",
          "model_name": "DescriptionStyleModel",
          "model_module_version": "1.5.0",
          "state": {
            "_model_module": "@jupyter-widgets/controls",
            "_model_module_version": "1.5.0",
            "_model_name": "DescriptionStyleModel",
            "_view_count": null,
            "_view_module": "@jupyter-widgets/base",
            "_view_module_version": "1.2.0",
            "_view_name": "StyleView",
            "description_width": ""
          }
        },
        "388d5557f5ec471faf1652211777b8bb": {
          "model_module": "@jupyter-widgets/controls",
          "model_name": "HBoxModel",
          "model_module_version": "1.5.0",
          "state": {
            "_dom_classes": [],
            "_model_module": "@jupyter-widgets/controls",
            "_model_module_version": "1.5.0",
            "_model_name": "HBoxModel",
            "_view_count": null,
            "_view_module": "@jupyter-widgets/controls",
            "_view_module_version": "1.5.0",
            "_view_name": "HBoxView",
            "box_style": "",
            "children": [
              "IPY_MODEL_de0ab6e4e90a4005a82737896a42e3a4",
              "IPY_MODEL_d8e1e0cf5b3e435086f6bb2c9cc5ab2b",
              "IPY_MODEL_5b089476857844f5bb4005f4ac56beeb"
            ],
            "layout": "IPY_MODEL_211a8d67e5d34080a34f48b6becc3ce1"
          }
        },
        "de0ab6e4e90a4005a82737896a42e3a4": {
          "model_module": "@jupyter-widgets/controls",
          "model_name": "HTMLModel",
          "model_module_version": "1.5.0",
          "state": {
            "_dom_classes": [],
            "_model_module": "@jupyter-widgets/controls",
            "_model_module_version": "1.5.0",
            "_model_name": "HTMLModel",
            "_view_count": null,
            "_view_module": "@jupyter-widgets/controls",
            "_view_module_version": "1.5.0",
            "_view_name": "HTMLView",
            "description": "",
            "description_tooltip": null,
            "layout": "IPY_MODEL_30836284fc8248a0a5c468df6ba28d82",
            "placeholder": "​",
            "style": "IPY_MODEL_fe42e5f3ace14defbc0155d16bce67ad",
            "value": ""
          }
        },
        "d8e1e0cf5b3e435086f6bb2c9cc5ab2b": {
          "model_module": "@jupyter-widgets/controls",
          "model_name": "FloatProgressModel",
          "model_module_version": "1.5.0",
          "state": {
            "_dom_classes": [],
            "_model_module": "@jupyter-widgets/controls",
            "_model_module_version": "1.5.0",
            "_model_name": "FloatProgressModel",
            "_view_count": null,
            "_view_module": "@jupyter-widgets/controls",
            "_view_module_version": "1.5.0",
            "_view_name": "ProgressView",
            "bar_style": "success",
            "description": "",
            "description_tooltip": null,
            "layout": "IPY_MODEL_967cf6cab84041cfb8acae95bc45ca85",
            "max": 170498071,
            "min": 0,
            "orientation": "horizontal",
            "style": "IPY_MODEL_2a9adf266f0b46fc9eee02e24234b510",
            "value": 170498071
          }
        },
        "5b089476857844f5bb4005f4ac56beeb": {
          "model_module": "@jupyter-widgets/controls",
          "model_name": "HTMLModel",
          "model_module_version": "1.5.0",
          "state": {
            "_dom_classes": [],
            "_model_module": "@jupyter-widgets/controls",
            "_model_module_version": "1.5.0",
            "_model_name": "HTMLModel",
            "_view_count": null,
            "_view_module": "@jupyter-widgets/controls",
            "_view_module_version": "1.5.0",
            "_view_name": "HTMLView",
            "description": "",
            "description_tooltip": null,
            "layout": "IPY_MODEL_a53dbd2989c6459da00ad8f44cfdb945",
            "placeholder": "​",
            "style": "IPY_MODEL_9750695b4e1d4a94b24cb9b26f5514d0",
            "value": " 170499072/? [00:08&lt;00:00, 29529164.68it/s]"
          }
        },
        "211a8d67e5d34080a34f48b6becc3ce1": {
          "model_module": "@jupyter-widgets/base",
          "model_name": "LayoutModel",
          "model_module_version": "1.2.0",
          "state": {
            "_model_module": "@jupyter-widgets/base",
            "_model_module_version": "1.2.0",
            "_model_name": "LayoutModel",
            "_view_count": null,
            "_view_module": "@jupyter-widgets/base",
            "_view_module_version": "1.2.0",
            "_view_name": "LayoutView",
            "align_content": null,
            "align_items": null,
            "align_self": null,
            "border": null,
            "bottom": null,
            "display": null,
            "flex": null,
            "flex_flow": null,
            "grid_area": null,
            "grid_auto_columns": null,
            "grid_auto_flow": null,
            "grid_auto_rows": null,
            "grid_column": null,
            "grid_gap": null,
            "grid_row": null,
            "grid_template_areas": null,
            "grid_template_columns": null,
            "grid_template_rows": null,
            "height": null,
            "justify_content": null,
            "justify_items": null,
            "left": null,
            "margin": null,
            "max_height": null,
            "max_width": null,
            "min_height": null,
            "min_width": null,
            "object_fit": null,
            "object_position": null,
            "order": null,
            "overflow": null,
            "overflow_x": null,
            "overflow_y": null,
            "padding": null,
            "right": null,
            "top": null,
            "visibility": null,
            "width": null
          }
        },
        "30836284fc8248a0a5c468df6ba28d82": {
          "model_module": "@jupyter-widgets/base",
          "model_name": "LayoutModel",
          "model_module_version": "1.2.0",
          "state": {
            "_model_module": "@jupyter-widgets/base",
            "_model_module_version": "1.2.0",
            "_model_name": "LayoutModel",
            "_view_count": null,
            "_view_module": "@jupyter-widgets/base",
            "_view_module_version": "1.2.0",
            "_view_name": "LayoutView",
            "align_content": null,
            "align_items": null,
            "align_self": null,
            "border": null,
            "bottom": null,
            "display": null,
            "flex": null,
            "flex_flow": null,
            "grid_area": null,
            "grid_auto_columns": null,
            "grid_auto_flow": null,
            "grid_auto_rows": null,
            "grid_column": null,
            "grid_gap": null,
            "grid_row": null,
            "grid_template_areas": null,
            "grid_template_columns": null,
            "grid_template_rows": null,
            "height": null,
            "justify_content": null,
            "justify_items": null,
            "left": null,
            "margin": null,
            "max_height": null,
            "max_width": null,
            "min_height": null,
            "min_width": null,
            "object_fit": null,
            "object_position": null,
            "order": null,
            "overflow": null,
            "overflow_x": null,
            "overflow_y": null,
            "padding": null,
            "right": null,
            "top": null,
            "visibility": null,
            "width": null
          }
        },
        "fe42e5f3ace14defbc0155d16bce67ad": {
          "model_module": "@jupyter-widgets/controls",
          "model_name": "DescriptionStyleModel",
          "model_module_version": "1.5.0",
          "state": {
            "_model_module": "@jupyter-widgets/controls",
            "_model_module_version": "1.5.0",
            "_model_name": "DescriptionStyleModel",
            "_view_count": null,
            "_view_module": "@jupyter-widgets/base",
            "_view_module_version": "1.2.0",
            "_view_name": "StyleView",
            "description_width": ""
          }
        },
        "967cf6cab84041cfb8acae95bc45ca85": {
          "model_module": "@jupyter-widgets/base",
          "model_name": "LayoutModel",
          "model_module_version": "1.2.0",
          "state": {
            "_model_module": "@jupyter-widgets/base",
            "_model_module_version": "1.2.0",
            "_model_name": "LayoutModel",
            "_view_count": null,
            "_view_module": "@jupyter-widgets/base",
            "_view_module_version": "1.2.0",
            "_view_name": "LayoutView",
            "align_content": null,
            "align_items": null,
            "align_self": null,
            "border": null,
            "bottom": null,
            "display": null,
            "flex": null,
            "flex_flow": null,
            "grid_area": null,
            "grid_auto_columns": null,
            "grid_auto_flow": null,
            "grid_auto_rows": null,
            "grid_column": null,
            "grid_gap": null,
            "grid_row": null,
            "grid_template_areas": null,
            "grid_template_columns": null,
            "grid_template_rows": null,
            "height": null,
            "justify_content": null,
            "justify_items": null,
            "left": null,
            "margin": null,
            "max_height": null,
            "max_width": null,
            "min_height": null,
            "min_width": null,
            "object_fit": null,
            "object_position": null,
            "order": null,
            "overflow": null,
            "overflow_x": null,
            "overflow_y": null,
            "padding": null,
            "right": null,
            "top": null,
            "visibility": null,
            "width": null
          }
        },
        "2a9adf266f0b46fc9eee02e24234b510": {
          "model_module": "@jupyter-widgets/controls",
          "model_name": "ProgressStyleModel",
          "model_module_version": "1.5.0",
          "state": {
            "_model_module": "@jupyter-widgets/controls",
            "_model_module_version": "1.5.0",
            "_model_name": "ProgressStyleModel",
            "_view_count": null,
            "_view_module": "@jupyter-widgets/base",
            "_view_module_version": "1.2.0",
            "_view_name": "StyleView",
            "bar_color": null,
            "description_width": ""
          }
        },
        "a53dbd2989c6459da00ad8f44cfdb945": {
          "model_module": "@jupyter-widgets/base",
          "model_name": "LayoutModel",
          "model_module_version": "1.2.0",
          "state": {
            "_model_module": "@jupyter-widgets/base",
            "_model_module_version": "1.2.0",
            "_model_name": "LayoutModel",
            "_view_count": null,
            "_view_module": "@jupyter-widgets/base",
            "_view_module_version": "1.2.0",
            "_view_name": "LayoutView",
            "align_content": null,
            "align_items": null,
            "align_self": null,
            "border": null,
            "bottom": null,
            "display": null,
            "flex": null,
            "flex_flow": null,
            "grid_area": null,
            "grid_auto_columns": null,
            "grid_auto_flow": null,
            "grid_auto_rows": null,
            "grid_column": null,
            "grid_gap": null,
            "grid_row": null,
            "grid_template_areas": null,
            "grid_template_columns": null,
            "grid_template_rows": null,
            "height": null,
            "justify_content": null,
            "justify_items": null,
            "left": null,
            "margin": null,
            "max_height": null,
            "max_width": null,
            "min_height": null,
            "min_width": null,
            "object_fit": null,
            "object_position": null,
            "order": null,
            "overflow": null,
            "overflow_x": null,
            "overflow_y": null,
            "padding": null,
            "right": null,
            "top": null,
            "visibility": null,
            "width": null
          }
        },
        "9750695b4e1d4a94b24cb9b26f5514d0": {
          "model_module": "@jupyter-widgets/controls",
          "model_name": "DescriptionStyleModel",
          "model_module_version": "1.5.0",
          "state": {
            "_model_module": "@jupyter-widgets/controls",
            "_model_module_version": "1.5.0",
            "_model_name": "DescriptionStyleModel",
            "_view_count": null,
            "_view_module": "@jupyter-widgets/base",
            "_view_module_version": "1.2.0",
            "_view_name": "StyleView",
            "description_width": ""
          }
        },
        "cc0bfec7f551489eb1db078c42200bb5": {
          "model_module": "@jupyter-widgets/controls",
          "model_name": "HBoxModel",
          "model_module_version": "1.5.0",
          "state": {
            "_dom_classes": [],
            "_model_module": "@jupyter-widgets/controls",
            "_model_module_version": "1.5.0",
            "_model_name": "HBoxModel",
            "_view_count": null,
            "_view_module": "@jupyter-widgets/controls",
            "_view_module_version": "1.5.0",
            "_view_name": "HBoxView",
            "box_style": "",
            "children": [
              "IPY_MODEL_5125f4950c97435ebe30869a34b7e1bb",
              "IPY_MODEL_73ffc08bf5b041e8a474eb6bf77b7349",
              "IPY_MODEL_e34c59d9370f4b2f84a75815b86e00fd"
            ],
            "layout": "IPY_MODEL_f859e5700f5646ea86e488bd893dc9e2"
          }
        },
        "5125f4950c97435ebe30869a34b7e1bb": {
          "model_module": "@jupyter-widgets/controls",
          "model_name": "HTMLModel",
          "model_module_version": "1.5.0",
          "state": {
            "_dom_classes": [],
            "_model_module": "@jupyter-widgets/controls",
            "_model_module_version": "1.5.0",
            "_model_name": "HTMLModel",
            "_view_count": null,
            "_view_module": "@jupyter-widgets/controls",
            "_view_module_version": "1.5.0",
            "_view_name": "HTMLView",
            "description": "",
            "description_tooltip": null,
            "layout": "IPY_MODEL_0c1573835faf492a9fef8b7b512ecd6e",
            "placeholder": "​",
            "style": "IPY_MODEL_b1e5bb93370641dc94a848004f05047b",
            "value": "100%"
          }
        },
        "73ffc08bf5b041e8a474eb6bf77b7349": {
          "model_module": "@jupyter-widgets/controls",
          "model_name": "FloatProgressModel",
          "model_module_version": "1.5.0",
          "state": {
            "_dom_classes": [],
            "_model_module": "@jupyter-widgets/controls",
            "_model_module_version": "1.5.0",
            "_model_name": "FloatProgressModel",
            "_view_count": null,
            "_view_module": "@jupyter-widgets/controls",
            "_view_module_version": "1.5.0",
            "_view_name": "ProgressView",
            "bar_style": "success",
            "description": "",
            "description_tooltip": null,
            "layout": "IPY_MODEL_fe576f9dc2ed4e88bfc9752f3874ab8b",
            "max": 553433881,
            "min": 0,
            "orientation": "horizontal",
            "style": "IPY_MODEL_8be2d22ee77f4cabbb60d13356bdcef3",
            "value": 553433881
          }
        },
        "e34c59d9370f4b2f84a75815b86e00fd": {
          "model_module": "@jupyter-widgets/controls",
          "model_name": "HTMLModel",
          "model_module_version": "1.5.0",
          "state": {
            "_dom_classes": [],
            "_model_module": "@jupyter-widgets/controls",
            "_model_module_version": "1.5.0",
            "_model_name": "HTMLModel",
            "_view_count": null,
            "_view_module": "@jupyter-widgets/controls",
            "_view_module_version": "1.5.0",
            "_view_name": "HTMLView",
            "description": "",
            "description_tooltip": null,
            "layout": "IPY_MODEL_12b00dda8cd94b67badcbe287ef09feb",
            "placeholder": "​",
            "style": "IPY_MODEL_a8e70cfd30e446818c43d0439eae5298",
            "value": " 528M/528M [00:03&lt;00:00, 154MB/s]"
          }
        },
        "f859e5700f5646ea86e488bd893dc9e2": {
          "model_module": "@jupyter-widgets/base",
          "model_name": "LayoutModel",
          "model_module_version": "1.2.0",
          "state": {
            "_model_module": "@jupyter-widgets/base",
            "_model_module_version": "1.2.0",
            "_model_name": "LayoutModel",
            "_view_count": null,
            "_view_module": "@jupyter-widgets/base",
            "_view_module_version": "1.2.0",
            "_view_name": "LayoutView",
            "align_content": null,
            "align_items": null,
            "align_self": null,
            "border": null,
            "bottom": null,
            "display": null,
            "flex": null,
            "flex_flow": null,
            "grid_area": null,
            "grid_auto_columns": null,
            "grid_auto_flow": null,
            "grid_auto_rows": null,
            "grid_column": null,
            "grid_gap": null,
            "grid_row": null,
            "grid_template_areas": null,
            "grid_template_columns": null,
            "grid_template_rows": null,
            "height": null,
            "justify_content": null,
            "justify_items": null,
            "left": null,
            "margin": null,
            "max_height": null,
            "max_width": null,
            "min_height": null,
            "min_width": null,
            "object_fit": null,
            "object_position": null,
            "order": null,
            "overflow": null,
            "overflow_x": null,
            "overflow_y": null,
            "padding": null,
            "right": null,
            "top": null,
            "visibility": null,
            "width": null
          }
        },
        "0c1573835faf492a9fef8b7b512ecd6e": {
          "model_module": "@jupyter-widgets/base",
          "model_name": "LayoutModel",
          "model_module_version": "1.2.0",
          "state": {
            "_model_module": "@jupyter-widgets/base",
            "_model_module_version": "1.2.0",
            "_model_name": "LayoutModel",
            "_view_count": null,
            "_view_module": "@jupyter-widgets/base",
            "_view_module_version": "1.2.0",
            "_view_name": "LayoutView",
            "align_content": null,
            "align_items": null,
            "align_self": null,
            "border": null,
            "bottom": null,
            "display": null,
            "flex": null,
            "flex_flow": null,
            "grid_area": null,
            "grid_auto_columns": null,
            "grid_auto_flow": null,
            "grid_auto_rows": null,
            "grid_column": null,
            "grid_gap": null,
            "grid_row": null,
            "grid_template_areas": null,
            "grid_template_columns": null,
            "grid_template_rows": null,
            "height": null,
            "justify_content": null,
            "justify_items": null,
            "left": null,
            "margin": null,
            "max_height": null,
            "max_width": null,
            "min_height": null,
            "min_width": null,
            "object_fit": null,
            "object_position": null,
            "order": null,
            "overflow": null,
            "overflow_x": null,
            "overflow_y": null,
            "padding": null,
            "right": null,
            "top": null,
            "visibility": null,
            "width": null
          }
        },
        "b1e5bb93370641dc94a848004f05047b": {
          "model_module": "@jupyter-widgets/controls",
          "model_name": "DescriptionStyleModel",
          "model_module_version": "1.5.0",
          "state": {
            "_model_module": "@jupyter-widgets/controls",
            "_model_module_version": "1.5.0",
            "_model_name": "DescriptionStyleModel",
            "_view_count": null,
            "_view_module": "@jupyter-widgets/base",
            "_view_module_version": "1.2.0",
            "_view_name": "StyleView",
            "description_width": ""
          }
        },
        "fe576f9dc2ed4e88bfc9752f3874ab8b": {
          "model_module": "@jupyter-widgets/base",
          "model_name": "LayoutModel",
          "model_module_version": "1.2.0",
          "state": {
            "_model_module": "@jupyter-widgets/base",
            "_model_module_version": "1.2.0",
            "_model_name": "LayoutModel",
            "_view_count": null,
            "_view_module": "@jupyter-widgets/base",
            "_view_module_version": "1.2.0",
            "_view_name": "LayoutView",
            "align_content": null,
            "align_items": null,
            "align_self": null,
            "border": null,
            "bottom": null,
            "display": null,
            "flex": null,
            "flex_flow": null,
            "grid_area": null,
            "grid_auto_columns": null,
            "grid_auto_flow": null,
            "grid_auto_rows": null,
            "grid_column": null,
            "grid_gap": null,
            "grid_row": null,
            "grid_template_areas": null,
            "grid_template_columns": null,
            "grid_template_rows": null,
            "height": null,
            "justify_content": null,
            "justify_items": null,
            "left": null,
            "margin": null,
            "max_height": null,
            "max_width": null,
            "min_height": null,
            "min_width": null,
            "object_fit": null,
            "object_position": null,
            "order": null,
            "overflow": null,
            "overflow_x": null,
            "overflow_y": null,
            "padding": null,
            "right": null,
            "top": null,
            "visibility": null,
            "width": null
          }
        },
        "8be2d22ee77f4cabbb60d13356bdcef3": {
          "model_module": "@jupyter-widgets/controls",
          "model_name": "ProgressStyleModel",
          "model_module_version": "1.5.0",
          "state": {
            "_model_module": "@jupyter-widgets/controls",
            "_model_module_version": "1.5.0",
            "_model_name": "ProgressStyleModel",
            "_view_count": null,
            "_view_module": "@jupyter-widgets/base",
            "_view_module_version": "1.2.0",
            "_view_name": "StyleView",
            "bar_color": null,
            "description_width": ""
          }
        },
        "12b00dda8cd94b67badcbe287ef09feb": {
          "model_module": "@jupyter-widgets/base",
          "model_name": "LayoutModel",
          "model_module_version": "1.2.0",
          "state": {
            "_model_module": "@jupyter-widgets/base",
            "_model_module_version": "1.2.0",
            "_model_name": "LayoutModel",
            "_view_count": null,
            "_view_module": "@jupyter-widgets/base",
            "_view_module_version": "1.2.0",
            "_view_name": "LayoutView",
            "align_content": null,
            "align_items": null,
            "align_self": null,
            "border": null,
            "bottom": null,
            "display": null,
            "flex": null,
            "flex_flow": null,
            "grid_area": null,
            "grid_auto_columns": null,
            "grid_auto_flow": null,
            "grid_auto_rows": null,
            "grid_column": null,
            "grid_gap": null,
            "grid_row": null,
            "grid_template_areas": null,
            "grid_template_columns": null,
            "grid_template_rows": null,
            "height": null,
            "justify_content": null,
            "justify_items": null,
            "left": null,
            "margin": null,
            "max_height": null,
            "max_width": null,
            "min_height": null,
            "min_width": null,
            "object_fit": null,
            "object_position": null,
            "order": null,
            "overflow": null,
            "overflow_x": null,
            "overflow_y": null,
            "padding": null,
            "right": null,
            "top": null,
            "visibility": null,
            "width": null
          }
        },
        "a8e70cfd30e446818c43d0439eae5298": {
          "model_module": "@jupyter-widgets/controls",
          "model_name": "DescriptionStyleModel",
          "model_module_version": "1.5.0",
          "state": {
            "_model_module": "@jupyter-widgets/controls",
            "_model_module_version": "1.5.0",
            "_model_name": "DescriptionStyleModel",
            "_view_count": null,
            "_view_module": "@jupyter-widgets/base",
            "_view_module_version": "1.2.0",
            "_view_name": "StyleView",
            "description_width": ""
          }
        }
      }
    }
  },
  "cells": [
    {
      "cell_type": "markdown",
      "metadata": {
        "id": "view-in-github",
        "colab_type": "text"
      },
      "source": [
        "<a href=\"https://colab.research.google.com/github/bosunKwak/BigData/blob/main/overall_process.ipynb\" target=\"_parent\"><img src=\"https://colab.research.google.com/assets/colab-badge.svg\" alt=\"Open In Colab\"/></a>"
      ]
    },
    {
      "cell_type": "markdown",
      "source": [
        "# 기본적인 흐름"
      ],
      "metadata": {
        "id": "gYVPigAYod-x"
      }
    },
    {
      "cell_type": "markdown",
      "source": [
        "<center><img width=\"500\" alt=\"스크린샷 2022-04-18 오후 4 37 29\" src=\"https://user-images.githubusercontent.com/87002218/163774262-7df26e60-6892-45f4-8c25-e2bf7bd68136.png\"></center>\n",
        "\n"
      ],
      "metadata": {
        "id": "S4p1b5GnmjaN"
      }
    },
    {
      "cell_type": "markdown",
      "source": [
        "1. 데이터를 학습할 때, 크게 세 부분으로 나눔\n",
        "- trainset(+ validation), testset\n",
        "   - trainset, validation set : 모델을 학습하는 과정에서 사용\n",
        "   - testset : 모델 성능 평가할 때 사용 <br>\n",
        "\n",
        "<br>\n",
        "\n",
        "2. Model을 함수로 볼 수 있음 <br>\n",
        " y hat = f( X, w)\n",
        "- parameter를 찾는 것 == 학습을 한다\n",
        "- X : data\n",
        "- y hat : 예측값\n",
        "\n",
        "<br>\n",
        "\n",
        "3. 예측값이 잘 예측이 됐는지 평가\n",
        "L(y,y hat)\n",
        "- L (Loss function) : 실제 값과 예측값이 얼마나 차이나는지 정의해주는 함수\n",
        "- 오차/ 에러를 측정하는 방법을 정의해주어야 함 \n",
        "\n",
        "<br>\n",
        "\n",
        "4. 예측값이 실제값과의 차이가 적도록 계속해서 학습을 시켜줌\n",
        "- Loss가 가장 작아질때의 Parameter를 찾아줌  == train이 됨\n",
        "\n",
        "<br>\n",
        "\n",
        "5. train이 다 됐다(== parameter를 찾았다)라고 판단이 되면,<br>\n",
        "train이 된 모델(y hat = f(X,w))을 최종적으로 testset을 대입하여 <br>\n",
        "예측값과 실제 testset 값 차이 비교"
      ],
      "metadata": {
        "id": "-Q000G6Smyfb"
      }
    },
    {
      "cell_type": "markdown",
      "source": [
        "# The Overall Process\n",
        "1. Data prepartion stage\n",
        "  - 1) Load data\n",
        "    - built-in classes : Dataset, Sampler, DataLoader\n",
        "  - 2) Transform (convert it to numeric values)\n",
        "  - 3) Batching (batch 단위로 묶음)\n",
        "\n",
        "2. Model Development stage\n",
        "  - 1) Design \n",
        "  - 2) Training \n",
        "    - (weight 값을 찾는 것 == 학습을 시킴)\n",
        "    - 예측한 결과와 실제 나온 결과의 오차가 가장 minimum 하도록\n",
        "  - 3) Testing\n",
        "  - Pytorch의 경우 \"torch.nn\" module 사용\n",
        "  - Separate dataset into 3 parts : training, validation, testing\n",
        "  - Define a loss function and optimizer\n",
        "  - Backpropagating and Update\n",
        "\n",
        "3. Model Deployment stage\n",
        "  - File에 저장하거나 배포"
      ],
      "metadata": {
        "id": "WF2YW1APisBE"
      }
    },
    {
      "cell_type": "markdown",
      "source": [
        "## 1.Data Preparation Stage\n"
      ],
      "metadata": {
        "id": "zqXpuWAomjJC"
      }
    },
    {
      "cell_type": "markdown",
      "source": [
        "### 1) Data Loading\n",
        "Example(CIFAR-10)"
      ],
      "metadata": {
        "id": "JEYSstJdnCIk"
      }
    },
    {
      "cell_type": "code",
      "source": [
        "# torchvision : 이미지 관련된 model이나 model 관련 dataset들이 들어있는 모듈\n",
        "from torchvision.datasets import CIFAR10\n",
        "\n",
        "# 파일 다운\n",
        "train_data = CIFAR10(root=\"./train/\",\n",
        "                    train=True, \n",
        "                    download=True)"
      ],
      "metadata": {
        "colab": {
          "base_uri": "https://localhost:8080/",
          "height": 84,
          "referenced_widgets": [
            "60e0d9b3b2194badbd46771e66335d32",
            "9abbfd8284aa4057bfae2a5e8e0a2846",
            "14f247c5e6af44688657f7068c008dfe",
            "fcf61938e2a140e9993a878e399de42b",
            "dfc2d032509e4492b120f201c8fd597b",
            "feb2bf5153dc4bd0bb7b1de0b4fec04d",
            "76bf3165724d4cebafa64421e518d7e9",
            "70d56ada65534b349f8e9be62fe14d33",
            "ce3ef6b47de34ae9b96c3fc34c63aad5",
            "98573c98bb20404eaf1b0943a835b539",
            "764f9ad013f74b6291032dee682333b3"
          ]
        },
        "id": "k4KZrakF6LcP",
        "outputId": "a1320282-3134-4efd-fc0c-7dda19a59bb0"
      },
      "execution_count": 1,
      "outputs": [
        {
          "output_type": "stream",
          "name": "stdout",
          "text": [
            "Downloading https://www.cs.toronto.edu/~kriz/cifar-10-python.tar.gz to ./train/cifar-10-python.tar.gz\n"
          ]
        },
        {
          "output_type": "display_data",
          "data": {
            "text/plain": [
              "  0%|          | 0/170498071 [00:00<?, ?it/s]"
            ],
            "application/vnd.jupyter.widget-view+json": {
              "version_major": 2,
              "version_minor": 0,
              "model_id": "60e0d9b3b2194badbd46771e66335d32"
            }
          },
          "metadata": {}
        },
        {
          "output_type": "stream",
          "name": "stdout",
          "text": [
            "Extracting ./train/cifar-10-python.tar.gz to ./train/\n"
          ]
        }
      ]
    },
    {
      "cell_type": "code",
      "source": [
        "# data 확인\n",
        "print(train_data)\n",
        "\n",
        "# data 길이(개수)\n",
        "print(len(train_data)) # out: 50000\n",
        "\n",
        "# 차원\n",
        "print(train_data.data.shape) \n",
        "#(50000, 32, 32, 3)  - 50000개의 set, 32 x 32 인 color image가 3개의 channel로 있음\n",
        "\n",
        "# target : label (분류하고자하는 정답)\n",
        "#print(train_data.targets) # list. 너무 많아서 생략. \n",
        "\n",
        "# 각 class 이름\n",
        "print(train_data.classes)\n",
        "\n",
        "# class가 target에 어떻게 매핑되는지 확인\n",
        "print(train_data.class_to_idx)"
      ],
      "metadata": {
        "colab": {
          "base_uri": "https://localhost:8080/"
        },
        "id": "-chzdrfB8RuL",
        "outputId": "7000a38f-6503-4dd3-ad5e-3e443318685f"
      },
      "execution_count": 2,
      "outputs": [
        {
          "output_type": "stream",
          "name": "stdout",
          "text": [
            "Dataset CIFAR10\n",
            "    Number of datapoints: 50000\n",
            "    Root location: ./train/\n",
            "    Split: Train\n",
            "50000\n",
            "(50000, 32, 32, 3)\n",
            "['airplane', 'automobile', 'bird', 'cat', 'deer', 'dog', 'frog', 'horse', 'ship', 'truck']\n",
            "{'airplane': 0, 'automobile': 1, 'bird': 2, 'cat': 3, 'deer': 4, 'dog': 5, 'frog': 6, 'horse': 7, 'ship': 8, 'truck': 9}\n"
          ]
        }
      ]
    },
    {
      "cell_type": "code",
      "source": [
        "# 첫번째 train data의 type\n",
        "print(type(train_data[0]))\n",
        "# <class 'tuple'>\n",
        "# tuple : array와 비슷 + 속성을 변경할 수 없는 특징\n",
        "\n",
        "# 첫 번째 train data의 길이(개수) : 몇 개의 data로 되어있는지 확인\n",
        "print(len(train_data[0]))\n",
        "\n",
        "data, label = train_data[0]\n",
        "\n",
        "# 이미지 타입\n",
        "print(type(data))\n",
        "#<class 'PIL.Image.Image'>\n",
        "\n",
        "# 이미지 정보 \n",
        "print(data)"
      ],
      "metadata": {
        "colab": {
          "base_uri": "https://localhost:8080/"
        },
        "id": "u5YxrN_xBjhX",
        "outputId": "df4a9dcf-ac83-4528-9bef-e996ab6820ac"
      },
      "execution_count": 3,
      "outputs": [
        {
          "output_type": "stream",
          "name": "stdout",
          "text": [
            "<class 'tuple'>\n",
            "2\n",
            "<class 'PIL.Image.Image'>\n",
            "<PIL.Image.Image image mode=RGB size=32x32 at 0x7FF8F17DAC50>\n"
          ]
        }
      ]
    },
    {
      "cell_type": "code",
      "source": [
        "import matplotlib.pyplot as plt\n",
        "\n",
        "plt.imshow(data)"
      ],
      "metadata": {
        "colab": {
          "base_uri": "https://localhost:8080/",
          "height": 284
        },
        "id": "W8ll3lX6CHmE",
        "outputId": "1f4664f9-8ff5-4820-ef10-93f7a432e339"
      },
      "execution_count": 4,
      "outputs": [
        {
          "output_type": "execute_result",
          "data": {
            "text/plain": [
              "<matplotlib.image.AxesImage at 0x7ff8f17f9d10>"
            ]
          },
          "metadata": {},
          "execution_count": 4
        },
        {
          "output_type": "display_data",
          "data": {
            "text/plain": [
              "<Figure size 432x288 with 1 Axes>"
            ],
            "image/png": "[encoded data removed]"
          },
          "metadata": {
            "needs_background": "light"
          }
        }
      ]
    },
    {
      "cell_type": "code",
      "source": [
        "print(type(label))\n",
        "# out: <class 'int'>\n",
        "\n",
        "print(label)\n",
        "# out: 6 \n",
        "# 이렇게 숫자로 보면 직관적이지 않으므로, 아래 코드를 통해 train data class의 이름을 가져옴\n",
        "print(train_data.classes[label])\n",
        "# out: frog"
      ],
      "metadata": {
        "colab": {
          "base_uri": "https://localhost:8080/"
        },
        "id": "H3a5gxnbCY6R",
        "outputId": "8fb41197-fb9b-40a0-9c3a-18ffbdffb3cd"
      },
      "execution_count": 5,
      "outputs": [
        {
          "output_type": "stream",
          "name": "stdout",
          "text": [
            "<class 'int'>\n",
            "6\n",
            "frog\n"
          ]
        }
      ]
    },
    {
      "cell_type": "code",
      "source": [
        "test_data = CIFAR10(root=\"./test/\", \n",
        "                    train=False, # 이 부분만 다름\n",
        "                    download=True)\n",
        "\n",
        "print(test_data)\n",
        "print(len(test_data))\n",
        "\n",
        "print(test_data.data.shape) # test 개수만 다른 것을 확인할 수 있음 \n",
        "# out: (10000, 32, 32, 3)"
      ],
      "metadata": {
        "colab": {
          "base_uri": "https://localhost:8080/",
          "height": 192,
          "referenced_widgets": [
            "388d5557f5ec471faf1652211777b8bb",
            "de0ab6e4e90a4005a82737896a42e3a4",
            "d8e1e0cf5b3e435086f6bb2c9cc5ab2b",
            "5b089476857844f5bb4005f4ac56beeb",
            "211a8d67e5d34080a34f48b6becc3ce1",
            "30836284fc8248a0a5c468df6ba28d82",
            "fe42e5f3ace14defbc0155d16bce67ad",
            "967cf6cab84041cfb8acae95bc45ca85",
            "2a9adf266f0b46fc9eee02e24234b510",
            "a53dbd2989c6459da00ad8f44cfdb945",
            "9750695b4e1d4a94b24cb9b26f5514d0"
          ]
        },
        "id": "b5a9hC1jCuOs",
        "outputId": "4679352c-3a42-4e42-e3f5-f31508276329"
      },
      "execution_count": 6,
      "outputs": [
        {
          "output_type": "stream",
          "name": "stdout",
          "text": [
            "Downloading https://www.cs.toronto.edu/~kriz/cifar-10-python.tar.gz to ./test/cifar-10-python.tar.gz\n"
          ]
        },
        {
          "output_type": "display_data",
          "data": {
            "text/plain": [
              "  0%|          | 0/170498071 [00:00<?, ?it/s]"
            ],
            "application/vnd.jupyter.widget-view+json": {
              "version_major": 2,
              "version_minor": 0,
              "model_id": "388d5557f5ec471faf1652211777b8bb"
            }
          },
          "metadata": {}
        },
        {
          "output_type": "stream",
          "name": "stdout",
          "text": [
            "Extracting ./test/cifar-10-python.tar.gz to ./test/\n",
            "Dataset CIFAR10\n",
            "    Number of datapoints: 10000\n",
            "    Root location: ./test/\n",
            "    Split: Test\n",
            "10000\n",
            "(10000, 32, 32, 3)\n"
          ]
        }
      ]
    },
    {
      "cell_type": "markdown",
      "source": [
        "### 2) Data Transforms\n",
        "\n",
        "변환을 해주는 이유?\n",
        "- 학습을 잘 하기 위해서\n",
        "- model이 사용할 수 있는 형태로 변환해 주기 위해서\n"
      ],
      "metadata": {
        "id": "29VuDV2pC6DQ"
      }
    },
    {
      "cell_type": "code",
      "source": [
        "from torchvision import transforms\n",
        "\n",
        "train_transforms = transforms.Compose([\n",
        "  transforms.RandomCrop(32, padding=4),\n",
        "  transforms.RandomHorizontalFlip(),\n",
        "  transforms.ToTensor(),\n",
        "  transforms.Normalize(\n",
        "      (0.4914, 0.4822, 0.4465),\n",
        "      (0.2023, 0.1994, 0.2010))])\n",
        "\n",
        "train_data = CIFAR10(root=\"./train/\",\n",
        "                    train=True, \n",
        "                    download=True,\n",
        "                    transform=train_transforms)\n",
        "\n",
        "print(train_data)\n",
        "print(train_data.transforms)"
      ],
      "metadata": {
        "colab": {
          "base_uri": "https://localhost:8080/"
        },
        "id": "neN5trb8C-1y",
        "outputId": "112c60e8-6870-468e-8bf1-96b4c99ac0e6"
      },
      "execution_count": 7,
      "outputs": [
        {
          "output_type": "stream",
          "name": "stdout",
          "text": [
            "Files already downloaded and verified\n",
            "Dataset CIFAR10\n",
            "    Number of datapoints: 50000\n",
            "    Root location: ./train/\n",
            "    Split: Train\n",
            "    StandardTransform\n",
            "Transform: Compose(\n",
            "               RandomCrop(size=(32, 32), padding=4)\n",
            "               RandomHorizontalFlip(p=0.5)\n",
            "               ToTensor()\n",
            "               Normalize(mean=(0.4914, 0.4822, 0.4465), std=(0.2023, 0.1994, 0.201))\n",
            "           )\n",
            "StandardTransform\n",
            "Transform: Compose(\n",
            "               RandomCrop(size=(32, 32), padding=4)\n",
            "               RandomHorizontalFlip(p=0.5)\n",
            "               ToTensor()\n",
            "               Normalize(mean=(0.4914, 0.4822, 0.4465), std=(0.2023, 0.1994, 0.201))\n",
            "           )\n"
          ]
        }
      ]
    },
    {
      "cell_type": "code",
      "source": [
        "# 첫번째 image만 가져와서 확인\n",
        "data, label = train_data[0]\n",
        "\n",
        "print(type(data))\n",
        "# <class 'torch.Tensor'> : Tensor로 바뀐것을 확인 할 수 있음\n",
        "\n",
        "print(data.size())\n",
        "# torch.Size([3, 32, 32]) : 채널 정보가 앞으로 감 \n",
        "\n",
        "# print(data) "
      ],
      "metadata": {
        "colab": {
          "base_uri": "https://localhost:8080/"
        },
        "id": "BnIVqve7Dtah",
        "outputId": "3c08bade-9c49-4f88-d497-0d508d05bf76"
      },
      "execution_count": 8,
      "outputs": [
        {
          "output_type": "stream",
          "name": "stdout",
          "text": [
            "<class 'torch.Tensor'>\n",
            "torch.Size([3, 32, 32])\n"
          ]
        }
      ]
    },
    {
      "cell_type": "code",
      "source": [
        "# permute : 차원의 순서를 변경해줌 (\"3,32,32\"를 \"32, 32, 3\"으로 변환)\n",
        "plt.imshow(data.permute(1, 2, 0))"
      ],
      "metadata": {
        "colab": {
          "base_uri": "https://localhost:8080/",
          "height": 301
        },
        "id": "YysMcUM3EC_C",
        "outputId": "366df0a4-4e38-4a9c-cfec-a2d30da0781d"
      },
      "execution_count": 9,
      "outputs": [
        {
          "output_type": "stream",
          "name": "stderr",
          "text": [
            "Clipping input data to the valid range for imshow with RGB data ([0..1] for floats or [0..255] for integers).\n"
          ]
        },
        {
          "output_type": "execute_result",
          "data": {
            "text/plain": [
              "<matplotlib.image.AxesImage at 0x7ff8f113efd0>"
            ]
          },
          "metadata": {},
          "execution_count": 9
        },
        {
          "output_type": "display_data",
          "data": {
            "text/plain": [
              "<Figure size 432x288 with 1 Axes>"
            ],
            "image/png": "[encoded data removed]"
          },
          "metadata": {
            "needs_background": "light"
          }
        }
      ]
    },
    {
      "cell_type": "code",
      "source": [
        "# test set을 불러올때도 변환을 해 줌\n",
        "# 성능 향상을 위한 이미지 전처리가 필요 없음\n",
        "test_transforms = transforms.Compose([\n",
        "  transforms.ToTensor(),\n",
        "  transforms.Normalize(\n",
        "      (0.4914, 0.4822, 0.4465),\n",
        "      (0.2023, 0.1994, 0.2010))])\n",
        "\n",
        "test_data = CIFAR10(\n",
        "      root=\"./test/\", \n",
        "      train=False, \n",
        "      transform=test_transforms)\n",
        "\n",
        "print(test_data)"
      ],
      "metadata": {
        "colab": {
          "base_uri": "https://localhost:8080/"
        },
        "id": "bzyyuPxRE7T1",
        "outputId": "c0d2930c-86cd-4bdd-f276-9a4628a6b888"
      },
      "execution_count": 10,
      "outputs": [
        {
          "output_type": "stream",
          "name": "stdout",
          "text": [
            "Dataset CIFAR10\n",
            "    Number of datapoints: 10000\n",
            "    Root location: ./test/\n",
            "    Split: Test\n",
            "    StandardTransform\n",
            "Transform: Compose(\n",
            "               ToTensor()\n",
            "               Normalize(mean=(0.4914, 0.4822, 0.4465), std=(0.2023, 0.1994, 0.201))\n",
            "           )\n"
          ]
        }
      ]
    },
    {
      "cell_type": "markdown",
      "source": [
        "#### * 데이터를 직접 불러오는 방식\n",
        "> - Dataset : 소스에서 data를 불러오는 것\n",
        "> - DataLoader : Sampler를 통해 불러온 data의 일부만 가져옴\n",
        "> - Sampler : 불러온 dataset에서 sampling해서 쓰거나, 특정 크기로 batch(잘라서 사용)\n",
        "\n",
        "> 위 클래스들은 torch.utils.data 안에 있음 <br>\n",
        "> ⭐️ 아래 코드처럼 custom한 dataset을 쓸 수 있는데, \"init, len, getitem\"를 정의해주어야한다⭐️"
      ],
      "metadata": {
        "id": "cv9Sa2GHFx5x"
      }
    },
    {
      "cell_type": "markdown",
      "source": [
        "##### - Dataset class"
      ],
      "metadata": {
        "id": "D73hjColfyhs"
      }
    },
    {
      "cell_type": "code",
      "source": [
        "# (주어진 Dataset이 없어서 코드 안돌아감)\n",
        "\n",
        "import torch.utils.data\n",
        "\n",
        "# Dataset를 상속받아 사용 - init, len, getitem \n",
        "class CustomImageDataset(Dataset):\n",
        "  # 1. init : 초기화 할 내용 \n",
        "  def __init__(self, annotations_file, img_dir, transform=None, target_transform=None): # file 경로, image경로, 변환정보, 타깃변환정보\n",
        "    self.img_labels = pd.read_csv(annotations_file) \n",
        "    self.img_dir = img_dir\n",
        "    self.transform = transform\n",
        "    self.target_transform = target_transform\n",
        "\n",
        "  # 2. len : 데이터의 개수 반환\n",
        "  def __len__(self):\n",
        "    return len(self.img_labels)\n",
        "\n",
        "  # 3. getitem : 데이터의 값 전달 \n",
        "  def __getitem__(self, idx):\n",
        "    img_path = os.path.join(self.img_dir, self.img_labels.iloc[idx, 0])\n",
        "    image = read_image(img_path)\n",
        "    label = self.img_labels.iloc[idx, 1]\n",
        "    if self.transform:\n",
        "      image = self.transform(image)\n",
        "    if self.target_transform:\n",
        "      label = self.target_transform(label)\n",
        "    return image, label\n"
      ],
      "metadata": {
        "id": "7p4MD_RxKvXp"
      },
      "execution_count": 12,
      "outputs": []
    },
    {
      "cell_type": "markdown",
      "source": [
        "##### - Data Loader class"
      ],
      "metadata": {
        "id": "YVZU1gcxfv_3"
      }
    },
    {
      "cell_type": "code",
      "source": [
        "# (주어진 Dataset이 없어서 코드 안돌아감)\n",
        "\n",
        "# 주로 dataset(inputdata), batch size, shuffle, sampler  4개 사용\n",
        "torch.utils.data.DataLoader(\n",
        "    dataset,\n",
        "    batch_size = 4,\n",
        "    shuffle=False,\n",
        "    sampler = None\n",
        ")"
      ],
      "metadata": {
        "id": "3Abr071yfg1R"
      },
      "execution_count": 13,
      "outputs": []
    },
    {
      "cell_type": "markdown",
      "source": [
        "### 3) Data Batching\n",
        "\n",
        "> DataLoader class 사용"
      ],
      "metadata": {
        "id": "WHuHg-7U8KCO"
      }
    },
    {
      "cell_type": "code",
      "source": [
        "trainloader = torch.utils.data.DataLoader(\n",
        "                    train_data, \n",
        "                    batch_size=16, \n",
        "                    shuffle=True)\n",
        "\n",
        "# iteration 객체로 만듦\n",
        "data_batch, labels_batch = next(iter(trainloader))\n",
        "\n",
        "print(data_batch.size())\n",
        "# out : torch.Size([16, 3, 32, 32]) # 32 x 32 이미지가 3채널 있고, 16개씩 데이터가 묶여서 나옴\n",
        "\n",
        "print(labels_batch.size())\n",
        "\n",
        "# test도 동일한 방식으로\n",
        "testloader = torch.utils.data.DataLoader(\n",
        "                    test_data, \n",
        "                    batch_size=16, \n",
        "                    shuffle=False)"
      ],
      "metadata": {
        "colab": {
          "base_uri": "https://localhost:8080/"
        },
        "id": "-qROuMHxg-9B",
        "outputId": "41d5e56b-20fe-4169-bb61-1b0e426055f8"
      },
      "execution_count": 14,
      "outputs": [
        {
          "output_type": "stream",
          "name": "stdout",
          "text": [
            "torch.Size([16, 3, 32, 32])\n",
            "torch.Size([16])\n"
          ]
        }
      ]
    },
    {
      "cell_type": "markdown",
      "source": [
        "## 2.Model Development stage\n"
      ],
      "metadata": {
        "id": "DqOf3I9Gib-o"
      }
    },
    {
      "cell_type": "markdown",
      "source": [
        "### 1) Model Design\n",
        "- ex) input 2, output 1개일 때, 두 개의 값을 연산하고 임계치를 넘으면 output으로 내보낼지 여부를 결정하는 활성함수를 거치는 이런 구조를 짜주는 것\n",
        "- parameter : 선 (중요도 증가 : 값이 커짐 == 선이 굵어짐 == 해당 input 비중이 커짐) -> 시각적으로 표현하면, matrix로 표현됨\n",
        "- 기존에 존재하는 모델의 일부만 수정하는 형태로 많이 사용( == 전이학습 )"
      ],
      "metadata": {
        "id": "QK0h_FCKidsY"
      }
    },
    {
      "cell_type": "code",
      "source": [
        "from torchvision import models\n",
        "vgg16 = models.vgg16(pretrained = True) #pretrained = True : 이미 학습이 된 모델 가져옴\n"
      ],
      "metadata": {
        "colab": {
          "base_uri": "https://localhost:8080/",
          "height": 67,
          "referenced_widgets": [
            "cc0bfec7f551489eb1db078c42200bb5",
            "5125f4950c97435ebe30869a34b7e1bb",
            "73ffc08bf5b041e8a474eb6bf77b7349",
            "e34c59d9370f4b2f84a75815b86e00fd",
            "f859e5700f5646ea86e488bd893dc9e2",
            "0c1573835faf492a9fef8b7b512ecd6e",
            "b1e5bb93370641dc94a848004f05047b",
            "fe576f9dc2ed4e88bfc9752f3874ab8b",
            "8be2d22ee77f4cabbb60d13356bdcef3",
            "12b00dda8cd94b67badcbe287ef09feb",
            "a8e70cfd30e446818c43d0439eae5298"
          ]
        },
        "id": "hX01BuHVHNPI",
        "outputId": "a0305305-7620-4e6a-a42f-3413dc6acafd"
      },
      "execution_count": 15,
      "outputs": [
        {
          "output_type": "stream",
          "name": "stderr",
          "text": [
            "Downloading: \"https://download.pytorch.org/models/vgg16-397923af.pth\" to /root/.cache/torch/hub/checkpoints/vgg16-397923af.pth\n"
          ]
        },
        {
          "output_type": "display_data",
          "data": {
            "text/plain": [
              "  0%|          | 0.00/528M [00:00<?, ?B/s]"
            ],
            "application/vnd.jupyter.widget-view+json": {
              "version_major": 2,
              "version_minor": 0,
              "model_id": "cc0bfec7f551489eb1db078c42200bb5"
            }
          },
          "metadata": {}
        }
      ]
    },
    {
      "cell_type": "code",
      "source": [
        "# 모델 구조\n",
        "print(vgg16.classifier)"
      ],
      "metadata": {
        "colab": {
          "base_uri": "https://localhost:8080/"
        },
        "id": "AFGSby50Hiw2",
        "outputId": "5abe8762-6ffa-4e87-9f51-bbdeb46734d0"
      },
      "execution_count": 16,
      "outputs": [
        {
          "output_type": "stream",
          "name": "stdout",
          "text": [
            "Sequential(\n",
            "  (0): Linear(in_features=25088, out_features=4096, bias=True)\n",
            "  (1): ReLU(inplace=True)\n",
            "  (2): Dropout(p=0.5, inplace=False)\n",
            "  (3): Linear(in_features=4096, out_features=4096, bias=True)\n",
            "  (4): ReLU(inplace=True)\n",
            "  (5): Dropout(p=0.5, inplace=False)\n",
            "  (6): Linear(in_features=4096, out_features=1000, bias=True)\n",
            ")\n"
          ]
        }
      ]
    },
    {
      "cell_type": "markdown",
      "source": [
        "⭐️ The PyTorch NN Module (torch.nn) ⭐️ "
      ],
      "metadata": {
        "id": "HheW_b6ZOPCa"
      }
    },
    {
      "cell_type": "code",
      "source": [
        "import torch.nn as nn\n",
        "import torch.nn.functional as F\n",
        "\n",
        "# class : Architecture block 하나 만든다라고 생각하면 됨 \n",
        "class SimpleNet(nn.Module):\n",
        "\n",
        "    # 1. init : 큰 뼈대를 잡는다\n",
        "    def __init__(self):\n",
        "        super(SimpleNet, self).__init__() # 초기화 \n",
        "        self.fc1 = nn.Linear(2048, 256)  # (input개수, output개수) 넣으면 자동으로 만들어줌\n",
        "        self.fc2 = nn.Linear(256, 64)\n",
        "        self.fc3 = nn.Linear(64,2)\n",
        "\n",
        "    # 2. forward \n",
        "    def forward(self, x):\n",
        "        x = x.view(-1, 2048) # view : shape를 바꿔줌 \n",
        "        #(-1:추론을 해서 정해줌)\n",
        "        #(2048개로 맞춰줌 ex) 4096 data 들어왔을때, 2048개로 맞춰 바꿔줌 == 2048 2개 생김)\n",
        "\n",
        "        x = F.relu(self.fc1(x))\n",
        "        x = F.relu(self.fc2(x))\n",
        "        x = F.softmax(self.fc3(x),dim=1)\n",
        "        return x\n",
        "\n",
        "simplenet = SimpleNet()\n",
        "print(simplenet)"
      ],
      "metadata": {
        "colab": {
          "base_uri": "https://localhost:8080/"
        },
        "id": "8IhhGr4TOLHX",
        "outputId": "533b1885-30a6-43bc-ee77-eb0f9f5acf9c"
      },
      "execution_count": 17,
      "outputs": [
        {
          "output_type": "stream",
          "name": "stdout",
          "text": [
            "SimpleNet(\n",
            "  (fc1): Linear(in_features=2048, out_features=256, bias=True)\n",
            "  (fc2): Linear(in_features=256, out_features=64, bias=True)\n",
            "  (fc3): Linear(in_features=64, out_features=2, bias=True)\n",
            ")\n"
          ]
        }
      ]
    },
    {
      "cell_type": "markdown",
      "source": [
        "### 2) Training\n",
        "- matrix 안의 값들을 찾아주는 단계\n",
        "- output(y hat)과 실제값(y)의 차이를 구해(Loss function) 가장 최소가 되도록 학습\n",
        "- validation : L(y hat, y) 에서 사용"
      ],
      "metadata": {
        "id": "9wGrljthG0IV"
      }
    },
    {
      "cell_type": "markdown",
      "source": [
        "ex) LeNet5 예시"
      ],
      "metadata": {
        "id": "uBH4-VS9cAhE"
      }
    },
    {
      "cell_type": "code",
      "source": [
        "# Design\n",
        "from torch import nn\n",
        "import torch.nn.functional as F\n",
        "\n",
        "class LeNet5(nn.Module):\n",
        "    def __init__(self):\n",
        "        super(LeNet5, self).__init__()\n",
        "        self.conv1 = nn.Conv2d(3, 6, 5) # <1>\n",
        "        self.conv2 = nn.Conv2d(6, 16, 5)\n",
        "        self.fc1 = nn.Linear(16 * 5 * 5, 120)\n",
        "        self.fc2 = nn.Linear(120, 84)\n",
        "        self.fc3 = nn.Linear(84, 10)\n",
        "\n",
        "    def forward(self, x):\n",
        "        x = F.max_pool2d(F.relu(self.conv1(x)), (2, 2))\n",
        "        x = F.max_pool2d(F.relu(self.conv2(x)), 2)\n",
        "        x = x.view(-1, int(x.nelement() / x.shape[0]))\n",
        "        x = F.relu(self.fc1(x))\n",
        "        x = F.relu(self.fc2(x))\n",
        "        x = self.fc3(x)\n",
        "        return x\n",
        "\n",
        "device = \"cuda\" if torch.cuda.is_available() else \"cpu\"\n",
        "model = LeNet5().to(device=device)"
      ],
      "metadata": {
        "id": "S4IZBhoqb2YO"
      },
      "execution_count": 18,
      "outputs": []
    },
    {
      "cell_type": "markdown",
      "source": [
        "two loop\n",
        "1. epoch 단위\n",
        "2. trainloader 단위"
      ],
      "metadata": {
        "id": "hqC0B7-4h3uf"
      }
    },
    {
      "cell_type": "code",
      "source": [
        "# Training\n",
        "from torch import optim\n",
        "from torch import nn\n",
        "\n",
        "criterion = nn.CrossEntropyLoss()\n",
        "optimizer = optim.SGD(model.parameters(), #   parameter 넘겨주기\n",
        "                      lr=0.001, \n",
        "                      momentum=0.9)\n",
        "\n",
        "N_EPOCHS = 10 \n",
        "for epoch in range(N_EPOCHS): \n",
        "\n",
        "    epoch_loss = 0.0\n",
        "    for inputs, labels in trainloader:\n",
        "        inputs = inputs.to(device) \n",
        "        labels = labels.to(device)\n",
        "\n",
        "        optimizer.zero_grad() \n",
        "\n",
        "        outputs = model(inputs)  # 예측\n",
        "        loss = criterion(outputs, labels)  # loss 측정\n",
        "        loss.backward() # backward\n",
        "        optimizer.step() # parameter 업데이트\n",
        "\n",
        "        epoch_loss += loss.item() # loss.item : loss의 값을 불러오는 것. loss 값을 epoch_loss에 더해라\n",
        "\n",
        "    print(\"Epoch: {} Loss: {}\".format(epoch, \n",
        "                  epoch_loss/len(trainloader)))\n"
      ],
      "metadata": {
        "colab": {
          "base_uri": "https://localhost:8080/"
        },
        "id": "If0Soi7nilkP",
        "outputId": "8da40654-de8a-4a26-d186-b656f413eb4c"
      },
      "execution_count": 19,
      "outputs": [
        {
          "output_type": "stream",
          "name": "stdout",
          "text": [
            "Epoch: 0 Loss: 1.9468747652435303\n",
            "Epoch: 1 Loss: 1.6193600166893005\n",
            "Epoch: 2 Loss: 1.501654266204834\n",
            "Epoch: 3 Loss: 1.416371376914978\n",
            "Epoch: 4 Loss: 1.3602591266822814\n",
            "Epoch: 5 Loss: 1.3136662984848022\n",
            "Epoch: 6 Loss: 1.2734754365539551\n",
            "Epoch: 7 Loss: 1.2407261481189729\n",
            "Epoch: 8 Loss: 1.2105141286563874\n",
            "Epoch: 9 Loss: 1.1870108254241942\n"
          ]
        }
      ]
    },
    {
      "cell_type": "markdown",
      "source": [
        "▶️ Validation\n",
        "- 학습하는 데 사용하지 않고 에러를 측정할 때 사용\n",
        "- 매 epoch마다\n"
      ],
      "metadata": {
        "id": "EitfAeLXFM9D"
      }
    },
    {
      "cell_type": "code",
      "source": [
        "from torch.utils.data import random_split\n",
        "# 학습을 하기 위해서,  trainset, validation set으로 나누는 데, 해당 코드에서는 random_split이 사용됨\n",
        "train_set, val_set = random_split(\n",
        "                      train_data, \n",
        "                      [40000, 10000])\n",
        "\n",
        "trainloader = torch.utils.data.DataLoader(\n",
        "                    train_set, \n",
        "                    batch_size=16, \n",
        "                    shuffle=True)\n",
        "\n",
        "valloader = torch.utils.data.DataLoader(\n",
        "                    val_set, \n",
        "                    batch_size=16, \n",
        "                    shuffle=True)\n",
        "\n",
        "print(len(trainloader)) # 40000/16  = 2500\n",
        "print(len(valloader)) # 10000/16 = 625\n",
        "\n",
        "# from torch import optim\n",
        "# from torch import nn\n",
        "\n",
        "# model = LeNet5().to(device)\n",
        "# criterion = nn.CrossEntropyLoss()\n",
        "# optimizer = optim.SGD(model.parameters(), \n",
        "#                       lr=0.001, \n",
        "#                       momentum=0.9)\n",
        "\n",
        "N_EPOCHS = 10\n",
        "for epoch in range(N_EPOCHS):\n",
        "\n",
        "    # Training \n",
        "    train_loss = 0.0\n",
        "    model.train() # 학습을 시키겠다는 것을 알려주는 코드\n",
        "    # 학습 loop\n",
        "    for inputs, labels in trainloader:\n",
        "        inputs = inputs.to(device)\n",
        "        labels = labels.to(device)\n",
        "\n",
        "        optimizer.zero_grad() # optimizer 초기화\n",
        "\n",
        "        outputs = model(inputs)\n",
        "        loss = criterion(outputs, labels) \n",
        "        loss.backward() \n",
        "        optimizer.step() \n",
        "\n",
        "        train_loss += loss.item()\n",
        "\n",
        "    # Validation\n",
        "    val_loss = 0.0\n",
        "    model.eval() # 평가, 학습 멈춤\n",
        "\n",
        "    for inputs, labels in valloader:\n",
        "        inputs = inputs.to(device)\n",
        "        labels = labels.to(device)\n",
        "\n",
        "        outputs = model(inputs)\n",
        "        loss = criterion(outputs, labels)\n",
        "\n",
        "        val_loss += loss.item()\n",
        "\n",
        "    print(\"Epoch: {} Train Loss: {} Val Loss: {}\".format(\n",
        "                  epoch, \n",
        "                  train_loss/len(trainloader), \n",
        "                  val_loss/len(valloader)))"
      ],
      "metadata": {
        "colab": {
          "base_uri": "https://localhost:8080/"
        },
        "id": "vvZ4MMD3GGyo",
        "outputId": "c4cf3e9f-81a3-4595-83d5-5a27b73a17be"
      },
      "execution_count": 20,
      "outputs": [
        {
          "output_type": "stream",
          "name": "stdout",
          "text": [
            "2500\n",
            "625\n"
          ]
        }
      ]
    },
    {
      "cell_type": "markdown",
      "source": [
        "### 3) Testing\n",
        "- 실제 testset으로 test\n",
        "- validation이나 test set은 train 할때, 사용하지 않았던 처음 본 data를 사용해야 함 \n",
        "- test set을 통해 측정된 모델의 성능 == 최종 성능"
      ],
      "metadata": {
        "id": "u54U2UR4G5gH"
      }
    },
    {
      "cell_type": "code",
      "source": [
        "num_correct = 0.0\n",
        "for x_test_batch, y_test_batch in testloader:\n",
        "  model.eval()\n",
        "  y_test_batch = y_test_batch.to(device)\n",
        "  x_test_batch = x_test_batch.to(device)\n",
        "  y_pred_batch = model(x_test_batch)\n",
        "  _, predicted = torch.max(y_pred_batch, 1)\n",
        "  num_correct += (predicted == y_test_batch).float().sum()\n",
        "  \n",
        "accuracy = num_correct/(len(testloader)*testloader.batch_size) \n",
        "\n",
        "print(len(testloader), testloader.batch_size)\n",
        "# out: 625 16\n",
        "\n",
        "print(\"Test Accuracy: {}\".format(accuracy))\n",
        "# out: Test Accuracy: 0.6322000026702881"
      ],
      "metadata": {
        "id": "yJm2o-XRIOaD"
      },
      "execution_count": null,
      "outputs": []
    },
    {
      "cell_type": "markdown",
      "source": [
        "## 3.Model Deployment\n",
        "- 배포"
      ],
      "metadata": {
        "id": "8rRSof17IqWn"
      }
    },
    {
      "cell_type": "code",
      "source": [
        "# dictionary type으로 저장\n",
        "torch.save(model.state_dict(), \"./lenet5_model.pt\")\n",
        "\n",
        "# model의 구조에 저장해놨던 모델 파라미터 값을 불러와 load_state_dict 형태로 다시 불러와주면 -> 구조에 파라미터 값들이 적용됨\n",
        "model = LeNet5().to(device)\n",
        "model.load_state_dict(torch.load(\"./lenet5_model.pt\"))"
      ],
      "metadata": {
        "id": "xfWgHv2tI2k5"
      },
      "execution_count": null,
      "outputs": []
    }
  ]
}